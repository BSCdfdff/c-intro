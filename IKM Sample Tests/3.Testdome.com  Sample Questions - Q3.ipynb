{
 "cells": [
  {
   "cell_type": "markdown",
   "metadata": {},
   "source": [
    "### Testdome sample questions\n",
    "\n",
    "_____\n",
    "\n",
    "https://www.testdome.com/t\n",
    "\n"
   ]
  },
  {
   "cell_type": "markdown",
   "metadata": {},
   "source": [
    "## Question 3"
   ]
  },
  {
   "cell_type": "markdown",
   "metadata": {},
   "source": [
    "Implement the UniqueNames method. When passed two arrays of names, it will return an array containing the names in either or both arrays. The returned array should have no duplicates.\n",
    "\n",
    "For example, calling MergeNames.EniqueNames(new string[]{'Ava','Emma', 'Olivia'}, new string[]{'Oliva', 'Sophia','Emma'}), should return an array containing: Ava, Emma, Olivia and Sophia in any order.\n",
    " \n",
    "Here is the code\n",
    " \n",
    "```\n",
    "using System;\n",
    "\n",
    "public class MergeNames\n",
    "{\n",
    "    public static string[] UniqueNames(string[] names1, string[] names2)\n",
    "    {\n",
    "        throw new NotImplementedException();\n",
    "    }\n",
    "    \n",
    "    public static void Main(string[] args)\n",
    "    {\n",
    "        string[] names1 = new string[] {\"Ava\", \"Emma\", \"Olivia\"};\n",
    "        string[] names2 = new string[] {\"Olivia\", \"Sophia\", \"Emma\"};\n",
    "        Console.WriteLine(string.Join(\", \", MergeNames.UniqueNames(names1, names2))); // should print Ava, Emma, Olivia, Sophia\n",
    "    }\n",
    "}\n",
    "```\n",
    "\n"
   ]
  },
  {
   "cell_type": "code",
   "execution_count": null,
   "metadata": {},
   "outputs": [],
   "source": [
    "using System;\n",
    "using System.Linq; "
   ]
  },
  {
   "cell_type": "code",
   "execution_count": 35,
   "metadata": {},
   "outputs": [],
   "source": [
    "public class MergeNames\n",
    "{\n",
    "    \n",
    "    public static string[] UniqueNames(string[] names1, string[] names2)\n",
    "    {\n",
    "        string [] namesUnique = new string[names1.Length+names2.Length];\n",
    "        \n",
    "        int i = 0;\n",
    "        foreach(string s in names1){\n",
    "            if(!namesUnique.Contains(s))\n",
    "            {\n",
    "                namesUnique[i++] = s;\n",
    "            }\n",
    "        }\n",
    "\n",
    "        foreach(string s in names2){\n",
    "            if(!namesUnique.Contains(s))\n",
    "            {\n",
    "                namesUnique[i++] = s;\n",
    "            }\n",
    "        }\n",
    "      return namesUnique;\n",
    "    }\n",
    "    \n",
    "}"
   ]
  },
  {
   "cell_type": "code",
   "execution_count": 47,
   "metadata": {},
   "outputs": [],
   "source": [
    "public class MergeNames2\n",
    "{\n",
    "    \n",
    "    public static string[] UniqueNames(string[] names1, string[] names2)\n",
    "    {\n",
    "        //string [] namesUnique = new string[names1.Length+names2.Length];\n",
    "        string [] namesUnique = new string[4];\n",
    "        \n",
    "        int i = 0;\n",
    "        foreach(string s in names1){\n",
    "            if (!Array.Exists(namesUnique, x => x == s))\n",
    "            {\n",
    "                namesUnique[i++] = s;\n",
    "            }\n",
    "        }\n",
    "\n",
    "        foreach(string s in names2){\n",
    "            if (!Array.Exists(namesUnique, x => x == s))\n",
    "            {\n",
    "                namesUnique[i++] = s;\n",
    "            }\n",
    "        }\n",
    "      return namesUnique;\n",
    "    }\n",
    "    \n",
    "}"
   ]
  },
  {
   "cell_type": "code",
   "execution_count": 48,
   "metadata": {},
   "outputs": [
    {
     "name": "stdout",
     "output_type": "stream",
     "text": [
      "Ava, Emma, Olivia, Sophia, , \n",
      "Ava, Emma, Olivia, Sophia\n"
     ]
    }
   ],
   "source": [
    "var mergeNames = new MergeNames();\n",
    "var mergeNames2 = new MergeNames2();\n",
    "\n",
    "string[] names1 = new string[] {\"Ava\", \"Emma\", \"Olivia\"};\n",
    "string[] names2 = new string[] {\"Olivia\", \"Sophia\", \"Emma\"};\n",
    "\n",
    "\n",
    "Console.WriteLine(string.Join(\", \", MergeNames.UniqueNames(names1, names2))); // should print Ava, Emma, Olivia, Sophia\n",
    "\n",
    "//Without Linq\n",
    "Console.WriteLine(string.Join(\", \", MergeNames2.UniqueNames(names1, names2))); // should print Ava, Emma, Olivia, Sophia"
   ]
  },
  {
   "cell_type": "code",
   "execution_count": null,
   "metadata": {},
   "outputs": [],
   "source": []
  },
  {
   "cell_type": "code",
   "execution_count": null,
   "metadata": {},
   "outputs": [],
   "source": []
  }
 ],
 "metadata": {
  "kernelspec": {
   "display_name": ".NET (C#)",
   "language": "C#",
   "name": ".net-csharp"
  },
  "language_info": {
   "file_extension": ".cs",
   "mimetype": "text/x-csharp",
   "name": "C#",
   "pygments_lexer": "csharp",
   "version": "8.0"
  }
 },
 "nbformat": 4,
 "nbformat_minor": 4
}
