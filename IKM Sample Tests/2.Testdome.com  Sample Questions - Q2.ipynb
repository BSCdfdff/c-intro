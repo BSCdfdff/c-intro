{
 "cells": [
  {
   "cell_type": "markdown",
   "metadata": {},
   "source": [
    "### Testdome sample questions\n",
    "\n",
    "_____\n",
    "\n",
    "https://www.testdome.com/t\n",
    "\n"
   ]
  },
  {
   "cell_type": "markdown",
   "metadata": {},
   "source": [
    "## Question 2"
   ]
  },
  {
   "cell_type": "markdown",
   "metadata": {},
   "source": [
    "Using only NUnitLite 1's Assert.AreEqual method, write tests for the Account class that cover the following  cases:\n",
    "\n",
    " - Deposit and Withdraw methods will not accept negative numbers.\n",
    " - Account cannot overstep its overdraft limit.\n",
    " - The Deposit and Withdraw methods will deposit or withdraw the correct amount, respectively.\n",
    " - The Withdraw and Deposit methods return the correct results.\n",
    "\n",
    " \n",
    " \n",
    "Here is the code\n",
    " \n",
    "```\n",
    "public class Account{\n",
    "    public double Balance(get; private set}\n",
    "    public double OverdraftLimit(getl private set;}\n",
    "    \n",
    "    public Account(double overdraftLimit){\n",
    "        this.OverdraftLimit=overdradrLimit > 0?overdraftLimit:0;\n",
    "        this.Balance =0;\n",
    "    }\n",
    "    \n",
    "    public bool Deposit(double amount){\n",
    "        if (amount >=0){\n",
    "            this.Balance+=amount;\n",
    "            return true;\n",
    "        \n",
    "        }\n",
    "        return false;\n",
    "    }\n",
    "    \n",
    "    public bool Withdraw(double amount){\n",
    "        if (this.Balance - amount >=-this.OverdraftLimit && amount >=0){\n",
    "        \n",
    "            this.Balance -=amount;\n",
    "            return true;\n",
    "        }\n",
    "        return false;\n",
    "    }\n",
    "}\n",
    "```\n",
    "\n",
    "Each of the test case methods should be in a Tester Class and have a Test Attibute\n"
   ]
  },
  {
   "cell_type": "code",
   "execution_count": null,
   "metadata": {},
   "outputs": [],
   "source": [
    "using System;\n",
    "using NUnit.Framework;"
   ]
  },
  {
   "cell_type": "code",
   "execution_count": null,
   "metadata": {},
   "outputs": [],
   "source": []
  },
  {
   "cell_type": "code",
   "execution_count": null,
   "metadata": {},
   "outputs": [],
   "source": []
  },
  {
   "cell_type": "code",
   "execution_count": null,
   "metadata": {},
   "outputs": [],
   "source": []
  },
  {
   "cell_type": "code",
   "execution_count": null,
   "metadata": {},
   "outputs": [],
   "source": []
  },
  {
   "cell_type": "code",
   "execution_count": null,
   "metadata": {},
   "outputs": [],
   "source": []
  }
 ],
 "metadata": {
  "kernelspec": {
   "display_name": ".NET (C#)",
   "language": "C#",
   "name": ".net-csharp"
  },
  "language_info": {
   "file_extension": ".cs",
   "mimetype": "text/x-csharp",
   "name": "C#",
   "pygments_lexer": "csharp",
   "version": "8.0"
  }
 },
 "nbformat": 4,
 "nbformat_minor": 4
}
