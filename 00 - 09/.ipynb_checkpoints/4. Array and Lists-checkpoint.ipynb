{
 "cells": [
  {
   "cell_type": "markdown",
   "metadata": {},
   "source": [
    "# Array and Lists\n",
    "\n",
    "____\n",
    "\n",
    "1. Introduction\n",
    "2. Array\n",
    "3. Lists\n"
   ]
  },
  {
   "cell_type": "code",
   "execution_count": 1,
   "metadata": {},
   "outputs": [
    {
     "data": {
      "text/html": [
       "\r\n",
       "<div>\r\n",
       "    <div id='dotnet-interactive-this-cell-92395aa7afe54046b3658cf57aba0298' style='display: none'>\r\n",
       "        The below script needs to be able to find the current output cell; this is an easy method to get it.\r\n",
       "    </div>\r\n",
       "    <script type='text/javascript'>\r\n",
       "// ensure `requirejs` is available globally\r\n",
       "if (typeof requirejs !== typeof Function || typeof requirejs.config !== typeof Function) {\r\n",
       "    let requirejs_script = document.createElement('script');\r\n",
       "    requirejs_script.setAttribute('src', 'https://cdnjs.cloudflare.com/ajax/libs/require.js/2.3.6/require.min.js');\r\n",
       "    requirejs_script.setAttribute('type', 'text/javascript');\r\n",
       "    requirejs_script.onload = function () {\r\n",
       "        loadDotnetInteractiveApi();\r\n",
       "    };\r\n",
       "\r\n",
       "    document.getElementsByTagName('head')[0].appendChild(requirejs_script);\r\n",
       "}\r\n",
       "else {\r\n",
       "    loadDotnetInteractiveApi();\r\n",
       "}\r\n",
       "\r\n",
       "async function probeAddresses(probingAddresses) {\r\n",
       "    function timeout(ms, promise) {\r\n",
       "        return new Promise(function (resolve, reject) {\r\n",
       "            setTimeout(function () {\r\n",
       "                reject(new Error('timeout'))\r\n",
       "            }, ms)\r\n",
       "            promise.then(resolve, reject)\r\n",
       "        })\r\n",
       "    }\r\n",
       "\r\n",
       "    if (Array.isArray(probingAddresses)) {\r\n",
       "        for (let i = 0; i < probingAddresses.length; i++) {\r\n",
       "\r\n",
       "            let rootUrl = probingAddresses[i];\r\n",
       "\r\n",
       "            if (!rootUrl.endsWith('/')) {\r\n",
       "                rootUrl = `${rootUrl}/`;\r\n",
       "            }\r\n",
       "\r\n",
       "            try {\r\n",
       "                let response = await timeout(1000, fetch(`${rootUrl}discovery`, {\r\n",
       "                    method: 'POST',\r\n",
       "                    timeout: 1000,\r\n",
       "                    headers: {\r\n",
       "                        'Content-Type': 'text/plain'\r\n",
       "                    },\r\n",
       "                    body: probingAddresses[i]\r\n",
       "                }));\r\n",
       "\r\n",
       "                if (response.status == 200) {\r\n",
       "                    return rootUrl;\r\n",
       "                }\r\n",
       "            }\r\n",
       "            catch (e) { }\r\n",
       "        }\r\n",
       "    }\r\n",
       "}\r\n",
       "\r\n",
       "function loadDotnetInteractiveApi() {\r\n",
       "    probeAddresses([\"http://192.168.0.107:1027/\", \"http://127.0.0.1:1027/\"])\r\n",
       "        .then((root) => {\r\n",
       "            // use probing to find host url and api resources\r\n",
       "            // load interactive helpers and language services\r\n",
       "            let dotnet_require = requirejs.config({\r\n",
       "                context: '10248.92395aa7afe54046b3658cf57aba0298',\r\n",
       "                paths: {\r\n",
       "                    'dotnet-interactive': `${root}resources`\r\n",
       "                }\r\n",
       "            });\r\n",
       "            if (!window.dotnet_require) {\r\n",
       "                window.dotnet_require = dotnet_require;\r\n",
       "            }\r\n",
       "        \r\n",
       "            dotnet_require([\r\n",
       "                    'dotnet-interactive/dotnet-interactive'\r\n",
       "                ],\r\n",
       "                function (dotnet) {\r\n",
       "                    dotnet.init(window);\r\n",
       "                },\r\n",
       "                function (error) {\r\n",
       "                    console.log(error);\r\n",
       "                }\r\n",
       "            );\r\n",
       "        })\r\n",
       "        .catch(error => {console.log(error);});\r\n",
       "    }\r\n",
       "    </script>\r\n",
       "</div>"
      ]
     },
     "metadata": {},
     "output_type": "display_data"
    }
   ],
   "source": [
    "using System;\n",
    "// using System.Collections.Generic;\n",
    "// using System.Linq;\n",
    "// using System.Text;\n",
    "// using System.Threading.Tasks;\n"
   ]
  },
  {
   "attachments": {
    "Arrays.png": {
     "image/png": "[encoded data removed]"
    }
   },
   "cell_type": "markdown",
   "metadata": {},
   "source": [
    "##  Arrays\n",
    "\n",
    "____\n",
    "We we going to cover the different types of arrays.\n",
    "\n",
    "1. Single dimensional arrays which we covered\n",
    "\n",
    "2. MultiDimensional Arrays, which is divided into Rectangular and Jaggered Array.\n",
    "\n",
    "Lets look at implementing a matrix using a 2d array\n",
    "\n",
    "```\n",
    "var matrix = new int[3,5];\n",
    "\n",
    "```\n",
    "\n",
    "So this array, we have 3 rows and 5 columns. And we can initialize it as follows, using object initialization syntax:\n",
    "\n",
    "\n",
    "\n",
    "```\n",
    "var matrix = new int[3,5]{\n",
    "{3,4,5,6,7},\n",
    "{1,3,6,7,10},\n",
    "{11,12,4,6,9}\n",
    "};\n",
    "\n",
    "```\n",
    "\n",
    "Now to access the values we need to access the row, and column\n",
    "\n",
    "To declare a three dimensional array, we can extent the number of dimentions in the array as follows\n",
    "\n",
    "```\n",
    "var matrix = new int[3,5,7];\n",
    "\n",
    "```\n",
    "The above are all rectangualr array. How do we model a jaggered array?\n",
    "\n",
    "![Arrays.png](attachment:Arrays.png)\n",
    "\n",
    "\n",
    "This we can view as array of arrays...So first item of first line, can be an single dim of array of 4 elements, and the second item (of second line), can be another single array of 5 elements, and so forth.\n",
    "\n",
    "We implement it by declaring a top level array, where the 3 refers to the 3 rows (which will contain 3 arrays in it)\n",
    "\n",
    "```\n",
    "var arrTop = new int[3][];\n",
    "```\n",
    "\n",
    "Also compared to the rectangualr array, we use two square brackets.\n",
    "\n",
    "\n",
    "\n",
    "Next we need to initialize the rest\n",
    "\n",
    "```\n",
    "arrTop[0] = new int[4]; //first row\n",
    "arrTop[1] = new int[5]; //second row\n",
    "arrTop[2] = new int[3]; //third row\n",
    "\n",
    "```\n",
    "\n",
    "And to access element, we use 2 square brackets\n",
    "\n",
    "```\n",
    "arrTop[0][0]=1;\n",
    "\n",
    "```\n",
    "\n",
    "\n",
    "So here we working with Array class in CLR, where we can use the static fields and methods."
   ]
  },
  {
   "cell_type": "code",
   "execution_count": 2,
   "metadata": {},
   "outputs": [
    {
     "name": "stdout",
     "output_type": "stream",
     "text": [
      "The size of the array is 6\n"
     ]
    }
   ],
   "source": [
    "//Keeping the code ven shorted, we dont even need to specify new int[], can just say new[]\n",
    "var numbers = new[]{3,7,9,2,14,6};\n",
    "Console.WriteLine(\"The size of the array is {0}\", numbers.Length);"
   ]
  },
  {
   "cell_type": "code",
   "execution_count": 3,
   "metadata": {},
   "outputs": [
    {
     "name": "stdout",
     "output_type": "stream",
     "text": [
      "The position of element at 3 is 0\n"
     ]
    }
   ],
   "source": [
    "//Play wit Array class annd it static fields/members and methods\n",
    "\n",
    "var arrIndPos = Array.IndexOf(numbers, 3);\n",
    "Console.WriteLine(\"The position of element at 3 is {0}\", arrIndPos);"
   ]
  },
  {
   "cell_type": "code",
   "execution_count": null,
   "metadata": {},
   "outputs": [],
   "source": []
  },
  {
   "cell_type": "markdown",
   "metadata": {},
   "source": [
    "##  List\n",
    "\n",
    "____\n",
    "\n",
    "Remember arrays have a fixed size. So they cannot be changed at runtime. Lists are similar to arrays, but we do not have to specify the size.\n",
    "\n",
    "\n",
    "We create list as follows:\n",
    "\n",
    "\n",
    "```\n",
    "var numbers = new List<int>();\n",
    "\n",
    "```\n",
    "1. var keyword, remember this is shortcut for data type that needs to be specified here.\n",
    "2. Then Specifythe variable\n",
    "3. Then allocate memory with new keyword\n",
    "4. Bur before we specify the data type, we use the List Class, then the type, but within greater/less than symbols, followed by parenthesis\n",
    "\n",
    "\n",
    "Remember List is a generic, thats why its followed by ```<type>``` syntax\n",
    "\n",
    "So in the above example we creating a list of integers (primitive types). Can also create a list of non-primitive types.\n",
    "\n",
    "\n",
    "```\n",
    "List<Products>\n",
    "\n",
    "```\n",
    "\n",
    "Where Products is a class.\n",
    "\n",
    "Can also initialize the object just like an array: {2,3,4,5,7}\n",
    "\n",
    "And we have the following methods:\n",
    "\n",
    "```\n",
    "Add()\n",
    "AddRange()\n",
    "Remove\n",
    "ect....\n",
    "\n",
    "```\n",
    "\n",
    "\n",
    "\n",
    "\n"
   ]
  },
  {
   "cell_type": "code",
   "execution_count": 4,
   "metadata": {
    "scrolled": true
   },
   "outputs": [
    {
     "name": "stdout",
     "output_type": "stream",
     "text": [
      "5\n",
      "72\n",
      "34\n",
      "45\n",
      "6\n",
      "9\n",
      "67\n",
      "1\n",
      "2\n",
      "3\n"
     ]
    }
   ],
   "source": [
    "var numbers = new List<int>(){5,72,34,45,6,9};\n",
    "numbers.Add(67);\n",
    "\n",
    "//can fill with anther list or array\n",
    "numbers.AddRange(new int[3]{1,2,3});\n",
    "\n",
    "foreach(var nums in numbers){\n",
    "    Console.WriteLine(nums);\n",
    "}\n"
   ]
  },
  {
   "cell_type": "code",
   "execution_count": null,
   "metadata": {},
   "outputs": [],
   "source": []
  },
  {
   "cell_type": "code",
   "execution_count": null,
   "metadata": {},
   "outputs": [],
   "source": []
  },
  {
   "cell_type": "code",
   "execution_count": null,
   "metadata": {},
   "outputs": [],
   "source": []
  }
 ],
 "metadata": {
  "kernelspec": {
   "display_name": ".NET (C#)",
   "language": "C#",
   "name": ".net-csharp"
  },
  "language_info": {
   "file_extension": ".cs",
   "mimetype": "text/x-csharp",
   "name": "C#",
   "pygments_lexer": "csharp",
   "version": "8.0"
  }
 },
 "nbformat": 4,
 "nbformat_minor": 4
}
