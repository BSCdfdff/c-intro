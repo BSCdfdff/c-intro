{
 "cells": [
  {
   "cell_type": "markdown",
   "metadata": {},
   "source": [
    "# Non Primitive Types\n",
    "\n",
    "____\n",
    "\n",
    "1. Classes\n",
    "2. Structs\n",
    "3. Arrays\n",
    "4. Strings\n",
    "5. Enums\n",
    "6. Reference Types and Value Types\n"
   ]
  },
  {
   "cell_type": "code",
   "execution_count": 1,
   "metadata": {},
   "outputs": [
    {
     "data": {
      "text/html": [
       "\r\n",
       "<div>\r\n",
       "    <div id='dotnet-interactive-this-cell-474bee80d6fc4b3498bd1aedd22bdfb0' style='display: none'>\r\n",
       "        The below script needs to be able to find the current output cell; this is an easy method to get it.\r\n",
       "    </div>\r\n",
       "    <script type='text/javascript'>\r\n",
       "// ensure `requirejs` is available globally\r\n",
       "if (typeof requirejs !== typeof Function || typeof requirejs.config !== typeof Function) {\r\n",
       "    let requirejs_script = document.createElement('script');\r\n",
       "    requirejs_script.setAttribute('src', 'https://cdnjs.cloudflare.com/ajax/libs/require.js/2.3.6/require.min.js');\r\n",
       "    requirejs_script.setAttribute('type', 'text/javascript');\r\n",
       "    requirejs_script.onload = function () {\r\n",
       "        loadDotnetInteractiveApi();\r\n",
       "    };\r\n",
       "\r\n",
       "    document.getElementsByTagName('head')[0].appendChild(requirejs_script);\r\n",
       "}\r\n",
       "else {\r\n",
       "    loadDotnetInteractiveApi();\r\n",
       "}\r\n",
       "\r\n",
       "async function probeAddresses(probingAddresses) {\r\n",
       "    function timeout(ms, promise) {\r\n",
       "        return new Promise(function (resolve, reject) {\r\n",
       "            setTimeout(function () {\r\n",
       "                reject(new Error('timeout'))\r\n",
       "            }, ms)\r\n",
       "            promise.then(resolve, reject)\r\n",
       "        })\r\n",
       "    }\r\n",
       "\r\n",
       "    if (Array.isArray(probingAddresses)) {\r\n",
       "        for (let i = 0; i < probingAddresses.length; i++) {\r\n",
       "\r\n",
       "            let rootUrl = probingAddresses[i];\r\n",
       "\r\n",
       "            if (!rootUrl.endsWith('/')) {\r\n",
       "                rootUrl = `${rootUrl}/`;\r\n",
       "            }\r\n",
       "\r\n",
       "            try {\r\n",
       "                let response = await timeout(1000, fetch(`${rootUrl}discovery`, {\r\n",
       "                    method: 'POST',\r\n",
       "                    timeout: 1000,\r\n",
       "                    headers: {\r\n",
       "                        'Content-Type': 'text/plain'\r\n",
       "                    },\r\n",
       "                    body: probingAddresses[i]\r\n",
       "                }));\r\n",
       "\r\n",
       "                if (response.status == 200) {\r\n",
       "                    return rootUrl;\r\n",
       "                }\r\n",
       "            }\r\n",
       "            catch (e) { }\r\n",
       "        }\r\n",
       "    }\r\n",
       "}\r\n",
       "\r\n",
       "function loadDotnetInteractiveApi() {\r\n",
       "    probeAddresses([\"http://192.168.0.107:1025/\", \"http://127.0.0.1:1025/\"])\r\n",
       "        .then((root) => {\r\n",
       "            // use probing to find host url and api resources\r\n",
       "            // load interactive helpers and language services\r\n",
       "            let dotnet_require = requirejs.config({\r\n",
       "                context: '23018.474bee80d6fc4b3498bd1aedd22bdfb0',\r\n",
       "                paths: {\r\n",
       "                    'dotnet-interactive': `${root}resources`\r\n",
       "                }\r\n",
       "            });\r\n",
       "            if (!window.dotnet_require) {\r\n",
       "                window.dotnet_require = dotnet_require;\r\n",
       "            }\r\n",
       "        \r\n",
       "            dotnet_require([\r\n",
       "                    'dotnet-interactive/dotnet-interactive'\r\n",
       "                ],\r\n",
       "                function (dotnet) {\r\n",
       "                    dotnet.init(window);\r\n",
       "                },\r\n",
       "                function (error) {\r\n",
       "                    console.log(error);\r\n",
       "                }\r\n",
       "            );\r\n",
       "        })\r\n",
       "        .catch(error => {console.log(error);});\r\n",
       "    }\r\n",
       "    </script>\r\n",
       "</div>"
      ]
     },
     "metadata": {},
     "output_type": "display_data"
    }
   ],
   "source": [
    "using System;\n",
    "// using System.Collections.Generic;\n",
    "// using System.Linq;\n",
    "// using System.Text;\n",
    "// using System.Threading.Tasks;\n"
   ]
  },
  {
   "cell_type": "markdown",
   "metadata": {},
   "source": [
    "##  Classes\n",
    "\n",
    "____\n",
    "\n",
    "Building blocks... then we create instances of those objects.\n",
    "\n",
    "Create class\n",
    "1. Access modifier (who can access the class)\n",
    "2. class keyword\n",
    "3. name, caps\n",
    "\n",
    "\n",
    "Variables inside class, is called fields\n",
    "\n",
    "1. Need specify access modifier (again)\n",
    "2. data type keyword\n",
    "3. Name of variable\n",
    "\n",
    "Methods inside class\n",
    "\n",
    "1. Access modifier\n",
    "2. Return Type\n",
    "3. Name of method\n",
    "\n",
    "When dealing with production code, best is ti have one class per file.\n"
   ]
  },
  {
   "cell_type": "markdown",
   "metadata": {},
   "source": [
    "## Creating an Object of class\n",
    "\n",
    "___\n",
    "\n",
    "1. Start with type, which is class name\n",
    "2. The variable of choice\n",
    "3. Then allocate memory for that class, using the new operator with Class Name\n",
    "4. And Parenthesis\n",
    "\n",
    "```\n",
    "Person p = new Person();\n",
    "```\n",
    "\n",
    "Classes is different from primitive types, that is we can just say ``` int number```. But with classes we need to allocate memory for it, with new operator.\n",
    "\n",
    "With c++ we do not do so we can simple say\n",
    "\n",
    "```\n",
    "Queue q(5);\n",
    "\n",
    "```\n",
    "\n",
    "With c++ we need to deallocate the momory ourselves, but with c# the garbage collector does this for us (CLR)\n",
    "\n",
    "Funny in c#, we specify that we need to allocate memory, but we dont need to clean up afterward. But with c++ we dont specify that we need memory to be allocated, but we need to cleanup afterwards\n",
    "\n",
    "We can even shorten the creation of object using the var keyword\n",
    "\n",
    "```\n",
    "var person = new Person();\n",
    "\n",
    "```\n",
    "\n",
    "Then we the dot notation to access its members"
   ]
  },
  {
   "cell_type": "code",
   "execution_count": 2,
   "metadata": {},
   "outputs": [],
   "source": [
    "public class Person{\n",
    "    \n",
    "    public string Name;\n",
    "    \n",
    "    public static int StaticVar = 0;\n",
    "    \n",
    "    public void Introduce(){\n",
    "        Console.WriteLine(\"My name is {0}\", Name);\n",
    "        \n",
    "    }\n",
    "    \n",
    "        \n",
    "}"
   ]
  },
  {
   "cell_type": "code",
   "execution_count": 3,
   "metadata": {},
   "outputs": [
    {
     "name": "stdout",
     "output_type": "stream",
     "text": [
      "My name is Chesney\n"
     ]
    }
   ],
   "source": [
    "var p = new Person();\n",
    "p.Name = \"Chesney\";\n",
    "p.Introduce();\n"
   ]
  },
  {
   "cell_type": "markdown",
   "metadata": {},
   "source": [
    "## Static modifier\n",
    "\n",
    "___\n",
    "\n",
    "\n",
    "We cant seem to access static member from objects. So how do we access it?\n",
    "\n",
    "This memeber is only accessible from the class itself.\n",
    "\n",
    "\n",
    "Only single instance of this variable (or method) will exist in memory\n",
    "\n",
    "\n",
    "And seem to be like a global counter variable but local to the class.\n",
    "\n",
    "\n",
    "From the below code, we can see that we have a counter that keeps it value till the program ends.\n",
    "\n",
    "Again, we can only access the variage/field/method from the class name, but essence is that only one instance is every created, and it maintains it value.\n",
    "\n",
    "C++ had a better explaination, and I am applying it here. "
   ]
  },
  {
   "cell_type": "code",
   "execution_count": 4,
   "metadata": {},
   "outputs": [
    {
     "name": "stdout",
     "output_type": "stream",
     "text": [
      "Static =  100\n",
      "Static =  200\n"
     ]
    }
   ],
   "source": [
    "//this will give an error\n",
    "//p.StaticVar+=100;\n",
    "//Console.WriteLine(\"Static =  {0}\", p.StaticVar);\n",
    "\n",
    "//Can only access from the class itself\n",
    "Person.StaticVar+=100;\n",
    "Console.WriteLine(\"Static =  {0}\", Person.StaticVar);\n",
    "Person.StaticVar+=100;\n",
    "Console.WriteLine(\"Static =  {0}\", Person.StaticVar);\n",
    "\n",
    "\n"
   ]
  },
  {
   "cell_type": "markdown",
   "metadata": {},
   "source": [
    "##  Structs\n",
    "\n",
    "____\n",
    "\n",
    "Similar to classes, even syntax, but instead of the class keyword, we used the struct keyword.\n",
    "\n",
    "We also have fields and methods. So what is the difference ,except for the struct/class name\n",
    "\n",
    "\n",
    "1. Access modifier\n",
    "2. struct name\n",
    "3. Variable name\n",
    "\n",
    "\n",
    "Here are some of the differences:\n",
    "\n",
    "1. A struct is a value type so it is stored on the stack. \n",
    "2. A class is a reference type and is stored on the heap. \n",
    "3. A  struct doesn't support inheritance, and polymorphism. \n",
    "4. A class supports both. \n",
    "5. By default, all the struct members are public but class members are by default private in nature.\n"
   ]
  },
  {
   "cell_type": "code",
   "execution_count": 5,
   "metadata": {},
   "outputs": [],
   "source": [
    "public struct RgbColor{\n",
    "    public int Red;\n",
    "    public int Green;\n",
    "    public int Blue;\n",
    "    \n",
    "    \n",
    "}"
   ]
  },
  {
   "cell_type": "markdown",
   "metadata": {},
   "source": [
    "## Arrays\n",
    "\n",
    "___\n",
    "\n",
    "Store collection of variables of same type.\n",
    "\n",
    "Cover declaring, initialising, and accessing arrays.\n",
    "\n",
    "So we need to work with three numbers\n",
    "\n",
    "```\n",
    "int num1\n",
    "int num2\n",
    "int num3\n",
    "```\n",
    "So instead declare an array\n",
    "\n",
    "```\n",
    "int [] numbers = new int [3];\n",
    "\n",
    "```\n",
    "\n",
    "1. Define type, with square brackers (to tell compiler we want to declare of array)\n",
    "2. Variable name\n",
    "3. Allocate memory for data type, with square brackets (to tell compiler the size of array)\n",
    "\n",
    "\n",
    "We have a fixed size.\n",
    "\n",
    "(Internally there is an array class, and we create an instance of it)\n",
    "\n",
    "And we can initialize with initila values\n",
    "\n",
    "```\n",
    "int [] numbers = new int [3]{87,76,187};\n",
    "\n",
    "```\n",
    "\n",
    "Again we can make code shorter, with ```var``` keyword\n",
    "\n",
    "int[] replaced with var.\n",
    "\n",
    "```\n",
    "var numbers = new int [3]{87,76,187};\n",
    "\n",
    "```\n",
    "\n",
    "Just checked: new int[3], in c# is only size lenght 3 (so 0 to 2) which 3 numbers , whereas in c++, int[3], means 0 to 3, which is 4 numbers.\n",
    "\n"
   ]
  },
  {
   "cell_type": "code",
   "execution_count": 6,
   "metadata": {},
   "outputs": [
    {
     "name": "stdout",
     "output_type": "stream",
     "text": [
      "Index 0 =  87\n",
      "Index 1 =  187\n"
     ]
    }
   ],
   "source": [
    "int [] aNum = new int[4];\n",
    "aNum[0]=87;\n",
    "aNum[1]=187;\n",
    "Console.WriteLine(\"Index 0 =  {0}\", aNum[0]);\n",
    "Console.WriteLine(\"Index 1 =  {0}\", aNum[1]);"
   ]
  },
  {
   "cell_type": "markdown",
   "metadata": {},
   "source": [
    "## String\n",
    "\n",
    "_____\n",
    "\n",
    "Sequence of characters, surrounded by double quotes (chars surrounded by single quotes)\n",
    "\n",
    "Cover to create and what escape chars to be used.\n",
    "\n",
    "1. Data type\n",
    "2. Variabl name\n",
    "\n",
    "```\n",
    "string FirstName;\n",
    "```\n",
    "\n",
    "Here we using the string .NET class, which have fields and methods, and we using its static fields and methods, such as Format method. Thus we use the method directly from the class, without declaring an instance of it.\n",
    "\n",
    "\n",
    "Format method \n",
    "\n",
    "1. Takes template for our string, and we can use place holders.\n",
    "2. Second param is other variable(s)\n",
    "\n",
    "\n",
    "Join Method\n",
    "\n",
    "1. Separator\n",
    "2. Variale\n",
    "\n",
    "\n",
    "So there are static methods in string class to manipulate strings, and modify their values. All these methods return a new string \n",
    "\n",
    "\n",
    "We have the following escape characters\n",
    "\n",
    "```\n",
    "\\n = new line\n",
    "\\t = tab\n",
    "\\\\ = backslash\n",
    "\\` = single quote\n",
    "\\\" = double quote\n",
    "```\n",
    "\n",
    "So in order to prevent this\n",
    "```\n",
    "string path =\"c:\\\\temp\\\\error\\\\gully.txt\"\n",
    "```\n",
    "\n",
    "\n",
    "We can use verbatim string: @ sign in front\n",
    "\n",
    "```\n",
    "string path =@\"c:\\temp\\error\\gully.txt\"\n",
    "```\n"
   ]
  },
  {
   "cell_type": "code",
   "execution_count": 7,
   "metadata": {},
   "outputs": [
    {
     "name": "stdout",
     "output_type": "stream",
     "text": [
      "Chesney,Conraide\n"
     ]
    }
   ],
   "source": [
    "string FirstName = \"Chesney\";\n",
    "string LastName =\"Conraide\";\n",
    "string Name = string.Format(\"{0},{1}\", FirstName, LastName);\n",
    "\n",
    "Console.WriteLine(Name);"
   ]
  },
  {
   "cell_type": "code",
   "execution_count": 8,
   "metadata": {},
   "outputs": [
    {
     "name": "stdout",
     "output_type": "stream",
     "text": [
      "4,5,6\n"
     ]
    }
   ],
   "source": [
    "var numArr3 = new int[3]{4,5,6};\n",
    "string NameTox = string.Join(\",\", numArr3);\n",
    "\n",
    "Console.WriteLine(NameTox);"
   ]
  },
  {
   "cell_type": "markdown",
   "metadata": {},
   "source": [
    "## Enums\n",
    "\n",
    "____\n",
    "\n",
    "Set of name/value pairs (constants)\n",
    "\n",
    "Where do we use enums in real world....\n",
    "\n",
    "We have the following shipping methods\n",
    "\n",
    "```\n",
    "const int ReguMail=1;\n",
    "const int RegiMail = 2;\n",
    "const int Express = 3;\n",
    "```\n",
    "\n",
    "Based on these methods, different calculations are applied.\n",
    "\n",
    "Enums are used to replace the above, in a more clever way.\n",
    "\n",
    "We creat enum method, with these members\n",
    "\n",
    "```\n",
    "public enum ShippingMethod{\n",
    "    \n",
    "    ReguMail=1;\n",
    "    RegiMail = 2;\n",
    "    Express = 3;\n",
    "}\n",
    "\n",
    "```\n",
    "\n",
    "1. Access method\n",
    "2. enum keyword\n",
    "3. With fields, no type specified.\n",
    "\n",
    "So we use enums where we have a group of related constants.\n",
    "\n",
    "This will then be a new TYPE in our code. Internally an enum is an integer.\n",
    "\n",
    "or we need to specify a type, we can do\n",
    "\n",
    "```\n",
    "public enum ShippingMethod:byte{\n",
    "    \n",
    "    ReguMail=1;\n",
    "    RegiMail = 2;\n",
    "    Express = 3;\n",
    "}\n",
    "\n",
    "```\n",
    "\n",
    "How do we use it? We use it with a dot notation.\n",
    "\n",
    "```\n",
    "var method = ShippingMethod.Express.\n",
    "```\n",
    "\n",
    "\n",
    "\n",
    "\n",
    "\n",
    "\n",
    "\n"
   ]
  },
  {
   "cell_type": "code",
   "execution_count": 9,
   "metadata": {},
   "outputs": [
    {
     "name": "stdout",
     "output_type": "stream",
     "text": [
      "Shipping Method = Express\n",
      "Shipping Method = 3\n",
      "Shipping Method = RegiMail\n",
      "Shipping Method = Express\n",
      "Shipping Method = ReguMail\n"
     ]
    }
   ],
   "source": [
    "public enum ShippingMethod{\n",
    "    ReguMail=1,\n",
    "    RegiMail = 2,\n",
    "    Express = 3\n",
    "}\n",
    "var method = ShippingMethod.Express;\n",
    "Console.WriteLine(\"Shipping Method = {0}\",method);\n",
    "//or cast it to integer\n",
    "Console.WriteLine(\"Shipping Method = {0}\",(int)method);\n",
    "\n",
    "//Cast a number to ShippingMethod\n",
    "int methodID = 2;\n",
    "Console.WriteLine(\"Shipping Method = {0}\",(ShippingMethod)methodID);\n",
    "\n",
    "//Convert shiping method to string\n",
    "Console.WriteLine(\"Shipping Method = {0}\",method.ToString());\n",
    "\n",
    "\n",
    "//Cast a string to ShippingMethod\n",
    "//Here we need to do Parsing...no explanaton how we got here, and how we use it, just syntax\n",
    "\n",
    "string MethodStr = \"ReguMail\";\n",
    "\n",
    "Console.WriteLine(\"Shipping Method = {0}\",Enum.Parse(typeof(ShippingMethod),MethodStr));\n"
   ]
  },
  {
   "cell_type": "code",
   "execution_count": 10,
   "metadata": {},
   "outputs": [],
   "source": [
    "//Cast a number to ShippingMethod"
   ]
  },
  {
   "cell_type": "markdown",
   "metadata": {},
   "source": [
    "## Reference Type and Value Types\n",
    "\n",
    "____\n",
    "\n",
    "\n",
    "We know string(System.String) and arrays (System.String) are classes.\n",
    "\n",
    "To create a new type, we can use structs or classes.\n",
    "\n",
    "\n",
    "All primitive types are structs, whereas all non-primitype types are classes. Ann and we can use structs and classes to create new types.\n",
    "\n",
    "\n",
    "Structs are value types. Allocated on stack, and memory is allocated and deallocated automatically\n",
    "\n",
    "Classes are reference types. Allocated on heap by you. And memory is allocated and deallocated by garbage collector (not automatically)\n",
    "\n",
    "\n"
   ]
  },
  {
   "cell_type": "code",
   "execution_count": 11,
   "metadata": {},
   "outputs": [
    {
     "name": "stdout",
     "output_type": "stream",
     "text": [
      "bVal = 11\n"
     ]
    }
   ],
   "source": [
    "//int is primitive type, and variables are independent of each other.\n",
    "//making a change to one variable, does not affect the other\n",
    "//Thats means aVal stays 10, and does not become 11\n",
    "var aVal = 10;\n",
    "var bVal=aVal;\n",
    "bVal++;\n",
    "Console.WriteLine(\"bVal = {0}\",bVal);"
   ]
  },
  {
   "cell_type": "code",
   "execution_count": 12,
   "metadata": {},
   "outputs": [
    {
     "name": "stdout",
     "output_type": "stream",
     "text": [
      "array1[0] = 99\n",
      "array2[0] = 99\n"
     ]
    }
   ],
   "source": [
    "//array is non primitive types,these are reference types.\n",
    "//Here we see setting array2 index 0 to 99, it affect array1, since array2\n",
    "\n",
    "var array1 = new int[3]{1,2,3};\n",
    "var array2 = array1;\n",
    "\n",
    "array2[0]=99;\n",
    "Console.WriteLine(\"array1[0] = {0}\",array1[0]);\n",
    "Console.WriteLine(\"array2[0] = {0}\",array2[0]);\n"
   ]
  },
  {
   "cell_type": "code",
   "execution_count": null,
   "metadata": {},
   "outputs": [],
   "source": []
  },
  {
   "cell_type": "code",
   "execution_count": null,
   "metadata": {},
   "outputs": [],
   "source": []
  }
 ],
 "metadata": {
  "kernelspec": {
   "display_name": ".NET (C#)",
   "language": "C#",
   "name": ".net-csharp"
  },
  "language_info": {
   "file_extension": ".cs",
   "mimetype": "text/x-csharp",
   "name": "C#",
   "pygments_lexer": "csharp",
   "version": "8.0"
  }
 },
 "nbformat": 4,
 "nbformat_minor": 4
}
