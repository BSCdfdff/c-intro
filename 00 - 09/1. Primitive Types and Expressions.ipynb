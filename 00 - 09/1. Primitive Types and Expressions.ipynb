{
 "cells": [
  {
   "cell_type": "markdown",
   "metadata": {},
   "source": [
    "# Introduction\n",
    "\n",
    "____\n",
    "\n",
    "1. Variables and Constants\n",
    "2. Overflowing\n",
    "3. Scope\n",
    "4. Type Conversion\n",
    "5. Operators\n",
    "6. Comments"
   ]
  },
  {
   "cell_type": "code",
   "execution_count": 1,
   "metadata": {},
   "outputs": [
    {
     "data": {
      "text/html": [
       "\r\n",
       "<div>\r\n",
       "    <div id='dotnet-interactive-this-cell-9bb64d99f4e74243b33dc85918db3c45' style='display: none'>\r\n",
       "        The below script needs to be able to find the current output cell; this is an easy method to get it.\r\n",
       "    </div>\r\n",
       "    <script type='text/javascript'>\r\n",
       "// ensure `requirejs` is available globally\r\n",
       "if (typeof requirejs !== typeof Function || typeof requirejs.config !== typeof Function) {\r\n",
       "    let requirejs_script = document.createElement('script');\r\n",
       "    requirejs_script.setAttribute('src', 'https://cdnjs.cloudflare.com/ajax/libs/require.js/2.3.6/require.min.js');\r\n",
       "    requirejs_script.setAttribute('type', 'text/javascript');\r\n",
       "    requirejs_script.onload = function () {\r\n",
       "        loadDotnetInteractiveApi();\r\n",
       "    };\r\n",
       "\r\n",
       "    document.getElementsByTagName('head')[0].appendChild(requirejs_script);\r\n",
       "}\r\n",
       "else {\r\n",
       "    loadDotnetInteractiveApi();\r\n",
       "}\r\n",
       "\r\n",
       "async function probeAddresses(probingAddresses) {\r\n",
       "    function timeout(ms, promise) {\r\n",
       "        return new Promise(function (resolve, reject) {\r\n",
       "            setTimeout(function () {\r\n",
       "                reject(new Error('timeout'))\r\n",
       "            }, ms)\r\n",
       "            promise.then(resolve, reject)\r\n",
       "        })\r\n",
       "    }\r\n",
       "\r\n",
       "    if (Array.isArray(probingAddresses)) {\r\n",
       "        for (let i = 0; i < probingAddresses.length; i++) {\r\n",
       "\r\n",
       "            let rootUrl = probingAddresses[i];\r\n",
       "\r\n",
       "            if (!rootUrl.endsWith('/')) {\r\n",
       "                rootUrl = `${rootUrl}/`;\r\n",
       "            }\r\n",
       "\r\n",
       "            try {\r\n",
       "                let response = await timeout(1000, fetch(`${rootUrl}discovery`, {\r\n",
       "                    method: 'POST',\r\n",
       "                    timeout: 1000,\r\n",
       "                    headers: {\r\n",
       "                        'Content-Type': 'text/plain'\r\n",
       "                    },\r\n",
       "                    body: probingAddresses[i]\r\n",
       "                }));\r\n",
       "\r\n",
       "                if (response.status == 200) {\r\n",
       "                    return rootUrl;\r\n",
       "                }\r\n",
       "            }\r\n",
       "            catch (e) { }\r\n",
       "        }\r\n",
       "    }\r\n",
       "}\r\n",
       "\r\n",
       "function loadDotnetInteractiveApi() {\r\n",
       "    probeAddresses([\"http://192.168.0.107:1024/\", \"http://127.0.0.1:1024/\"])\r\n",
       "        .then((root) => {\r\n",
       "            // use probing to find host url and api resources\r\n",
       "            // load interactive helpers and language services\r\n",
       "            let dotnet_require = requirejs.config({\r\n",
       "                context: '7581.9bb64d99f4e74243b33dc85918db3c45',\r\n",
       "                paths: {\r\n",
       "                    'dotnet-interactive': `${root}resources`\r\n",
       "                }\r\n",
       "            });\r\n",
       "            if (!window.dotnet_require) {\r\n",
       "                window.dotnet_require = dotnet_require;\r\n",
       "            }\r\n",
       "        \r\n",
       "            dotnet_require([\r\n",
       "                    'dotnet-interactive/dotnet-interactive'\r\n",
       "                ],\r\n",
       "                function (dotnet) {\r\n",
       "                    dotnet.init(window);\r\n",
       "                },\r\n",
       "                function (error) {\r\n",
       "                    console.log(error);\r\n",
       "                }\r\n",
       "            );\r\n",
       "        })\r\n",
       "        .catch(error => {console.log(error);});\r\n",
       "    }\r\n",
       "    </script>\r\n",
       "</div>"
      ]
     },
     "metadata": {},
     "output_type": "display_data"
    }
   ],
   "source": [
    "using System;\n",
    "// using System.Collections.Generic;\n",
    "// using System.Linq;\n",
    "// using System.Text;\n",
    "// using System.Threading.Tasks;\n"
   ]
  },
  {
   "cell_type": "code",
   "execution_count": 2,
   "metadata": {},
   "outputs": [
    {
     "name": "stdout",
     "output_type": "stream",
     "text": [
      "Hello World\n"
     ]
    }
   ],
   "source": [
    "Console.WriteLine(\"Hello World\");"
   ]
  },
  {
   "cell_type": "markdown",
   "metadata": {},
   "source": [
    "## Variables and Constants\n",
    "\n",
    "\n",
    "Best to use Camel case, first letter small, and next word must be capital: firstName\n",
    "\n",
    "\n",
    "Primitive Types (Most commonly used, there are others)\n",
    "\n",
    "```\n",
    "byte\n",
    "short\n",
    "int\n",
    "long\n",
    "float\n",
    "double\n",
    "decimal\n",
    "char \n",
    "bool\n",
    "```\n",
    "\n",
    "Lets look at real number. For real number, the double is default type for real number if it is not specified.\n",
    "\n",
    "In order to specify it must be float, next to the number\n",
    "Same applies for decimail, which gets  m suffix\n",
    "\n",
    "```\n",
    "float number = 1.2f\n",
    "decimal dec = 1.7m\n",
    "```\n",
    "\n",
    "Then we have Non Primitive Types\n",
    "\n",
    "\n",
    "```\n",
    "String\n",
    "Array\n",
    "Enum\n",
    "Class\n",
    "\n",
    "\n",
    "```\n",
    "\n",
    "We can also use ```var```, then the compiler will decide for you.\n",
    "\n"
   ]
  },
  {
   "cell_type": "markdown",
   "metadata": {},
   "source": [
    "## Overflowing\n",
    "____\n",
    "\n",
    "Eg. ehere byte data type largest value is 255, by adding 1, it will go back to 0.\n",
    "\n",
    "But the below does not work...\n",
    "\n",
    "But we need to stop overflowing, so we need to use the check keyword.\n"
   ]
  },
  {
   "cell_type": "code",
   "execution_count": 3,
   "metadata": {},
   "outputs": [
    {
     "name": "stdout",
     "output_type": "stream",
     "text": [
      "-2147483648"
     ]
    }
   ],
   "source": [
    "int num = 2147483647;\n",
    "num =  num + 1;\n",
    "Console.Write(num); //gives an answer,but it is incorrect and overflows"
   ]
  },
  {
   "cell_type": "code",
   "execution_count": 4,
   "metadata": {},
   "outputs": [
    {
     "ename": "Unhandled exception",
     "evalue": "System.OverflowException: Arithmetic operation resulted in an overflow.\n   at Submission#9.<<Initialize>>d__0.MoveNext()\n--- End of stack trace from previous location where exception was thrown ---\n   at Microsoft.CodeAnalysis.Scripting.ScriptExecutionState.RunSubmissionsAsync[TResult](ImmutableArray`1 precedingExecutors, Func`2 currentExecutor, StrongBox`1 exceptionHolderOpt, Func`2 catchExceptionOpt, CancellationToken cancellationToken)",
     "output_type": "error",
     "traceback": [
      "System.OverflowException: Arithmetic operation resulted in an overflow.\n   at Submission#9.<<Initialize>>d__0.MoveNext()\n--- End of stack trace from previous location where exception was thrown ---\n   at Microsoft.CodeAnalysis.Scripting.ScriptExecutionState.RunSubmissionsAsync[TResult](ImmutableArray`1 precedingExecutors, Func`2 currentExecutor, StrongBox`1 exceptionHolderOpt, Func`2 catchExceptionOpt, CancellationToken cancellationToken)",
      "   at Submission#9.<<Initialize>>d__0.MoveNext()",
      "--- End of stack trace from previous location where exception was thrown ---",
      "   at Microsoft.CodeAnalysis.Scripting.ScriptExecutionState.RunSubmissionsAsync[TResult](ImmutableArray`1 precedingExecutors, Func`2 currentExecutor, StrongBox`1 exceptionHolderOpt, Func`2 catchExceptionOpt, CancellationToken cancellationToken)"
     ]
    }
   ],
   "source": [
    "int num1;\n",
    "checked\n",
    "{\n",
    "    num1 = 2147483647;\n",
    "    num1 =  num1 + 1;\n",
    "}\n",
    "Console.Write(num1); //gives the error below, which is correct"
   ]
  },
  {
   "cell_type": "markdown",
   "metadata": {},
   "source": [
    "## Scope\n",
    "____\n",
    "\n",
    "\n",
    "A block is indicated by curly brackets, this defines a scope.\n",
    "\n",
    "a and b, which is inside its own block, is inly visible inside their own block\n",
    "\n",
    "But parents, such as a is visible inside child blocks."
   ]
  },
  {
   "cell_type": "code",
   "execution_count": 5,
   "metadata": {},
   "outputs": [
    {
     "name": "stdout",
     "output_type": "stream",
     "text": [
      "3\n",
      "1\n",
      "2\n",
      "2\n",
      "1\n"
     ]
    }
   ],
   "source": [
    "{\n",
    "    int a = 1;\n",
    "    {\n",
    "        int b = 2;\n",
    "        {\n",
    "            int c = 3;\n",
    "            Console.WriteLine(c);\n",
    "            Console.WriteLine(a); //accessible\n",
    "            Console.WriteLine(b); //accessible\n",
    "        }\n",
    "        Console.WriteLine(b);\n",
    "    }\n",
    "    Console.WriteLine(a);\n",
    "    \n",
    "    //Console.WriteLine(c); //outside scope. uncomment to see error \n",
    "    \n",
    "}"
   ]
  },
  {
   "cell_type": "markdown",
   "metadata": {},
   "source": [
    "### Using Placeholders\n",
    "\n",
    "____\n",
    "\n",
    "Curly braces are used.\n",
    "\n",
    "{0}, is the first variable found in string\n",
    "\n",
    "{1}, is the second variable found in string\n",
    "\n"
   ]
  },
  {
   "cell_type": "code",
   "execution_count": 6,
   "metadata": {},
   "outputs": [
    {
     "name": "stdout",
     "output_type": "stream",
     "text": [
      "2\n",
      "Byte -  min(0) and max(255)\n",
      "Short - min(-32768) and max(32767)\n",
      "Int - min(-2147483648) and max(2147483647)\n",
      "Long - min(-9223372036854775808) and max(9223372036854775807)\n",
      "Float - min(-3,4028235E+38) and max(3,4028235E+38)\n",
      "Double - min(-1,7976931348623157E+308) and max(1,7976931348623157E+308)\n",
      "Decimal - min(-79228162514264337593543950335) and max(79228162514264337593543950335)\n"
     ]
    }
   ],
   "source": [
    "byte numb = 2;\n",
    "Console.WriteLine(numb);\n",
    "\n",
    "Console.WriteLine(\"Byte -  min({0}) and max({1})\", byte.MinValue, byte.MaxValue);\n",
    "Console.WriteLine(\"Short - min({0}) and max({1})\", short.MinValue, short.MaxValue);\n",
    "Console.WriteLine(\"Int - min({0}) and max({1})\", int.MinValue, int.MaxValue);\n",
    "Console.WriteLine(\"Long - min({0}) and max({1})\", long.MinValue, long.MaxValue);\n",
    "Console.WriteLine(\"Float - min({0}) and max({1})\", float.MinValue, float.MaxValue);\n",
    "Console.WriteLine(\"Double - min({0}) and max({1})\", double.MinValue, double.MaxValue);\n",
    "Console.WriteLine(\"Decimal - min({0}) and max({1})\", decimal.MinValue, decimal.MaxValue);\n"
   ]
  },
  {
   "attachments": {
    "types.png": {
     "image/png": "[encoded data removed]"
    }
   },
   "cell_type": "markdown",
   "metadata": {},
   "source": [
    "##  Type Conversion\n",
    "____\n",
    "\n",
    "### Implicit Type conversion\n",
    "\n",
    "Example below: byte takes 2 bytes, and int takes 4 bytes, so implicit is allowed since the one is smaller than other\n",
    "So the above types are combatible with each other.\n",
    "![types.png](attachment:types.png)\n",
    "\n",
    "Or if we copy an int to a float, no data loss will occur as the types are compatible.\n",
    "\n",
    "However implicity converting from large to small will produce an error,and implicit type conversion will not work\n",
    "\n",
    "int to byte (see example below)\n",
    "\n",
    "Here we need to explicity tell the compiler that we are aware of the data loss, but still want to go ahead with the conversion. This is also called casting\n",
    "\n",
    "\n",
    "### Explicit Type conversion (casting)\n",
    "\n",
    "So here we going from large to small, with the knowledge that there may be data loss, and the compiler wont cast it without our permission.\n",
    "\n",
    "So we prefix the variable with the target type.\n",
    "\n",
    "### Conversion between Non compatible types\n",
    "\n",
    "Next we working with types that are not compatible, and we trying to do explicit conversion. This will not work as the types  are not compatible.\n",
    "\n",
    "Bur we still want \"1\" to be converted to a number. So how do we do it?\n",
    "Fot this type of situation we can use the following two ways:\n",
    "\n",
    "1. Convert Class\n",
    "2. Parse Class\n",
    "\n",
    "E.g.\n",
    "\n",
    "```\n",
    "int j = Convert.ToInt32(s);\n",
    "int j = int.Parse(s);\n",
    "```\n",
    "\n",
    "### Summary\n",
    "\n",
    "1. Small to Large - implicit conversion, but types need to be compatible\n",
    "\n",
    "2. Large to Small - implicit conversion will give error, need to do explicit conversion. Attach the tarhet data type to the variable\n",
    "\n",
    "3. Converting between non combatible data type - implicit, and explicit conversion will not work. We have two options here: Convert or the Parse class.\n",
    "\n",
    "\n"
   ]
  },
  {
   "cell_type": "code",
   "execution_count": 7,
   "metadata": {},
   "outputs": [
    {
     "name": "stdout",
     "output_type": "stream",
     "text": [
      "1\n",
      "1\n"
     ]
    }
   ],
   "source": [
    "//Implicit Type conversion - all good - Types are compatible\n",
    "byte nCon = 1;\n",
    "int mCon = nCon;\n",
    "Console.WriteLine(mCon);\n",
    "\n",
    "//Implicit Type conversion - all good - Types are compatible\n",
    "int inCon = 2;\n",
    "float flCon=inCon;\n",
    "Console.WriteLine(mCon);\n",
    "\n"
   ]
  },
  {
   "cell_type": "code",
   "execution_count": null,
   "metadata": {},
   "outputs": [],
   "source": []
  },
  {
   "cell_type": "code",
   "execution_count": 8,
   "metadata": {},
   "outputs": [
    {
     "ename": "Unhandled exception",
     "evalue": "(3,14): error CS0266: Cannot implicitly convert type 'int' to 'byte'. An explicit conversion exists (are you missing a cast?)",
     "output_type": "error",
     "traceback": [
      "(3,14): error CS0266: Cannot implicitly convert type 'int' to 'byte'. An explicit conversion exists (are you missing a cast?)"
     ]
    }
   ],
   "source": [
    "//Implicit Type conversion - large to small does not work\n",
    "int inConv = 1;\n",
    "byte mbCon = inConv;\n",
    "Console.WriteLine(mbCon);"
   ]
  },
  {
   "cell_type": "markdown",
   "metadata": {},
   "source": [
    "Best approach here is not know that there will be data loss, and to know the max range of target data type."
   ]
  },
  {
   "cell_type": "code",
   "execution_count": 9,
   "metadata": {},
   "outputs": [
    {
     "name": "stdout",
     "output_type": "stream",
     "text": [
      "1\n"
     ]
    }
   ],
   "source": [
    "//Explicit Type conversion - large to small does not work\n",
    "//Here we need to prefix the variable with the target type:\n",
    "\n",
    "int inConv = 1;\n",
    "byte mbCon = (byte)inConv;\n",
    "Console.WriteLine(mbCon);\n",
    "\n"
   ]
  },
  {
   "cell_type": "code",
   "execution_count": 10,
   "metadata": {},
   "outputs": [
    {
     "ename": "Unhandled exception",
     "evalue": "(3,8): error CS1026: ) expected\n(3,8): error CS1002: ; expected\n(3,17): error CS1002: ; expected\n(3,21): error CS1003: Syntax error, '(' expected\n(3,21): error CS1525: Invalid expression term 'float'\n(3,26): error CS1002: ; expected\n(3,26): error CS1525: Invalid expression term ')'\n(3,26): error CS1002: ; expected",
     "output_type": "error",
     "traceback": [
      "(3,8): error CS1026: ) expected\n(3,8): error CS1002: ; expected\n(3,17): error CS1002: ; expected\n(3,21): error CS1003: Syntax error, '(' expected\n(3,21): error CS1525: Invalid expression term 'float'\n(3,26): error CS1002: ; expected\n(3,26): error CS1525: Invalid expression term ')'\n(3,26): error CS1002: ; expected"
     ]
    }
   ],
   "source": [
    "//Explicit Type conversion - large to small does not work\n",
    "//Here we need to prefix the variable with the target type:\n",
    "(needs f suffix for float)\n",
    "\n",
    "float fConv = 1.0f;\n",
    "int i2Con = (int)fConv;\n",
    "Console.WriteLine(i2Con);\n"
   ]
  },
  {
   "cell_type": "code",
   "execution_count": 11,
   "metadata": {},
   "outputs": [
    {
     "ename": "Unhandled exception",
     "evalue": "(3,13): error CS0030: Cannot convert type 'string' to 'int'",
     "output_type": "error",
     "traceback": [
      "(3,13): error CS0030: Cannot convert type 'string' to 'int'"
     ]
    }
   ],
   "source": [
    "//Converting non compatible type, an\n",
    "string sCon = \"1\";\n",
    "int isCon = (int)sCon;\n",
    "Console.WriteLine(isCon);"
   ]
  },
  {
   "cell_type": "code",
   "execution_count": 12,
   "metadata": {},
   "outputs": [
    {
     "name": "stdout",
     "output_type": "stream",
     "text": [
      "1\n",
      "1\n"
     ]
    }
   ],
   "source": [
    "//Converting non compatible type, using two following methods\n",
    "string sCons = \"1\";\n",
    "int is2Con = Convert.ToInt32(sCons);\n",
    "int is3Con = int.Parse(sCons);\n",
    "Console.WriteLine(is2Con);\n",
    "Console.WriteLine(is3Con);"
   ]
  },
  {
   "cell_type": "markdown",
   "metadata": {},
   "source": [
    "## Operators\n",
    "\n",
    "____\n",
    "\n",
    "We have 5 types of operators.\n",
    "\n",
    "1. Arithmetic\n",
    "\n",
    "+, -, / * , % (Remainder of division)\n",
    "\n",
    "++, -- (shortcuts for adding 1 or subtracting 1)\n",
    "\n",
    "#### Used as Postfix\n",
    "\n",
    "```\n",
    "int a = 1\n",
    "in b = a++\n",
    "```\n",
    "1. First a is assigned to b\n",
    "2. Then a is incremented by 1\n",
    "3. B is NOT a + 1\n",
    "\n",
    "```\n",
    "int a = 1\n",
    "in b = ++a\n",
    "```\n",
    "\n",
    "The pre and postix is applied to RHS variable\n",
    "\n",
    "\n",
    "#### Used as Prefix\n",
    "\n",
    "\n",
    "2. Comparison\n",
    "\n",
    "==,!=, <, <=, >, >=\n",
    "\n",
    "3. Assignment\n",
    "\n",
    "=,+=, -=, *=, /=\n",
    "\n",
    "```\n",
    "a+=3, same as a=a+3, etc\n",
    "```\n",
    "\n",
    "4. Logical\n",
    "\n",
    "&&, ||, !\n",
    "\n",
    "Used in conditional statements\n",
    "\n",
    "\n",
    "5. Bitwise\n",
    "\n",
    "&, |\n",
    "\n",
    "\n"
   ]
  },
  {
   "cell_type": "code",
   "execution_count": 13,
   "metadata": {},
   "outputs": [
    {
     "name": "stdout",
     "output_type": "stream",
     "text": [
      "a = 2\n",
      "b = 1\n"
     ]
    }
   ],
   "source": [
    "//Postfix, b set to a, then a is incremented by 1\n",
    "int aPost = 1;\n",
    "int bPost = aPost++;\n",
    "Console.WriteLine(\"a = {0}\",aPost);\n",
    "Console.WriteLine(\"b = {0}\",bPost);\n"
   ]
  },
  {
   "cell_type": "code",
   "execution_count": 14,
   "metadata": {},
   "outputs": [
    {
     "name": "stdout",
     "output_type": "stream",
     "text": [
      "a = 2\n",
      "b = 2\n"
     ]
    }
   ],
   "source": [
    "//Prefix, a in incremented by 1, then a is assigned to b\n",
    "int aPre = 1;\n",
    "int bPre = ++aPre;\n",
    "Console.WriteLine(\"a = {0}\",aPre);\n",
    "Console.WriteLine(\"b = {0}\",bPre);"
   ]
  },
  {
   "cell_type": "markdown",
   "metadata": {},
   "source": [
    "## Comments\n",
    "\n",
    "____\n",
    "\n",
    "Single line\n",
    "\n",
    "//This is comment\n",
    "\n",
    "Block\n",
    "\n",
    "/*\n",
    "This is block comment\n",
    "\n",
    "*/\n"
   ]
  },
  {
   "cell_type": "code",
   "execution_count": null,
   "metadata": {},
   "outputs": [],
   "source": []
  },
  {
   "cell_type": "code",
   "execution_count": null,
   "metadata": {},
   "outputs": [],
   "source": []
  }
 ],
 "metadata": {
  "kernelspec": {
   "display_name": ".NET (C#)",
   "language": "C#",
   "name": ".net-csharp"
  },
  "language_info": {
   "file_extension": ".cs",
   "mimetype": "text/x-csharp",
   "name": "C#",
   "pygments_lexer": "csharp",
   "version": "8.0"
  }
 },
 "nbformat": 4,
 "nbformat_minor": 4
}
