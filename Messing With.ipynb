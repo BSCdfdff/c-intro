{
 "cells": [
  {
   "cell_type": "markdown",
   "metadata": {},
   "source": [
    "# Messing With\n",
    "\n",
    "1. Classes  (static and instance)\n",
    "2. Params Aragument\n",
    "3. Indexer\n",
    "4. lamda + delegates"
   ]
  },
  {
   "cell_type": "code",
   "execution_count": 17,
   "metadata": {},
   "outputs": [],
   "source": [
    "public class Person{\n",
    "    \n",
    "    public string Name;\n",
    "    public static string Surname;\n",
    "    //public string Surname;\n",
    "    public string AccountBalance;\n",
    "    \n",
    "    public static int StaticVar = 0;\n",
    "    \n",
    "    public void Introduce(){\n",
    "        Console.WriteLine(\"My name is {0} {1}\", Name,Surname );\n",
    "    }\n",
    "    \n",
    "    public void ParseSurname(string surname){\n",
    "        Surname= surname;\n",
    "    }\n",
    "    \n",
    "     \n",
    "\n",
    "        \n",
    "}"
   ]
  },
  {
   "cell_type": "code",
   "execution_count": 18,
   "metadata": {},
   "outputs": [
    {
     "ename": "Unhandled exception",
     "evalue": "(3,5): error CS1914: Static field or property 'Person.Surname' cannot be assigned in an object initializer",
     "output_type": "error",
     "traceback": [
      "(3,5): error CS1914: Static field or property 'Person.Surname' cannot be assigned in an object initializer"
     ]
    }
   ],
   "source": [
    "var person = new Person{\n",
    "    Name = \"Chuck\",\n",
    "    Surname= \"Windy\"\n",
    "};\n",
    "person.Introduce(); "
   ]
  },
  {
   "cell_type": "code",
   "execution_count": 11,
   "metadata": {},
   "outputs": [],
   "source": [
    "var person = new Person();\n",
    "person.Name = \"Chesney\";"
   ]
  },
  {
   "cell_type": "code",
   "execution_count": 12,
   "metadata": {},
   "outputs": [],
   "source": [
    "//Get the person surname\n",
    "person.ParseSurname(\"Cheetos\");\n"
   ]
  },
  {
   "cell_type": "code",
   "execution_count": 13,
   "metadata": {},
   "outputs": [
    {
     "name": "stdout",
     "output_type": "stream",
     "text": [
      "My name is Chesney Cheetos\n"
     ]
    }
   ],
   "source": [
    "//Which one do we use to show introduce\n",
    "person.Introduce(); \n"
   ]
  },
  {
   "cell_type": "markdown",
   "metadata": {},
   "source": [
    "### Params"
   ]
  },
  {
   "cell_type": "code",
   "execution_count": 19,
   "metadata": {},
   "outputs": [],
   "source": [
    "public class Calculator{\n",
    "     public int Add(int[] numbers){\n",
    "         \n",
    "         int sum = 0;\n",
    "         foreach(int num in numbers){\n",
    "             sum +=num;\n",
    "             \n",
    "         }\n",
    "         return sum; \n",
    "     }\n",
    "     \n",
    "     \n",
    "     public int Add_new(params int[] numbers){\n",
    "         \n",
    "         int sum = 0;\n",
    "         foreach(int num in numbers){\n",
    "             sum +=num;\n",
    "             \n",
    "         }\n",
    "         return sum; \n",
    "     }\n",
    "     \n",
    "}"
   ]
  },
  {
   "cell_type": "code",
   "execution_count": 21,
   "metadata": {},
   "outputs": [
    {
     "name": "stdout",
     "output_type": "stream",
     "text": [
      "The sum is 10\n"
     ]
    }
   ],
   "source": [
    "//Traditional way\n",
    "//Here we have to set the size\n",
    "var calcs = new Calculator();\n",
    "\n",
    "var sum2 = calcs.Add(new int[4]{1,2,3,4}); \n",
    "Console.WriteLine(\"The sum is {0}\",sum2);"
   ]
  },
  {
   "cell_type": "code",
   "execution_count": 25,
   "metadata": {},
   "outputs": [
    {
     "name": "stdout",
     "output_type": "stream",
     "text": [
      "The sum is 55\n"
     ]
    }
   ],
   "source": [
    "//no need to define array\n",
    "var calcs = new Calculator();\n",
    "\n",
    "var sum = calcs.Add_new(1,2,3,4,5,6,7,8,9,10); \n",
    "Console.WriteLine(\"The sum is {0}\",sum);"
   ]
  },
  {
   "cell_type": "markdown",
   "metadata": {},
   "source": [
    "## Indexer\n",
    "\n",
    "Used together with params..."
   ]
  },
  {
   "cell_type": "code",
   "execution_count": 38,
   "metadata": {},
   "outputs": [],
   "source": [
    "public class Person{\n",
    "  private Dictionary<string, string> _name;\n",
    "  private int[] _marks;\n",
    "\n",
    "  \n",
    "  public Person(){\n",
    "      _name = new Dictionary<string, string>();\n",
    "      \n",
    "  \n",
    "  }\n",
    "  \n",
    "  public Person(params int[] mks){\n",
    "      _marks = mks;\n",
    "  \n",
    "  }\n",
    "  \n",
    "  \n",
    "  public string this[string key]{\n",
    "    get { return _name[key];}\n",
    "    set {  _name[key] = value;}\n",
    "  }\n",
    "  \n",
    "  public int this[int idx]{\n",
    "    get { return _marks[idx];}\n",
    "    set { _marks[idx] = value;}\n",
    "  }\n",
    "  \n",
    "  \n",
    " \n",
    "}"
   ]
  },
  {
   "cell_type": "code",
   "execution_count": 39,
   "metadata": {},
   "outputs": [
    {
     "name": "stdout",
     "output_type": "stream",
     "text": [
      "My name is Smith\n",
      "My name is Zinscky\n",
      "My name is Petent\n",
      "My name is Barrangton\n"
     ]
    }
   ],
   "source": [
    "var person = new Person();\n",
    "person[\"John\"] = \"Smith\";\n",
    "person[\"Kat\"] = \"Zinscky\";\n",
    "person[\"Com\"] = \"Petent\";\n",
    "person[\"High\"] = \"Barrangton\";\n",
    "Console.WriteLine(\"My name is {0}\",person[\"John\"]);\n",
    "Console.WriteLine(\"My name is {0}\",person[\"Kat\"]);\n",
    "Console.WriteLine(\"My name is {0}\",person[\"Com\"]);\n",
    "Console.WriteLine(\"My name is {0}\",person[\"High\"]);"
   ]
  },
  {
   "cell_type": "code",
   "execution_count": 40,
   "metadata": {},
   "outputs": [
    {
     "name": "stdout",
     "output_type": "stream",
     "text": [
      "My name is 7361\n",
      "My name is 4872\n",
      "My name is 23\n",
      "My name is 44\n"
     ]
    }
   ],
   "source": [
    "var person = new Person(7361,4872,23,44,675);\n",
    "Console.WriteLine(\"My name is {0}\",person[0]);\n",
    "Console.WriteLine(\"My name is {0}\",person[1]);\n",
    "Console.WriteLine(\"My name is {0}\",person[2]);\n",
    "Console.WriteLine(\"My name is {0}\",person[3]);"
   ]
  },
  {
   "cell_type": "markdown",
   "metadata": {},
   "source": [
    "## Lambdas (using Delegates)\n",
    "\n",
    "adding multiple arguments"
   ]
  },
  {
   "cell_type": "code",
   "execution_count": 17,
   "metadata": {},
   "outputs": [
    {
     "name": "stdout",
     "output_type": "stream",
     "text": [
      "The square of 5 is 27, adding factor 2.\n"
     ]
    }
   ],
   "source": [
    "Func<int,int,int> square = (number,factor)=>number * number + factor;\n",
    "Console.WriteLine(\"The square of {0} is {1}, adding factor {2}.\", 5, square(5,2),2);"
   ]
  },
  {
   "cell_type": "code",
   "execution_count": 1,
   "metadata": {},
   "outputs": [
    {
     "data": {
      "text/html": [
       "\r\n",
       "<div>\r\n",
       "    <div id='dotnet-interactive-this-cell-4338d0e843c44ebe9c9a79095730abb7' style='display: none'>\r\n",
       "        The below script needs to be able to find the current output cell; this is an easy method to get it.\r\n",
       "    </div>\r\n",
       "    <script type='text/javascript'>\r\n",
       "// ensure `requirejs` is available globally\r\n",
       "if (typeof requirejs !== typeof Function || typeof requirejs.config !== typeof Function) {\r\n",
       "    let requirejs_script = document.createElement('script');\r\n",
       "    requirejs_script.setAttribute('src', 'https://cdnjs.cloudflare.com/ajax/libs/require.js/2.3.6/require.min.js');\r\n",
       "    requirejs_script.setAttribute('type', 'text/javascript');\r\n",
       "    requirejs_script.onload = function () {\r\n",
       "        loadDotnetInteractiveApi();\r\n",
       "    };\r\n",
       "\r\n",
       "    document.getElementsByTagName('head')[0].appendChild(requirejs_script);\r\n",
       "}\r\n",
       "else {\r\n",
       "    loadDotnetInteractiveApi();\r\n",
       "}\r\n",
       "\r\n",
       "async function probeAddresses(probingAddresses) {\r\n",
       "    function timeout(ms, promise) {\r\n",
       "        return new Promise(function (resolve, reject) {\r\n",
       "            setTimeout(function () {\r\n",
       "                reject(new Error('timeout'))\r\n",
       "            }, ms)\r\n",
       "            promise.then(resolve, reject)\r\n",
       "        })\r\n",
       "    }\r\n",
       "\r\n",
       "    if (Array.isArray(probingAddresses)) {\r\n",
       "        for (let i = 0; i < probingAddresses.length; i++) {\r\n",
       "\r\n",
       "            let rootUrl = probingAddresses[i];\r\n",
       "\r\n",
       "            if (!rootUrl.endsWith('/')) {\r\n",
       "                rootUrl = `${rootUrl}/`;\r\n",
       "            }\r\n",
       "\r\n",
       "            try {\r\n",
       "                let response = await timeout(1000, fetch(`${rootUrl}discovery`, {\r\n",
       "                    method: 'POST',\r\n",
       "                    timeout: 1000,\r\n",
       "                    headers: {\r\n",
       "                        'Content-Type': 'text/plain'\r\n",
       "                    },\r\n",
       "                    body: probingAddresses[i]\r\n",
       "                }));\r\n",
       "\r\n",
       "                if (response.status == 200) {\r\n",
       "                    return rootUrl;\r\n",
       "                }\r\n",
       "            }\r\n",
       "            catch (e) { }\r\n",
       "        }\r\n",
       "    }\r\n",
       "}\r\n",
       "\r\n",
       "function loadDotnetInteractiveApi() {\r\n",
       "    probeAddresses([\"http://192.168.0.107:1028/\", \"http://127.0.0.1:1028/\"])\r\n",
       "        .then((root) => {\r\n",
       "            // use probing to find host url and api resources\r\n",
       "            // load interactive helpers and language services\r\n",
       "            let dotnet_require = requirejs.config({\r\n",
       "                context: '10812.4338d0e843c44ebe9c9a79095730abb7',\r\n",
       "                paths: {\r\n",
       "                    'dotnet-interactive': `${root}resources`\r\n",
       "                }\r\n",
       "            });\r\n",
       "            if (!window.dotnet_require) {\r\n",
       "                window.dotnet_require = dotnet_require;\r\n",
       "            }\r\n",
       "        \r\n",
       "            dotnet_require([\r\n",
       "                    'dotnet-interactive/dotnet-interactive'\r\n",
       "                ],\r\n",
       "                function (dotnet) {\r\n",
       "                    dotnet.init(window);\r\n",
       "                },\r\n",
       "                function (error) {\r\n",
       "                    console.log(error);\r\n",
       "                }\r\n",
       "            );\r\n",
       "        })\r\n",
       "        .catch(error => {console.log(error);});\r\n",
       "    }\r\n",
       "    </script>\r\n",
       "</div>"
      ]
     },
     "metadata": {},
     "output_type": "display_data"
    },
    {
     "ename": "Unhandled exception",
     "evalue": "(11,17): error CS1001: Identifier expected",
     "output_type": "error",
     "traceback": [
      "(11,17): error CS1001: Identifier expected"
     ]
    }
   ],
   "source": [
    "public class CheckNumber{\n",
    "    public reradonly int num;\n",
    "    CheckNumber(int no){\n",
    "        num = no;\n",
    "    }\n",
    "\n",
    "   public static void MakeCheck(int CusNo){\n",
    "        Console.WriteLine(\"MakeCheck\");\n",
    "   }\n",
    "   MakeCheck(num);\n",
    "    \n",
    " }   "
   ]
  },
  {
   "cell_type": "code",
   "execution_count": 6,
   "metadata": {},
   "outputs": [],
   "source": [
    "string str1 = \"indigo\";\n",
    "string str2, str3;\n",
    "\n",
    "str1 = str1.ToUpper();"
   ]
  },
  {
   "cell_type": "code",
   "execution_count": 8,
   "metadata": {
    "scrolled": true
   },
   "outputs": [
    {
     "ename": "Unhandled exception",
     "evalue": "System.ArrayTypeMismatchException: Attempted to access an element as a type incompatible with the array.\n   at Submission#13.<<Initialize>>d__0.MoveNext()\n--- End of stack trace from previous location where exception was thrown ---\n   at Microsoft.CodeAnalysis.Scripting.ScriptExecutionState.RunSubmissionsAsync[TResult](ImmutableArray`1 precedingExecutors, Func`2 currentExecutor, StrongBox`1 exceptionHolderOpt, Func`2 catchExceptionOpt, CancellationToken cancellationToken)",
     "output_type": "error",
     "traceback": [
      "System.ArrayTypeMismatchException: Attempted to access an element as a type incompatible with the array.\n   at Submission#13.<<Initialize>>d__0.MoveNext()\n--- End of stack trace from previous location where exception was thrown ---\n   at Microsoft.CodeAnalysis.Scripting.ScriptExecutionState.RunSubmissionsAsync[TResult](ImmutableArray`1 precedingExecutors, Func`2 currentExecutor, StrongBox`1 exceptionHolderOpt, Func`2 catchExceptionOpt, CancellationToken cancellationToken)",
      "   at Submission#13.<<Initialize>>d__0.MoveNext()",
      "--- End of stack trace from previous location where exception was thrown ---",
      "   at Microsoft.CodeAnalysis.Scripting.ScriptExecutionState.RunSubmissionsAsync[TResult](ImmutableArray`1 precedingExecutors, Func`2 currentExecutor, StrongBox`1 exceptionHolderOpt, Func`2 catchExceptionOpt, CancellationToken cancellationToken)"
     ]
    }
   ],
   "source": [
    "object[] array = new String[5];\n",
    "array[0]= 10;"
   ]
  },
  {
   "cell_type": "code",
   "execution_count": 13,
   "metadata": {},
   "outputs": [
    {
     "ename": "Unhandled exception",
     "evalue": "(7,8): error CS0102: The type 'Submission#18' already contains a definition for 'item'\n(7,21): error CS1061: 'Dictionary<string, object>' does not contain a definition for 'GetValue' and no accessible extension method 'GetValue' accepting a first argument of type 'Dictionary<string, object>' could be found (are you missing a using directive or an assembly reference?)",
     "output_type": "error",
     "traceback": [
      "(7,8): error CS0102: The type 'Submission#18' already contains a definition for 'item'\n(7,21): error CS1061: 'Dictionary<string, object>' does not contain a definition for 'GetValue' and no accessible extension method 'GetValue' accepting a first argument of type 'Dictionary<string, object>' could be found (are you missing a using directive or an assembly reference?)"
     ]
    }
   ],
   "source": [
    "Dictionary <string, object> items = new Dictionary<string, object>();\n",
    "\n",
    "//items.Add(\"XYZ\", \"notepad.exe\");\n",
    "\n",
    "object item = items[\"XYZ\"];\n",
    "\n",
    "object item = items.GetValue(\"XYZ\");\n"
   ]
  },
  {
   "cell_type": "code",
   "execution_count": 14,
   "metadata": {},
   "outputs": [
    {
     "ename": "Unhandled exception",
     "evalue": "(7,21): error CS1061: 'Dictionary<string, object>' does not contain a definition for 'GetValue' and no accessible extension method 'GetValue' accepting a first argument of type 'Dictionary<string, object>' could be found (are you missing a using directive or an assembly reference?)",
     "output_type": "error",
     "traceback": [
      "(7,21): error CS1061: 'Dictionary<string, object>' does not contain a definition for 'GetValue' and no accessible extension method 'GetValue' accepting a first argument of type 'Dictionary<string, object>' could be found (are you missing a using directive or an assembly reference?)"
     ]
    }
   ],
   "source": [
    "Dictionary <string, object> items1 = new Dictionary<string, object>();\n",
    "\n",
    "items1.Add(\"XYZ\", \"notepad.exe\");\n",
    "\n",
    "\n",
    "\n",
    "object item = items.GetValue(\"XYZ\");"
   ]
  },
  {
   "cell_type": "code",
   "execution_count": 16,
   "metadata": {},
   "outputs": [
    {
     "ename": "Unhandled exception",
     "evalue": "(2,9): error CS0029: Cannot implicitly convert type '<anonymous type: int Age, string City>' to '<anonymous type: int ID, string Name>'",
     "output_type": "error",
     "traceback": [
      "(2,9): error CS0029: Cannot implicitly convert type '<anonymous type: int Age, string City>' to '<anonymous type: int ID, string Name>'"
     ]
    }
   ],
   "source": [
    "var MyVar = new {ID =100, Name =\"Bob\"};\n",
    "MyVar = new {Age =12, City =\"Bob\"};"
   ]
  },
  {
   "cell_type": "code",
   "execution_count": 17,
   "metadata": {},
   "outputs": [
    {
     "ename": "Unhandled exception",
     "evalue": "System.InvalidOperationException: Nullable object must have a value.\n   at System.Nullable`1.get_Value()\n   at Submission#22.<<Initialize>>d__0.MoveNext()\n--- End of stack trace from previous location where exception was thrown ---\n   at Microsoft.CodeAnalysis.Scripting.ScriptExecutionState.RunSubmissionsAsync[TResult](ImmutableArray`1 precedingExecutors, Func`2 currentExecutor, StrongBox`1 exceptionHolderOpt, Func`2 catchExceptionOpt, CancellationToken cancellationToken)",
     "output_type": "error",
     "traceback": [
      "System.InvalidOperationException: Nullable object must have a value.\n   at System.Nullable`1.get_Value()\n   at Submission#22.<<Initialize>>d__0.MoveNext()\n--- End of stack trace from previous location where exception was thrown ---\n   at Microsoft.CodeAnalysis.Scripting.ScriptExecutionState.RunSubmissionsAsync[TResult](ImmutableArray`1 precedingExecutors, Func`2 currentExecutor, StrongBox`1 exceptionHolderOpt, Func`2 catchExceptionOpt, CancellationToken cancellationToken)",
      "   at System.Nullable`1.get_Value()",
      "   at Submission#22.<<Initialize>>d__0.MoveNext()",
      "--- End of stack trace from previous location where exception was thrown ---",
      "   at Microsoft.CodeAnalysis.Scripting.ScriptExecutionState.RunSubmissionsAsync[TResult](ImmutableArray`1 precedingExecutors, Func`2 currentExecutor, StrongBox`1 exceptionHolderOpt, Func`2 catchExceptionOpt, CancellationToken cancellationToken)"
     ]
    }
   ],
   "source": [
    "int? a = null;\n",
    "int b = (int)a;\n"
   ]
  },
  {
   "cell_type": "code",
   "execution_count": 19,
   "metadata": {},
   "outputs": [
    {
     "ename": "Unhandled exception",
     "evalue": "(1,24): error CS0103: The name 'PropertyChanged' does not exist in the current context\n(2,5): error CS0103: The name 'handler' does not exist in the current context\n(3,20): error CS0027: Keyword 'this' is not available in the current context",
     "output_type": "error",
     "traceback": [
      "(1,24): error CS0103: The name 'PropertyChanged' does not exist in the current context\n(2,5): error CS0103: The name 'handler' does not exist in the current context\n(3,20): error CS0027: Keyword 'this' is not available in the current context"
     ]
    }
   ],
   "source": [
    "EventHandler hanlder = PropertyChanged;\n",
    "if (handler != null){\n",
    "    hanlder.Invoke(this. EventArgs.Empty);\n",
    "}"
   ]
  },
  {
   "cell_type": "code",
   "execution_count": null,
   "metadata": {},
   "outputs": [],
   "source": []
  },
  {
   "cell_type": "code",
   "execution_count": null,
   "metadata": {},
   "outputs": [],
   "source": []
  },
  {
   "cell_type": "code",
   "execution_count": null,
   "metadata": {},
   "outputs": [],
   "source": []
  },
  {
   "cell_type": "code",
   "execution_count": null,
   "metadata": {},
   "outputs": [],
   "source": []
  },
  {
   "cell_type": "code",
   "execution_count": null,
   "metadata": {},
   "outputs": [],
   "source": []
  }
 ],
 "metadata": {
  "kernelspec": {
   "display_name": ".NET (C#)",
   "language": "C#",
   "name": ".net-csharp"
  },
  "language_info": {
   "file_extension": ".cs",
   "mimetype": "text/x-csharp",
   "name": "C#",
   "pygments_lexer": "csharp",
   "version": "8.0"
  }
 },
 "nbformat": 4,
 "nbformat_minor": 4
}
