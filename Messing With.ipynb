{
 "cells": [
  {
   "cell_type": "markdown",
   "metadata": {},
   "source": [
    "# Messing With\n",
    "\n",
    "1. Classes  (static and instance)\n",
    "2. Params Aragument\n",
    "3. Indexer\n",
    "4. lamda + delegates"
   ]
  },
  {
   "cell_type": "code",
   "execution_count": 17,
   "metadata": {},
   "outputs": [],
   "source": [
    "public class Person{\n",
    "    \n",
    "    public string Name;\n",
    "    public static string Surname;\n",
    "    //public string Surname;\n",
    "    public string AccountBalance;\n",
    "    \n",
    "    public static int StaticVar = 0;\n",
    "    \n",
    "    public void Introduce(){\n",
    "        Console.WriteLine(\"My name is {0} {1}\", Name,Surname );\n",
    "    }\n",
    "    \n",
    "    public void ParseSurname(string surname){\n",
    "        Surname= surname;\n",
    "    }\n",
    "    \n",
    "     \n",
    "\n",
    "        \n",
    "}"
   ]
  },
  {
   "cell_type": "code",
   "execution_count": 18,
   "metadata": {},
   "outputs": [
    {
     "ename": "Unhandled exception",
     "evalue": "(3,5): error CS1914: Static field or property 'Person.Surname' cannot be assigned in an object initializer",
     "output_type": "error",
     "traceback": [
      "(3,5): error CS1914: Static field or property 'Person.Surname' cannot be assigned in an object initializer"
     ]
    }
   ],
   "source": [
    "var person = new Person{\n",
    "    Name = \"Chuck\",\n",
    "    Surname= \"Windy\"\n",
    "};\n",
    "person.Introduce(); "
   ]
  },
  {
   "cell_type": "code",
   "execution_count": 11,
   "metadata": {},
   "outputs": [],
   "source": [
    "var person = new Person();\n",
    "person.Name = \"Chesney\";"
   ]
  },
  {
   "cell_type": "code",
   "execution_count": 12,
   "metadata": {},
   "outputs": [],
   "source": [
    "//Get the person surname\n",
    "person.ParseSurname(\"Cheetos\");\n"
   ]
  },
  {
   "cell_type": "code",
   "execution_count": 13,
   "metadata": {},
   "outputs": [
    {
     "name": "stdout",
     "output_type": "stream",
     "text": [
      "My name is Chesney Cheetos\n"
     ]
    }
   ],
   "source": [
    "//Which one do we use to show introduce\n",
    "person.Introduce(); \n"
   ]
  },
  {
   "cell_type": "markdown",
   "metadata": {},
   "source": [
    "### Params"
   ]
  },
  {
   "cell_type": "code",
   "execution_count": 19,
   "metadata": {},
   "outputs": [],
   "source": [
    "public class Calculator{\n",
    "     public int Add(int[] numbers){\n",
    "         \n",
    "         int sum = 0;\n",
    "         foreach(int num in numbers){\n",
    "             sum +=num;\n",
    "             \n",
    "         }\n",
    "         return sum; \n",
    "     }\n",
    "     \n",
    "     \n",
    "     public int Add_new(params int[] numbers){\n",
    "         \n",
    "         int sum = 0;\n",
    "         foreach(int num in numbers){\n",
    "             sum +=num;\n",
    "             \n",
    "         }\n",
    "         return sum; \n",
    "     }\n",
    "     \n",
    "}"
   ]
  },
  {
   "cell_type": "code",
   "execution_count": 21,
   "metadata": {},
   "outputs": [
    {
     "name": "stdout",
     "output_type": "stream",
     "text": [
      "The sum is 10\n"
     ]
    }
   ],
   "source": [
    "//Traditional way\n",
    "//Here we have to set the size\n",
    "var calcs = new Calculator();\n",
    "\n",
    "var sum2 = calcs.Add(new int[4]{1,2,3,4}); \n",
    "Console.WriteLine(\"The sum is {0}\",sum2);"
   ]
  },
  {
   "cell_type": "code",
   "execution_count": 25,
   "metadata": {},
   "outputs": [
    {
     "name": "stdout",
     "output_type": "stream",
     "text": [
      "The sum is 55\n"
     ]
    }
   ],
   "source": [
    "//no need to define array\n",
    "var calcs = new Calculator();\n",
    "\n",
    "var sum = calcs.Add_new(1,2,3,4,5,6,7,8,9,10); \n",
    "Console.WriteLine(\"The sum is {0}\",sum);"
   ]
  },
  {
   "cell_type": "markdown",
   "metadata": {},
   "source": [
    "## Indexer\n",
    "\n",
    "Used together with params..."
   ]
  },
  {
   "cell_type": "code",
   "execution_count": 38,
   "metadata": {},
   "outputs": [],
   "source": [
    "public class Person{\n",
    "  private Dictionary<string, string> _name;\n",
    "  private int[] _marks;\n",
    "\n",
    "  \n",
    "  public Person(){\n",
    "      _name = new Dictionary<string, string>();\n",
    "      \n",
    "  \n",
    "  }\n",
    "  \n",
    "  public Person(params int[] mks){\n",
    "      _marks = mks;\n",
    "  \n",
    "  }\n",
    "  \n",
    "  \n",
    "  public string this[string key]{\n",
    "    get { return _name[key];}\n",
    "    set {  _name[key] = value;}\n",
    "  }\n",
    "  \n",
    "  public int this[int idx]{\n",
    "    get { return _marks[idx];}\n",
    "    set { _marks[idx] = value;}\n",
    "  }\n",
    "  \n",
    "  \n",
    " \n",
    "}"
   ]
  },
  {
   "cell_type": "code",
   "execution_count": 39,
   "metadata": {},
   "outputs": [
    {
     "name": "stdout",
     "output_type": "stream",
     "text": [
      "My name is Smith\n",
      "My name is Zinscky\n",
      "My name is Petent\n",
      "My name is Barrangton\n"
     ]
    }
   ],
   "source": [
    "var person = new Person();\n",
    "person[\"John\"] = \"Smith\";\n",
    "person[\"Kat\"] = \"Zinscky\";\n",
    "person[\"Com\"] = \"Petent\";\n",
    "person[\"High\"] = \"Barrangton\";\n",
    "Console.WriteLine(\"My name is {0}\",person[\"John\"]);\n",
    "Console.WriteLine(\"My name is {0}\",person[\"Kat\"]);\n",
    "Console.WriteLine(\"My name is {0}\",person[\"Com\"]);\n",
    "Console.WriteLine(\"My name is {0}\",person[\"High\"]);"
   ]
  },
  {
   "cell_type": "code",
   "execution_count": 40,
   "metadata": {},
   "outputs": [
    {
     "name": "stdout",
     "output_type": "stream",
     "text": [
      "My name is 7361\n",
      "My name is 4872\n",
      "My name is 23\n",
      "My name is 44\n"
     ]
    }
   ],
   "source": [
    "var person = new Person(7361,4872,23,44,675);\n",
    "Console.WriteLine(\"My name is {0}\",person[0]);\n",
    "Console.WriteLine(\"My name is {0}\",person[1]);\n",
    "Console.WriteLine(\"My name is {0}\",person[2]);\n",
    "Console.WriteLine(\"My name is {0}\",person[3]);"
   ]
  },
  {
   "cell_type": "markdown",
   "metadata": {},
   "source": [
    "## Lambdas (using Delegates)\n",
    "\n",
    "adding multiple arguments"
   ]
  },
  {
   "cell_type": "code",
   "execution_count": 17,
   "metadata": {},
   "outputs": [
    {
     "name": "stdout",
     "output_type": "stream",
     "text": [
      "The square of 5 is 27, adding factor 2.\n"
     ]
    }
   ],
   "source": [
    "Func<int,int,int> square = (number,factor)=>number * number + factor;\n",
    "Console.WriteLine(\"The square of {0} is {1}, adding factor {2}.\", 5, square(5,2),2);"
   ]
  },
  {
   "cell_type": "code",
   "execution_count": null,
   "metadata": {},
   "outputs": [],
   "source": []
  },
  {
   "cell_type": "code",
   "execution_count": null,
   "metadata": {},
   "outputs": [],
   "source": []
  },
  {
   "cell_type": "code",
   "execution_count": null,
   "metadata": {},
   "outputs": [],
   "source": []
  }
 ],
 "metadata": {
  "kernelspec": {
   "display_name": ".NET (C#)",
   "language": "C#",
   "name": ".net-csharp"
  },
  "language_info": {
   "file_extension": ".cs",
   "mimetype": "text/x-csharp",
   "name": "C#",
   "pygments_lexer": "csharp",
   "version": "8.0"
  }
 },
 "nbformat": 4,
 "nbformat_minor": 4
}
