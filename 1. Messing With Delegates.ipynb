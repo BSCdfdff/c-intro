{
 "cells": [
  {
   "cell_type": "markdown",
   "metadata": {},
   "source": [
    "# Messing With\n",
    "\n",
    "1. Delegates\n"
   ]
  },
  {
   "cell_type": "markdown",
   "metadata": {},
   "source": [
    "Use the following website for messing around as well:\n",
    "\n",
    "https://repl.it/repls/ReflectingGrowlingWebsites#main.cs\n"
   ]
  },
  {
   "cell_type": "markdown",
   "metadata": {},
   "source": [
    "## There are two ways to  implement a delegate\n",
    "\n",
    "____\n",
    "\n",
    "### First way  - using the delegate keyword\n",
    "\n",
    "You define the signature \n",
    "\n",
    "```\n",
    "    public delegate void CalcHandler (int x, int y);\n",
    "\n",
    "    public void PerformCalc(CalcHandler calchandler){\n",
    "        calchandler(_first, _second);\n",
    "    }\n",
    "```\n",
    "\n",
    "When you implement (concrete) it (or call it)\n",
    "\n",
    "```\n",
    "DoAnother.CalcHandler clcHandler = doS.Calc;\n",
    "doA.PerformCalc(clcHandler);\n",
    "\n",
    "```\n",
    "### Second way  - using Func or Action keyword\n",
    "\n",
    "You define the signature. No need to still define a separate \"delegate\" reference (asbove)\n",
    "\n",
    "\n",
    "```\n",
    "   public void PerformCalc(Action<int, int> calchandler){\n",
    "          calchandler(_first, _second);\n",
    "   }\n",
    "```\n",
    "\n",
    "When you implement (concrete) it (or call it)\n",
    "\n",
    "\n",
    "```\n",
    "Action<int, int> clcHandler = doS.Calc;\n",
    "doA.PerformCalc(clcHandler);\n",
    "```"
   ]
  },
  {
   "cell_type": "code",
   "execution_count": null,
   "metadata": {},
   "outputs": [],
   "source": []
  },
  {
   "cell_type": "markdown",
   "metadata": {},
   "source": [
    "## First way\n",
    "____"
   ]
  },
  {
   "cell_type": "code",
   "execution_count": 7,
   "metadata": {},
   "outputs": [],
   "source": [
    "public class DoSomething{\n",
    "  public void Calc(int a , int b){\n",
    "    dynamic res = a+b;\n",
    "    Console.WriteLine(\"Result:{0}\", res);\n",
    "  }\n",
    "\n",
    "}\n"
   ]
  },
  {
   "cell_type": "code",
   "execution_count": 8,
   "metadata": {},
   "outputs": [],
   "source": [
    "public class DoAnother{\n",
    "  private readonly int _first;\n",
    "  private readonly int _second;\n",
    "  public delegate void CalcHandler (int x, int y);\n",
    "  \n",
    "  public DoAnother(int fr1, int fr2){\n",
    "    _first = fr1;\n",
    "    _second = fr2;\n",
    "  }\n",
    "  \n",
    "  public void PerformCalc(CalcHandler calchandler){\n",
    "      calchandler(_first, _second);\n",
    "  }\n",
    "\n",
    "}"
   ]
  },
  {
   "cell_type": "code",
   "execution_count": 9,
   "metadata": {},
   "outputs": [
    {
     "name": "stdout",
     "output_type": "stream",
     "text": [
      "Result:40\n",
      "Yipper\n"
     ]
    }
   ],
   "source": [
    "var doA = new DoAnother(10, 30);\n",
    "var doS = new DoSomething();\n",
    "\n",
    "DoAnother.CalcHandler clcHandler = doS.Calc;\n",
    "doA.PerformCalc(clcHandler);\n",
    "\n",
    "Console.WriteLine(\"Yipper\");"
   ]
  },
  {
   "cell_type": "markdown",
   "metadata": {},
   "source": [
    "## Second way\n",
    "____\n",
    "\n",
    "\n"
   ]
  },
  {
   "cell_type": "code",
   "execution_count": 10,
   "metadata": {},
   "outputs": [],
   "source": [
    "public class DoSomething{\n",
    "  public void Calc(int a , int b){\n",
    "    dynamic res = a+b;\n",
    "    Console.WriteLine(\"Result:{0}\", res);\n",
    "  }\n",
    "\n",
    "}\n"
   ]
  },
  {
   "cell_type": "code",
   "execution_count": 11,
   "metadata": {},
   "outputs": [],
   "source": [
    "public class DoAnother{\n",
    "  private readonly int _first;\n",
    "  private readonly int _second;\n",
    "  \n",
    "  public DoAnother(int fr1, int fr2){\n",
    "    _first = fr1;\n",
    "    _second = fr2;\n",
    "  }\n",
    "  \n",
    "    public void PerformCalc(Action<int, int> calchandler){\n",
    "      calchandler(_first, _second);\n",
    "  }\n",
    "\n",
    "}"
   ]
  },
  {
   "cell_type": "code",
   "execution_count": 12,
   "metadata": {},
   "outputs": [
    {
     "name": "stdout",
     "output_type": "stream",
     "text": [
      "Result:40\n",
      "Yipper\n"
     ]
    }
   ],
   "source": [
    "var doA = new DoAnother(10, 30);\n",
    "var doS = new DoSomething();\n",
    "\n",
    "Action<int, int> clcHandler = doS.Calc;\n",
    "doA.PerformCalc(clcHandler);\n",
    "\n",
    "Console.WriteLine(\"Yipper\");"
   ]
  },
  {
   "cell_type": "code",
   "execution_count": null,
   "metadata": {},
   "outputs": [],
   "source": []
  },
  {
   "cell_type": "code",
   "execution_count": null,
   "metadata": {},
   "outputs": [],
   "source": []
  }
 ],
 "metadata": {
  "kernelspec": {
   "display_name": ".NET (C#)",
   "language": "C#",
   "name": ".net-csharp"
  },
  "language_info": {
   "file_extension": ".cs",
   "mimetype": "text/x-csharp",
   "name": "C#",
   "pygments_lexer": "csharp",
   "version": "8.0"
  }
 },
 "nbformat": 4,
 "nbformat_minor": 4
}
