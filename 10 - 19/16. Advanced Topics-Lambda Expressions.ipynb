{
 "cells": [
  {
   "cell_type": "markdown",
   "metadata": {},
   "source": [
    "# Advanced Topics : Lambda Expressions\n",
    "\n",
    "____\n",
    "\n",
    "1. Generics\n",
    "2. Delegates\n",
    "3. Lambda Expressions\n",
    "4. Events\n",
    "5. Extension Methods\n",
    "6. LINQ\n",
    "7. Nulllable Types\n",
    "8. Dynamic\n",
    "9. Exception Handling\n",
    "10. Asynchronous Programming\n",
    "\n"
   ]
  },
  {
   "cell_type": "code",
   "execution_count": 1,
   "metadata": {},
   "outputs": [
    {
     "data": {
      "text/html": [
       "\r\n",
       "<div>\r\n",
       "    <div id='dotnet-interactive-this-cell-fef4654a63ca43138b6641b44f548720' style='display: none'>\r\n",
       "        The below script needs to be able to find the current output cell; this is an easy method to get it.\r\n",
       "    </div>\r\n",
       "    <script type='text/javascript'>\r\n",
       "// ensure `requirejs` is available globally\r\n",
       "if (typeof requirejs !== typeof Function || typeof requirejs.config !== typeof Function) {\r\n",
       "    let requirejs_script = document.createElement('script');\r\n",
       "    requirejs_script.setAttribute('src', 'https://cdnjs.cloudflare.com/ajax/libs/require.js/2.3.6/require.min.js');\r\n",
       "    requirejs_script.setAttribute('type', 'text/javascript');\r\n",
       "    requirejs_script.onload = function () {\r\n",
       "        loadDotnetInteractiveApi();\r\n",
       "    };\r\n",
       "\r\n",
       "    document.getElementsByTagName('head')[0].appendChild(requirejs_script);\r\n",
       "}\r\n",
       "else {\r\n",
       "    loadDotnetInteractiveApi();\r\n",
       "}\r\n",
       "\r\n",
       "async function probeAddresses(probingAddresses) {\r\n",
       "    function timeout(ms, promise) {\r\n",
       "        return new Promise(function (resolve, reject) {\r\n",
       "            setTimeout(function () {\r\n",
       "                reject(new Error('timeout'))\r\n",
       "            }, ms)\r\n",
       "            promise.then(resolve, reject)\r\n",
       "        })\r\n",
       "    }\r\n",
       "\r\n",
       "    if (Array.isArray(probingAddresses)) {\r\n",
       "        for (let i = 0; i < probingAddresses.length; i++) {\r\n",
       "\r\n",
       "            let rootUrl = probingAddresses[i];\r\n",
       "\r\n",
       "            if (!rootUrl.endsWith('/')) {\r\n",
       "                rootUrl = `${rootUrl}/`;\r\n",
       "            }\r\n",
       "\r\n",
       "            try {\r\n",
       "                let response = await timeout(1000, fetch(`${rootUrl}discovery`, {\r\n",
       "                    method: 'POST',\r\n",
       "                    timeout: 1000,\r\n",
       "                    headers: {\r\n",
       "                        'Content-Type': 'text/plain'\r\n",
       "                    },\r\n",
       "                    body: probingAddresses[i]\r\n",
       "                }));\r\n",
       "\r\n",
       "                if (response.status == 200) {\r\n",
       "                    return rootUrl;\r\n",
       "                }\r\n",
       "            }\r\n",
       "            catch (e) { }\r\n",
       "        }\r\n",
       "    }\r\n",
       "}\r\n",
       "\r\n",
       "function loadDotnetInteractiveApi() {\r\n",
       "    probeAddresses([\"http://192.168.0.107:1025/\", \"http://127.0.0.1:1025/\"])\r\n",
       "        .then((root) => {\r\n",
       "            // use probing to find host url and api resources\r\n",
       "            // load interactive helpers and language services\r\n",
       "            let dotnet_require = requirejs.config({\r\n",
       "                context: '30437.fef4654a63ca43138b6641b44f548720',\r\n",
       "                paths: {\r\n",
       "                    'dotnet-interactive': `${root}resources`\r\n",
       "                }\r\n",
       "            });\r\n",
       "            if (!window.dotnet_require) {\r\n",
       "                window.dotnet_require = dotnet_require;\r\n",
       "            }\r\n",
       "        \r\n",
       "            dotnet_require([\r\n",
       "                    'dotnet-interactive/dotnet-interactive'\r\n",
       "                ],\r\n",
       "                function (dotnet) {\r\n",
       "                    dotnet.init(window);\r\n",
       "                },\r\n",
       "                function (error) {\r\n",
       "                    console.log(error);\r\n",
       "                }\r\n",
       "            );\r\n",
       "        })\r\n",
       "        .catch(error => {console.log(error);});\r\n",
       "    }\r\n",
       "    </script>\r\n",
       "</div>"
      ]
     },
     "metadata": {},
     "output_type": "display_data"
    }
   ],
   "source": [
    "using System;\n",
    "// using System.Collections.Generic;\n",
    "// using System.Linq; \n",
    "// using System.Text;\n",
    "// using System.Threading.Tasks;\n"
   ]
  },
  {
   "cell_type": "markdown",
   "metadata": {},
   "source": [
    "## Lambda Expressions\n",
    "\n",
    "____\n",
    "\n",
    "Its an anonymouse method, meaning that it has\n",
    "\n",
    "1. No Access modifier\n",
    "2. No Name\n",
    "3. No return statement.\n",
    "\n",
    "\n",
    "Why do we use it? We use it for convenience, and it makes the code more readeable.\n",
    "\n",
    "The way we tackling this is \n",
    "\n",
    "1. A simplistic example of how most of us think about it\n",
    "2. More concrete example of how to best and effectively use it.\n",
    "\n",
    "We want to get the square value of a number, so we write method to do it?\n",
    "\n",
    "But this looks very verbose just to get square of values.\n",
    "\n",
    "With lamda expressions we can achieve the same thing, but with less code.\n",
    "\n",
    "\n",
    "The simple syntax of lamda expression  as follows\n",
    "\n",
    "```\n",
    "args = > expression\n",
    "```\n",
    "As we read it as ```args goes to expression```\n",
    "\n",
    "Converting to Lambda expression it will be\n",
    "\n",
    "```\n",
    "number => number * number\n",
    "```\n",
    "\n",
    "But thats not all, in order to setup a Lamda expression. What else do we need to do?\n",
    "\n",
    "\n",
    "We still need to assign this to a delegate\n",
    "\n",
    "\n",
    "Remember we have the following built-in delegates in .NET\n",
    "\n",
    "1. Action (returns void) (on to more arguments)\n",
    "2. Func (return value)(on to more arguments)\n",
    "\n",
    "Remember we need to return a result, so we need to use ```Func```\n",
    "\n",
    "And the syntax for Func is \n",
    "\n",
    "1. First argument is datatype of parameter (input)\n",
    "2. Second argument is datatype of result (output)\n",
    "3. Then delegate name\n",
    "4. Rest of syntax is lamda expression syntax\n",
    "```\n",
    "Func<int,int> square = Square;\n",
    "\n",
    "```\n",
    "\n",
    "But instead of having the method, we can do the following, then we dont have the need for method.\n",
    "\n",
    "```\n",
    "Func<int,int> square = number=>number * number\n",
    "\n",
    "```\n",
    "\n",
    "And how do we call the delegate?\n",
    "\n",
    "\n"
   ]
  },
  {
   "cell_type": "code",
   "execution_count": 2,
   "metadata": {},
   "outputs": [],
   "source": [
    "static int square(int number){\n",
    "    \n",
    "    return number*number;\n",
    "}"
   ]
  },
  {
   "cell_type": "code",
   "execution_count": 3,
   "metadata": {},
   "outputs": [
    {
     "name": "stdout",
     "output_type": "stream",
     "text": [
      "The square of 5 is 25.\n"
     ]
    }
   ],
   "source": [
    "Console.WriteLine(\"The square of {0} is {1}.\", 5, square(5));"
   ]
  },
  {
   "cell_type": "markdown",
   "metadata": {},
   "source": [
    "Lets implement using a delegate only.... \n"
   ]
  },
  {
   "cell_type": "code",
   "execution_count": 4,
   "metadata": {},
   "outputs": [],
   "source": [
    "static int Square(int number){\n",
    "    \n",
    "    return number*number;\n",
    "}"
   ]
  },
  {
   "cell_type": "code",
   "execution_count": 5,
   "metadata": {},
   "outputs": [
    {
     "name": "stdout",
     "output_type": "stream",
     "text": [
      "The square of 5 is 25.\n"
     ]
    }
   ],
   "source": [
    "Func<int,int> square = Square;\n",
    "Console.WriteLine(\"The square of {0} is {1}.\", 5, square(5));"
   ]
  },
  {
   "cell_type": "markdown",
   "metadata": {},
   "source": [
    "Lets implement using a delegate only with lambda expression...\n",
    "  "
   ]
  },
  {
   "cell_type": "code",
   "execution_count": 7,
   "metadata": {},
   "outputs": [
    {
     "name": "stdout",
     "output_type": "stream",
     "text": [
      "The square of 5 is 25.\n"
     ]
    }
   ],
   "source": [
    "Func<int,int> square = number=>number * number;\n",
    "Console.WriteLine(\"The square of {0} is {1}.\", 5, square(5));"
   ]
  },
  {
   "cell_type": "markdown",
   "metadata": {},
   "source": [
    "## We have the following variations for Lamda expresson\n",
    "\n",
    "```\n",
    "() => expression  // where there are no arguments\n",
    "x => expression  // our square example\n",
    "(x,y,z) => expression  // where you have multiple arguments\n",
    "```\n",
    "\n",
    "Who does scope work for the lamda expressions....\n",
    "\n",
    "We define a multipler delegate/lambda function as follows, to address scope issue.\n",
    "\n",
    "```\n",
    "const int factor = 5;\n",
    "Func<int,int> multipler = n => n * factor;\n",
    "\n",
    "var result = multipler(10);\n",
    "Console.WriteLine(\"This is the result {0}\", result);\n",
    "\n",
    "```\n",
    "\n",
    "1. The datatype for n is int (thats its definition, is in Func)\n",
    "2. We passed one argument, and this is n\n",
    "3. (And n is used in the expression)\n",
    "\n"
   ]
  },
  {
   "cell_type": "code",
   "execution_count": 8,
   "metadata": {},
   "outputs": [
    {
     "name": "stdout",
     "output_type": "stream",
     "text": [
      "This is the result 50\n"
     ]
    }
   ],
   "source": [
    "const int factor = 5;\n",
    "Func<int,int> multipler = n => n * 5;\n",
    "\n",
    "var result = multipler(10);\n",
    "Console.WriteLine(\"This is the result {0}\", result);"
   ]
  },
  {
   "cell_type": "markdown",
   "metadata": {},
   "source": [
    "## More practical or common use case for Lamda expression\n",
    "\n",
    "_____\n",
    "\n",
    "We have the following\n",
    "\n",
    "1. BookRepository class\n",
    "2. Book class\n",
    "\n",
    "Here we return a collection of Books, by Title and Price. To keep things simple we just hardcoded a few books. And we use the object initializer construct to return the books (the return statement), and again the object initializer,to load the books.\n",
    "\n",
    "\n",
    "\n",
    "Lets say we want to find all the books that is less than 100? How can we implement this?\n",
    "\n",
    "1. Do it the normal way\n",
    "2. Do it by using a lamda expression.\n"
   ]
  },
  {
   "cell_type": "code",
   "execution_count": 9,
   "metadata": {},
   "outputs": [],
   "source": [
    "public class Book{\n",
    "    public string Title{get;set;}\n",
    "    public float Price{get;set;}\n",
    "    \n",
    "}"
   ]
  },
  {
   "cell_type": "code",
   "execution_count": 10,
   "metadata": {},
   "outputs": [],
   "source": [
    "public class BookRepository{\n",
    "    public List<Book> GetBooks(){\n",
    "        return new List<Book>{\n",
    "            new Book(){Title = \"Nutz\", Price=76.67f},\n",
    "            new Book(){Title = \"Petz\", Price=167.99f},\n",
    "            new Book(){Title = \"Winner\", Price=256.99f}\n",
    "        };\n",
    "    }\n",
    "}"
   ]
  },
  {
   "cell_type": "code",
   "execution_count": 11,
   "metadata": {},
   "outputs": [
    {
     "name": "stdout",
     "output_type": "stream",
     "text": [
      "Book : Nutz - 76,67\n",
      "Book : Petz - 167,99\n",
      "Book : Winner - 256,99\n"
     ]
    }
   ],
   "source": [
    "var bookRep = new BookRepository();\n",
    "foreach(var bks in bookRep.GetBooks()){\n",
    "    Console.WriteLine(\"Book : {0} - {1}\",bks.Title,bks.Price);\n",
    "}"
   ]
  },
  {
   "cell_type": "markdown",
   "metadata": {},
   "source": [
    "## Find all books less 100, the normal way (wihout using lambda)\n",
    "____\n",
    "\n",
    "Lets say we want to find all the books that is less than 100? How can we implement this?\n",
    "\n",
    "1. Do it the normal way\n",
    "2. Do it by using a lamda expression.\n",
    "\n",
    "We get list books\n",
    "\n",
    "```\n",
    "var booklst = new BookRepository().GetBooks();\n",
    "```\n",
    "\n",
    "and booklst is of type ```List<Book>```, and we can use the different types of filter methods that comes with the generic function. Lets take the following\n",
    "    \n",
    "```\n",
    "booklst.FindAll(..)    \n",
    "```    \n",
    "If we look at the above signature of ```FindAll```, brackets(what is needed inside it), we see the following:\n",
    "\n",
    "\n",
    "```\n",
    "(Predicate<Book> match):List<Book>\n",
    "```\n",
    "And it says: \"Retrieves all the elements that match the conditions defined by the specified predicate.\n",
    "\n",
    "But what is a Predicate? We see it all the time when working with collections. It is a delegate which points to a method (exactly what a delegate it), that, in our case, gets a book, as its of type ```<Book>```, and returns a boolen value, specifiying that a given condition was satisfied.\n",
    "\n",
    "\n",
    "Lets create a predicate...or method (that the delegate can point to)\n",
    "    \n",
    "```\n",
    "static bool IsCheaperThan100(Book book){\n",
    "    return book.Price < 100;\n",
    "}\n",
    "\n",
    "```\n",
    "\n",
    "Then we pass the above method into ```FindAll(...)```\n",
    "\n",
    "```\n",
    "booklst.FindAll(IsCheaperThan100);  \n",
    "``` \n",
    "\n",
    "What does this do? The code of FindAll, will iterate this collection, and for each book, the method (check for  cheaper), to determine if the condition is satisfied. If yes, it will return that book in the list of results.\n",
    "\n",
    "\n"
   ]
  },
  {
   "cell_type": "code",
   "execution_count": 12,
   "metadata": {},
   "outputs": [],
   "source": [
    "public class Book{\n",
    "    public string Title{get;set;}\n",
    "    public float Price{get;set;}\n",
    "    \n",
    "}"
   ]
  },
  {
   "cell_type": "code",
   "execution_count": 13,
   "metadata": {},
   "outputs": [],
   "source": [
    "public class BookRepository{\n",
    "    public List<Book> GetBooks(){\n",
    "        return new List<Book>{\n",
    "            new Book(){Title = \"Nutz\", Price=76.67f},\n",
    "            new Book(){Title = \"Petz\", Price=167.99f},\n",
    "            new Book(){Title = \"Winner\", Price=256.99f}\n",
    "        };\n",
    "    }\n",
    "}"
   ]
  },
  {
   "cell_type": "code",
   "execution_count": 14,
   "metadata": {},
   "outputs": [
    {
     "name": "stdout",
     "output_type": "stream",
     "text": [
      "*******ALL BOOKS********\n",
      "Book : Nutz - 76,67\n",
      "Book : Petz - 167,99\n",
      "Book : Winner - 256,99\n",
      "******CHEAP BOOKS*******\n",
      "Book : Nutz - 76,67\n"
     ]
    }
   ],
   "source": [
    "static bool IsCheaperThan100(Book book){\n",
    "    return book.Price < 100;\n",
    "}\n",
    "\n",
    "Console.WriteLine(\"*******ALL BOOKS********\");\n",
    "var booklst = new BookRepository().GetBooks();\n",
    "foreach(var bks in booklst){\n",
    "    Console.WriteLine(\"Book : {0} - {1}\",bks.Title,bks.Price);\n",
    "}\n",
    "\n",
    "Console.WriteLine(\"******CHEAP BOOKS*******\");\n",
    "\n",
    "var cheapBooks = booklst.FindAll(IsCheaperThan100);  \n",
    "\n",
    "foreach(var bks in cheapBooks){\n",
    "    Console.WriteLine(\"Book : {0} - {1}\",bks.Title,bks.Price);\n",
    "}\n"
   ]
  },
  {
   "cell_type": "markdown",
   "metadata": {},
   "source": [
    "## Do the same, but use a lamda expression.\n",
    "___\n",
    "Problem with the above, we need to very time create a filter method with an expression of what we want to use as a predicate. Is it not possible, just to get the ```FindAll``` and expression...with lambda expressions we can do so.\n",
    "\n",
    "\n",
    "Instead of \n",
    "```\n",
    "var cheapBooks = booklst.FindAll(IsCheaperThan100); \n",
    "```\n",
    "\n",
    "We can say\n",
    "\n",
    "```\n",
    "var cheapBooks = booklst.FindAll(book=>book.Price < 100); \n",
    "```\n",
    "\n",
    "But in c#, we use a single letter to defined lamda expressions, so we can shorten the expression, so change book for b\n",
    "\n",
    "\n",
    "```\n",
    "var cheapBooks = booklst.FindAll(b=>b.Price < 100); \n",
    "```\n",
    "\n",
    "Now the code is even shorter...\n",
    "\n",
    "\n"
   ]
  },
  {
   "cell_type": "code",
   "execution_count": 15,
   "metadata": {},
   "outputs": [
    {
     "name": "stdout",
     "output_type": "stream",
     "text": [
      "*******ALL BOOKS********\n",
      "Book : Nutz - 76,67\n",
      "Book : Petz - 167,99\n",
      "Book : Winner - 256,99\n",
      "******CHEAP BOOKS*******\n",
      "Book : Nutz - 76,67\n"
     ]
    }
   ],
   "source": [
    "\n",
    "Console.WriteLine(\"*******ALL BOOKS********\");\n",
    "var booklst = new BookRepository().GetBooks();\n",
    "foreach(var bks in booklst){\n",
    "    Console.WriteLine(\"Book : {0} - {1}\",bks.Title,bks.Price);\n",
    "}\n",
    "\n",
    "Console.WriteLine(\"******CHEAP BOOKS*******\");\n",
    "\n",
    "var cheapBooks = booklst.FindAll(b=>b.Price < 100); \n",
    "\n",
    "foreach(var bks in cheapBooks){\n",
    "    Console.WriteLine(\"Book : {0} - {1}\",bks.Title,bks.Price);\n",
    "}"
   ]
  },
  {
   "cell_type": "code",
   "execution_count": null,
   "metadata": {},
   "outputs": [],
   "source": []
  },
  {
   "cell_type": "code",
   "execution_count": null,
   "metadata": {},
   "outputs": [],
   "source": []
  },
  {
   "cell_type": "code",
   "execution_count": null,
   "metadata": {},
   "outputs": [],
   "source": []
  },
  {
   "cell_type": "code",
   "execution_count": null,
   "metadata": {},
   "outputs": [],
   "source": []
  },
  {
   "cell_type": "code",
   "execution_count": null,
   "metadata": {},
   "outputs": [],
   "source": []
  },
  {
   "cell_type": "code",
   "execution_count": null,
   "metadata": {},
   "outputs": [],
   "source": []
  },
  {
   "cell_type": "code",
   "execution_count": null,
   "metadata": {},
   "outputs": [],
   "source": []
  }
 ],
 "metadata": {
  "kernelspec": {
   "display_name": ".NET (C#)",
   "language": "C#",
   "name": ".net-csharp"
  },
  "language_info": {
   "file_extension": ".cs",
   "mimetype": "text/x-csharp",
   "name": "C#",
   "pygments_lexer": "csharp",
   "version": "8.0"
  }
 },
 "nbformat": 4,
 "nbformat_minor": 4
}
