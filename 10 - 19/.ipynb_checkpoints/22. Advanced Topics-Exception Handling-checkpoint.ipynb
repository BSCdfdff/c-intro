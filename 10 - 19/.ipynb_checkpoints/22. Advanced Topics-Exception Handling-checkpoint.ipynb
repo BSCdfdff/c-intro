{
 "cells": [
  {
   "cell_type": "markdown",
   "metadata": {},
   "source": [
    "# Advanced Topics : Exception Handling\n",
    "\n",
    "____\n",
    "\n",
    "1. Generics\n",
    "2. Delegates\n",
    "3. Lambda Expressions\n",
    "4. Events\n",
    "5. Extension Methods\n",
    "6. LINQ\n",
    "7. Nulllable Types\n",
    "8. Dynamic\n",
    "9. Exception Handling\n",
    "10. Asynchronous Programming\n",
    "\n"
   ]
  },
  {
   "cell_type": "code",
   "execution_count": 1,
   "metadata": {},
   "outputs": [
    {
     "data": {
      "text/html": [
       "\r\n",
       "<div>\r\n",
       "    <div id='dotnet-interactive-this-cell-ad9715a793b143afb2857cc68d8bdf29' style='display: none'>\r\n",
       "        The below script needs to be able to find the current output cell; this is an easy method to get it.\r\n",
       "    </div>\r\n",
       "    <script type='text/javascript'>\r\n",
       "// ensure `requirejs` is available globally\r\n",
       "if (typeof requirejs !== typeof Function || typeof requirejs.config !== typeof Function) {\r\n",
       "    let requirejs_script = document.createElement('script');\r\n",
       "    requirejs_script.setAttribute('src', 'https://cdnjs.cloudflare.com/ajax/libs/require.js/2.3.6/require.min.js');\r\n",
       "    requirejs_script.setAttribute('type', 'text/javascript');\r\n",
       "    requirejs_script.onload = function () {\r\n",
       "        loadDotnetInteractiveApi();\r\n",
       "    };\r\n",
       "\r\n",
       "    document.getElementsByTagName('head')[0].appendChild(requirejs_script);\r\n",
       "}\r\n",
       "else {\r\n",
       "    loadDotnetInteractiveApi();\r\n",
       "}\r\n",
       "\r\n",
       "async function probeAddresses(probingAddresses) {\r\n",
       "    function timeout(ms, promise) {\r\n",
       "        return new Promise(function (resolve, reject) {\r\n",
       "            setTimeout(function () {\r\n",
       "                reject(new Error('timeout'))\r\n",
       "            }, ms)\r\n",
       "            promise.then(resolve, reject)\r\n",
       "        })\r\n",
       "    }\r\n",
       "\r\n",
       "    if (Array.isArray(probingAddresses)) {\r\n",
       "        for (let i = 0; i < probingAddresses.length; i++) {\r\n",
       "\r\n",
       "            let rootUrl = probingAddresses[i];\r\n",
       "\r\n",
       "            if (!rootUrl.endsWith('/')) {\r\n",
       "                rootUrl = `${rootUrl}/`;\r\n",
       "            }\r\n",
       "\r\n",
       "            try {\r\n",
       "                let response = await timeout(1000, fetch(`${rootUrl}discovery`, {\r\n",
       "                    method: 'POST',\r\n",
       "                    timeout: 1000,\r\n",
       "                    headers: {\r\n",
       "                        'Content-Type': 'text/plain'\r\n",
       "                    },\r\n",
       "                    body: probingAddresses[i]\r\n",
       "                }));\r\n",
       "\r\n",
       "                if (response.status == 200) {\r\n",
       "                    return rootUrl;\r\n",
       "                }\r\n",
       "            }\r\n",
       "            catch (e) { }\r\n",
       "        }\r\n",
       "    }\r\n",
       "}\r\n",
       "\r\n",
       "function loadDotnetInteractiveApi() {\r\n",
       "    probeAddresses([\"http://192.168.0.107:1034/\", \"http://127.0.0.1:1034/\"])\r\n",
       "        .then((root) => {\r\n",
       "            // use probing to find host url and api resources\r\n",
       "            // load interactive helpers and language services\r\n",
       "            let dotnet_require = requirejs.config({\r\n",
       "                context: '2284.ad9715a793b143afb2857cc68d8bdf29',\r\n",
       "                paths: {\r\n",
       "                    'dotnet-interactive': `${root}resources`\r\n",
       "                }\r\n",
       "            });\r\n",
       "            if (!window.dotnet_require) {\r\n",
       "                window.dotnet_require = dotnet_require;\r\n",
       "            }\r\n",
       "        \r\n",
       "            dotnet_require([\r\n",
       "                    'dotnet-interactive/dotnet-interactive'\r\n",
       "                ],\r\n",
       "                function (dotnet) {\r\n",
       "                    dotnet.init(window);\r\n",
       "                },\r\n",
       "                function (error) {\r\n",
       "                    console.log(error);\r\n",
       "                }\r\n",
       "            );\r\n",
       "        })\r\n",
       "        .catch(error => {console.log(error);});\r\n",
       "    }\r\n",
       "    </script>\r\n",
       "</div>"
      ]
     },
     "metadata": {},
     "output_type": "display_data"
    }
   ],
   "source": [
    "using System;\n",
    "// using System.Collections.Generic;\n",
    "// using System.Linq; \n",
    "// using System.Text;\n",
    "// using System.Threading.Tasks;\n"
   ]
  },
  {
   "cell_type": "markdown",
   "metadata": {},
   "source": [
    "## Exception Handling\n",
    "\n",
    "____\n",
    "\n",
    "The main essence\n",
    "\n",
    "1. Wrap your code in a try catch block, from specific to general exceptions\n",
    "2. Throw custom exceptions where you want to provide your own.\n",
    "3. Instead of using finally, to release objects that are created in HEAP, use ```using{}``` statement \n",
    "\n",
    "```\n",
    "using(.....){\n",
    "\n",
    ".....\n",
    "}\n",
    "```\n",
    "\n",
    "Main Point how the error will be thrown: It will be in reverse order. That meas means the eror occurred below in the Claculator class, them exity there, come back to main program , and show the error there. So it goes from source, print it first, then comes back to main, then print that lines number. So main point here is where it occurs first it will be shown.\n",
    "\n",
    "\n",
    "Will be displayed in order\n",
    "\n",
    "```\n",
    "System.DivideByZeroException: Attempted to divide by zero. (happens in calculator class)\n",
    "at Microsoft.CodeAnalysis.Scripting.ScriptExecutionState.RunSubmissionsAsync (happened in our main program)\n",
    "\n",
    "```\n",
    "\n",
    "From the above we can see that it is in reverse order. Where it happened in main program, will be at bottom of the screen.\n",
    "\n",
    "\n"
   ]
  },
  {
   "cell_type": "code",
   "execution_count": 2,
   "metadata": {},
   "outputs": [],
   "source": [
    "public class Calculator{\n",
    "    public int Divide (int a, int b){\n",
    "        return (a/b);\n",
    "    }\n",
    "    \n",
    "}"
   ]
  },
  {
   "cell_type": "code",
   "execution_count": null,
   "metadata": {},
   "outputs": [],
   "source": [
    "\n",
    "\n"
   ]
  },
  {
   "cell_type": "markdown",
   "metadata": {},
   "source": [
    "We can use an Excepion handler:\n",
    "\n",
    "```\n",
    "try{\n",
    "   var calc = new Calculator();\n",
    "   var resutl = calc.Divide (5,0); \n",
    "}catch(Exception){\n",
    "   Console.WriteLine(\"Cannot devide by Zero\") ;\n",
    "}\n",
    "\n",
    "```\n",
    "\n",
    "But we can also pass and argument to ```Exception ex``` so we can access the exception. Then my using ```ex```, we have access to\n",
    "\n",
    "- Message\n",
    "- Source (dll or assembly that the excepion happened in)\n",
    "- Stacktrace (sequence of method calls in reverse order)\n",
    "- TargetSite is the method where the exception happened.\n",
    "\n",
    "These are the common four properties that we can use.\n",
    "\n",
    "You can have multiple catch blocks, from more specific to general. Eg. Do DivideByZeroException, Then ArithmeticException\n"
   ]
  },
  {
   "cell_type": "code",
   "execution_count": 3,
   "metadata": {},
   "outputs": [
    {
     "name": "stdout",
     "output_type": "stream",
     "text": [
      "Cannot devide by Zero\n"
     ]
    }
   ],
   "source": [
    "try{\n",
    "\n",
    "   var calc = new Calculator();\n",
    "   var resutl = calc.Divide(5,0); \n",
    "   \n",
    "}\n",
    "catch(DivideByZeroException ex){\n",
    "\n",
    "   Console.WriteLine(\"Cannot devide by Zero\") ;\n",
    "} \n",
    "catch(ArithmeticException ex){\n",
    "\n",
    "   Console.WriteLine(\"Something wrong with the aririthmetic\") ;\n",
    "}\n",
    "catch(Exception ex){\n",
    "\n",
    "   Console.WriteLine(\"Something went wrong in the code\") ;\n",
    "}"
   ]
  },
  {
   "cell_type": "markdown",
   "metadata": {},
   "source": [
    "## Finally Block\n",
    "\n",
    "____\n",
    "\n",
    "```\n",
    "finally{\n",
    "\n",
    "}\n",
    "\n",
    "``` \n",
    "\n",
    "Why do we need a finally block? When we deal with classes that deals with unmanaged resources (not garbage collected by the cli., we need clean up those resources from the heap. The finally block allows us to do this in a clean way. So resources like file handles, database connection, graphic handles. So we need to implement an interface called ```IDisposable```, and it has a method called ```Dispose()```. And this is the method that does the cleanup. (method to release allocated resources)\n",
    "\n",
    "And we use the ```finally``` block to call the dispose method. \n",
    "\n",
    "So lets say we used StreamReader which is unmanaged class/code. On this class we need to clean up.\n",
    "\n",
    "With this code if anything goes wrong inside the try block, when reading the file, we need to make sure that we close the file (or free up the memory). Otherwise file will be open on the disk, or keeping network connnection, and you run out of memory (resources).\n",
    "\n",
    "\n",
    "Sequence: No Error\n",
    "\n",
    "1. Try block is executed\n",
    "2. No exception, then wont enter exception block\n",
    "3. Finally block will be executed.\n",
    "\n",
    "Sequence: Error\n",
    "\n",
    "1. Try block is executed\n",
    "2. Exception block is executed.\n",
    "3. Finally block will be executed.\n",
    "\n",
    "\n",
    "Lets "
   ]
  },
  {
   "cell_type": "code",
   "execution_count": 4,
   "metadata": {},
   "outputs": [],
   "source": [
    "using System.IO;"
   ]
  },
  {
   "cell_type": "code",
   "execution_count": 5,
   "metadata": {},
   "outputs": [
    {
     "name": "stdout",
     "output_type": "stream",
     "text": [
      "Something went wrong in the code\n"
     ]
    }
   ],
   "source": [
    "StreamReader streamReader = null;   //is allowed, except must the type, otherwise must use new here.\n",
    "\n",
    "try{\n",
    "    streamReader= new StreamReader(\"file.txt\");\n",
    "    var content = streamReader.ReadToEnd();\n",
    "    \n",
    "}\n",
    "catch(DivideByZeroException ex){\n",
    "\n",
    "   Console.WriteLine(\"Cannot devide by Zero\") ;\n",
    "} \n",
    "catch(ArithmeticException ex){\n",
    "\n",
    "   Console.WriteLine(\"Something wrong with the aririthmetic\") ;\n",
    "}\n",
    "catch(Exception ex){\n",
    "\n",
    "   Console.WriteLine(\"Something went wrong in the code\") ;\n",
    "}\n",
    "finally{\n",
    "    if (streamReader !=null)\n",
    "        streamReader.Dispose();\n",
    "}\n"
   ]
  },
  {
   "cell_type": "markdown",
   "metadata": {},
   "source": [
    "## Cleaner way to write this...using statement\n",
    "\n",
    "____\n",
    "\n",
    "\n",
    "Get rid of finally block, using using the ```using``` statement, which does the cleaning up for us\n",
    "\n",
    "```\n",
    "using(){\n",
    "\n",
    "...\n",
    "}\n",
    "\n",
    "```\n",
    "Internally the compiler will create a finally block, under the hood, which will call the dispose method of the StreamReader\n",
    "\n",
    "And the ```using``` statement is the preferred way."
   ]
  },
  {
   "cell_type": "code",
   "execution_count": 6,
   "metadata": {},
   "outputs": [
    {
     "name": "stdout",
     "output_type": "stream",
     "text": [
      "Something went wrong in the code\n"
     ]
    }
   ],
   "source": [
    "\n",
    "try{\n",
    "    using(var streamReader= new StreamReader(\"file.txt\")){\n",
    "   \n",
    "        var content = streamReader.ReadToEnd();    \n",
    "    }\n",
    "    \n",
    "    \n",
    "}\n",
    "catch(DivideByZeroException ex){\n",
    "\n",
    "   Console.WriteLine(\"Cannot devide by Zero\") ;\n",
    "} \n",
    "catch(ArithmeticException ex){\n",
    "\n",
    "   Console.WriteLine(\"Something wrong with the aririthmetic\") ;\n",
    "}\n",
    "catch(Exception ex){\n",
    "\n",
    "   Console.WriteLine(\"Something went wrong in the code\") ;\n",
    "}\n",
    "\n"
   ]
  },
  {
   "cell_type": "markdown",
   "metadata": {},
   "source": [
    "## Custom Exceptions\n",
    "____\n",
    "\n",
    "We can all create and throw custom exceptions....\n",
    "\n",
    "\n",
    "The custom class should derive from System.Exception, and we need to define a constructor. \n",
    "\n",
    "But very important we need to call (extend) the ```base``` constructor of the System.Exception class, and we pass\n",
    "\n",
    " - the message\n",
    " - innerException\n",
    " \n",
    "That is the two arguments we created, and we pass it to the base constructor\n",
    "\n",
    "(Remember the lesson where we want the base constructor to be called....see lesson, instead of the derived class)\n",
    "\n",
    "```\n",
    "public class YoutubeException: Exception{\n",
    "    public YoutubeException(string message, Exception InnerException): base {\n",
    "    \n",
    "    }\n",
    "}\n",
    "```\n",
    "\n",
    "And how do we use this custom exception. We wrap the more general exception into out custom YoutubeException. By trowing it inside the general exception...And this exception is much more meaningful. And for the second argument, we ca also throw the orginal exception. And we can refer to that as the innerexception. So the friendly message will go to the user, and the second argument is for us, to see what actually happened\n",
    "\n",
    "\n",
    "```\n",
    "catch(Exception ex){\n",
    "\n",
    " throw new YoutubeException(\"Could not display the videos from Youtube\", ex)\n",
    "}\n",
    "\n",
    "```\n",
    "Lets throw an exception just to simulate how things work.\n",
    "\n",
    "```\n",
    "throw new Exception(\"Oops, we did it again\");\n",
    "\n",
    "```\n",
    "\n",
    "So now the Exception that wil be written, to the Console, will be a YouTube Exception."
   ]
  },
  {
   "cell_type": "code",
   "execution_count": 7,
   "metadata": {},
   "outputs": [],
   "source": [
    "public class YoutubeException: Exception{\n",
    "    public YoutubeException(string message, Exception innerException): base(message,innerException) {\n",
    "    \n",
    "    }\n",
    "}"
   ]
  },
  {
   "cell_type": "code",
   "execution_count": 8,
   "metadata": {},
   "outputs": [],
   "source": [
    "public class YouTubeVideoApi{\n",
    "    public void DisplayVideo(){\n",
    "        try{\n",
    "            throw new Exception(\"Oops, we did it again\");\n",
    "        }\n",
    "        catch(Exception ex){\n",
    "           throw new YoutubeException(\"Could not display the videos from Youtube\", ex);\n",
    "        }\n",
    "    }\n",
    "}"
   ]
  },
  {
   "cell_type": "code",
   "execution_count": 9,
   "metadata": {},
   "outputs": [
    {
     "name": "stdout",
     "output_type": "stream",
     "text": [
      "Could not display the videos from Youtube\n"
     ]
    }
   ],
   "source": [
    "try{\n",
    "    var api = new YouTubeVideoApi();\n",
    "    api.DisplayVideo();\n",
    "}\n",
    "catch(Exception ex){\n",
    "  Console.WriteLine(ex.Message);\n",
    "}"
   ]
  }
 ],
 "metadata": {
  "kernelspec": {
   "display_name": ".NET (C#)",
   "language": "C#",
   "name": ".net-csharp"
  },
  "language_info": {
   "file_extension": ".cs",
   "mimetype": "text/x-csharp",
   "name": "C#",
   "pygments_lexer": "csharp",
   "version": "8.0"
  }
 },
 "nbformat": 4,
 "nbformat_minor": 4
}
