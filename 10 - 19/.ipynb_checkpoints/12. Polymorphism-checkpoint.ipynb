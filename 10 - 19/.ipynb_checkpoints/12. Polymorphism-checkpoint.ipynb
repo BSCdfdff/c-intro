{
 "cells": [
  {
   "cell_type": "markdown",
   "metadata": {},
   "source": [
    "# Polymorphism\n",
    "\n",
    "____\n",
    "\n",
    "1. Method Overriding\n",
    "2. Abstract Classes and Members\n",
    "3. Sealed Classes and Members\n",
    "\n"
   ]
  },
  {
   "cell_type": "code",
   "execution_count": 1,
   "metadata": {},
   "outputs": [
    {
     "data": {
      "text/html": [
       "\r\n",
       "<div>\r\n",
       "    <div id='dotnet-interactive-this-cell-6334b4a3a649423b93af2ed58a310fdf' style='display: none'>\r\n",
       "        The below script needs to be able to find the current output cell; this is an easy method to get it.\r\n",
       "    </div>\r\n",
       "    <script type='text/javascript'>\r\n",
       "// ensure `requirejs` is available globally\r\n",
       "if (typeof requirejs !== typeof Function || typeof requirejs.config !== typeof Function) {\r\n",
       "    let requirejs_script = document.createElement('script');\r\n",
       "    requirejs_script.setAttribute('src', 'https://cdnjs.cloudflare.com/ajax/libs/require.js/2.3.6/require.min.js');\r\n",
       "    requirejs_script.setAttribute('type', 'text/javascript');\r\n",
       "    requirejs_script.onload = function () {\r\n",
       "        loadDotnetInteractiveApi();\r\n",
       "    };\r\n",
       "\r\n",
       "    document.getElementsByTagName('head')[0].appendChild(requirejs_script);\r\n",
       "}\r\n",
       "else {\r\n",
       "    loadDotnetInteractiveApi();\r\n",
       "}\r\n",
       "\r\n",
       "async function probeAddresses(probingAddresses) {\r\n",
       "    function timeout(ms, promise) {\r\n",
       "        return new Promise(function (resolve, reject) {\r\n",
       "            setTimeout(function () {\r\n",
       "                reject(new Error('timeout'))\r\n",
       "            }, ms)\r\n",
       "            promise.then(resolve, reject)\r\n",
       "        })\r\n",
       "    }\r\n",
       "\r\n",
       "    if (Array.isArray(probingAddresses)) {\r\n",
       "        for (let i = 0; i < probingAddresses.length; i++) {\r\n",
       "\r\n",
       "            let rootUrl = probingAddresses[i];\r\n",
       "\r\n",
       "            if (!rootUrl.endsWith('/')) {\r\n",
       "                rootUrl = `${rootUrl}/`;\r\n",
       "            }\r\n",
       "\r\n",
       "            try {\r\n",
       "                let response = await timeout(1000, fetch(`${rootUrl}discovery`, {\r\n",
       "                    method: 'POST',\r\n",
       "                    timeout: 1000,\r\n",
       "                    headers: {\r\n",
       "                        'Content-Type': 'text/plain'\r\n",
       "                    },\r\n",
       "                    body: probingAddresses[i]\r\n",
       "                }));\r\n",
       "\r\n",
       "                if (response.status == 200) {\r\n",
       "                    return rootUrl;\r\n",
       "                }\r\n",
       "            }\r\n",
       "            catch (e) { }\r\n",
       "        }\r\n",
       "    }\r\n",
       "}\r\n",
       "\r\n",
       "function loadDotnetInteractiveApi() {\r\n",
       "    probeAddresses([\"http://192.168.0.107:1024/\", \"http://127.0.0.1:1024/\"])\r\n",
       "        .then((root) => {\r\n",
       "            // use probing to find host url and api resources\r\n",
       "            // load interactive helpers and language services\r\n",
       "            let dotnet_require = requirejs.config({\r\n",
       "                context: '15647.6334b4a3a649423b93af2ed58a310fdf',\r\n",
       "                paths: {\r\n",
       "                    'dotnet-interactive': `${root}resources`\r\n",
       "                }\r\n",
       "            });\r\n",
       "            if (!window.dotnet_require) {\r\n",
       "                window.dotnet_require = dotnet_require;\r\n",
       "            }\r\n",
       "        \r\n",
       "            dotnet_require([\r\n",
       "                    'dotnet-interactive/dotnet-interactive'\r\n",
       "                ],\r\n",
       "                function (dotnet) {\r\n",
       "                    dotnet.init(window);\r\n",
       "                },\r\n",
       "                function (error) {\r\n",
       "                    console.log(error);\r\n",
       "                }\r\n",
       "            );\r\n",
       "        })\r\n",
       "        .catch(error => {console.log(error);});\r\n",
       "    }\r\n",
       "    </script>\r\n",
       "</div>"
      ]
     },
     "metadata": {},
     "output_type": "display_data"
    }
   ],
   "source": [
    "using System;\n",
    "// using System.Collections.Generic;\n",
    "// using System.Linq; \n",
    "// using System.Text;\n",
    "// using System.Threading.Tasks;\n"
   ]
  },
  {
   "cell_type": "markdown",
   "metadata": {},
   "source": [
    "##  Method Overriding\n",
    "\n",
    "____\n",
    "\n",
    "1. What is method overriding\n",
    "2. Virtual and Override keywords\n",
    "\n",
    "Is is modifying the implementation of inherited method. So somtimes we (derived class) have to override a method from an inherited class (base class). This called overriding a method.\n",
    "\n",
    "Not the same as method overloading, where we changin the signature of method.\n",
    "\n",
    "To implement method overriding we use the virtual and override keywords...\n",
    "\n",
    "We do 2 things\n",
    "\n",
    "1. We decorate the method in the base case with a ```virtual``` keyword\n",
    "1. And we decoarte the method in the derived class with ```override``` keyword.\n",
    "\n",
    "So now we can change the implementation in the derived class\n",
    "\n",
    "\n",
    "Lets go back to coding...with shape class below.\n",
    "\n",
    "\n",
    "We have the following enumerations1:\n",
    "1. Position\n",
    "2. ShapeType\n",
    "\n",
    "\n",
    "In Canvas class we only have \n",
    "    - Circle \n",
    "    - Rectangle\n",
    "    \n",
    "So if we add another shape, e.g. Triangle, then \n",
    "   1. We need to update the ShapeType Enum\n",
    "   2. We need to add another case statement in Drawshapes method in Canvas class.\n",
    "   \n",
    "That means everytime we get a new shape, the Canvas class wil have to be changed and have to be recompiled. And ALL classes that are dependent on it will have to be recompiled, and recompiled. Same with ShapeType\n",
    "\n",
    "Another problem, the case statement, will get very large for all the different types of shapes.\n",
    "\n",
    "One of the reason we hve these problems, is that the Shape class only have properties, there are no behaviour. Encapsulation says we need to encapsulate all things in a class.\n",
    "\n",
    "Lets refactor\n",
    "\n",
    "1. Create a new class called circle\n",
    "2. Create a new class called Rectangle\n",
    "\n",
    "   \n",
    "   "
   ]
  },
  {
   "cell_type": "code",
   "execution_count": 2,
   "metadata": {},
   "outputs": [
    {
     "ename": "Unhandled exception",
     "evalue": "(7,12): error CS0246: The type or namespace name 'Position' could not be found (are you missing a using directive or an assembly reference?)\n(8,12): error CS0246: The type or namespace name 'ShapeType' could not be found (are you missing a using directive or an assembly reference?)",
     "output_type": "error",
     "traceback": [
      "(7,12): error CS0246: The type or namespace name 'Position' could not be found (are you missing a using directive or an assembly reference?)\n(8,12): error CS0246: The type or namespace name 'ShapeType' could not be found (are you missing a using directive or an assembly reference?)"
     ]
    }
   ],
   "source": [
    "public class Shape{\n",
    "    public int Width {get;set;}\n",
    "    public int Height {get;set;}\n",
    "    public int X {get;set;}\n",
    "    public int Y {get;set;}\n",
    "    \n",
    "    public Position Pos{get;set;}\n",
    "    public ShapeType Type{get;set;}\n",
    "    \n",
    " \n",
    "    \n",
    "}"
   ]
  },
  {
   "cell_type": "code",
   "execution_count": 3,
   "metadata": {},
   "outputs": [],
   "source": [
    "public enum ShapeType{\n",
    "    Circle,\n",
    "    RecTangle,\n",
    "    Triangle\n",
    "}"
   ]
  },
  {
   "cell_type": "code",
   "execution_count": 4,
   "metadata": {},
   "outputs": [
    {
     "ename": "Unhandled exception",
     "evalue": "(2,33): error CS0246: The type or namespace name 'Shape' could not be found (are you missing a using directive or an assembly reference?)",
     "output_type": "error",
     "traceback": [
      "(2,33): error CS0246: The type or namespace name 'Shape' could not be found (are you missing a using directive or an assembly reference?)"
     ]
    }
   ],
   "source": [
    "public class Canvas{\n",
    "    public void DrawShapes(List<Shape> shapes){\n",
    "        foreach(var shape in shapes){\n",
    "            switch(shape.Type){\n",
    "                case ShapeType.Circle:\n",
    "                    Console.WriteLine(\"Draw a circle\");\n",
    "                    break;\n",
    "                case ShapeType.RecTangle:\n",
    "                    Console.WriteLine(\"Draw a rectangle\");\n",
    "                    break;    \n",
    "                case ShapeType.Triangle:\n",
    "                    Console.WriteLine(\"Draw a triangle\");\n",
    "                    break;         \n",
    "            }\n",
    "        }\n",
    "    }\n",
    "        \n",
    "}"
   ]
  },
  {
   "cell_type": "markdown",
   "metadata": {},
   "source": [
    "## Lets refactor\n",
    "\n",
    "\n",
    "\n",
    "1. Create a new class called circle\n",
    "2. Create a new class called Rectangle\n",
    "\n",
    "We dont need the shapetype enumeration any more.\n",
    "Bur now the Canvas class is broken. But remember this behviour should not be part of the Canvas class, it should live in the correct class. Which class should draw, the circle class. But all shapes should draw, So this is how we generalize. This behaviour should be common to all shapes. So we first add the Draw method to shape (base) class. \n",
    "\n",
    "Ands since Circle, Rentangle is inheriting from Shape, the Draw method will be derived in the child child classes. But how we draw a circle is different from drawing other shapes.\n",
    "\n",
    "This is were we use method overriding..\n",
    "\n",
    "1. Declare method as virtual in Base (Shape)\n",
    "2. Declare method as override in Derived (Circle, Rectangle, ect)\n",
    "\n",
    ".NET automatically add, in override child meth\n",
    "\n",
    "```\n",
    "//Code spefic to cicle class can be written here.\n",
    "base.Draw();\n",
    "```\n",
    "\n",
    "What does it mean:\n",
    "\n",
    "1. Above the ```base.Draw()``` method we can write any code specific to the Circle class\n",
    "2. The we pass executed to draw method of the parent class\n",
    "\n",
    "So, for our purposes here, we do not need the draw method of the parent class as it does not have any implementation, so we can remove it\n",
    "\n",
    "\n",
    "So we get the algorithm for drawing the circle and rect from the Canvas class, and what do we put in place...we add the Circle class draw method. And this is were the magic happens.\n",
    "\n",
    "So we remove the case statement and only have:\n",
    "\n",
    "```\n",
    "foreach(var shape in shapes){\n",
    "   shape.Draw();\n",
    "}\n",
    "\n",
    "```\n",
    "\n",
    "Essence: We dont need a case statement for each shape, i.e specific shape, we call the base class draw method, and since each shape class override it, it will call the overridden draw method specific to it...this is powerful.\n",
    "\n",
    "So shape.Draw() will become circle.Draw(). So whatever shape is passed, the draw method of that shape, e.g. Circle will be called.\n",
    "\n",
    "\n",
    "This is polymophism in action.\n",
    "\n",
    "\n",
    "And there a many benefits of this approach:\n",
    "\n",
    "1. Behaviour lives in class it belong\n",
    "2. No need for switch/case statements\n",
    "3. DrawShapes dont grow any more\n",
    "4. We can create new shapes, by creating new classes (e.g Triagle class), without affecting  other classes\n",
    "\n",
    "This is very loosely coupled application.\n",
    "\n",
    "Lets continue with the example\n",
    "\n",
    "1. Create a list of shapes\n",
    "2. With properties specific to those shapes\n",
    "3. Then we create the Canvas\n",
    "4. We draw those shapes onto the canvas.\n",
    "\n",
    "\n",
    "\n"
   ]
  },
  {
   "cell_type": "code",
   "execution_count": 5,
   "metadata": {},
   "outputs": [],
   "source": [
    "public enum ShapeType{\n",
    "    Circle,\n",
    "    Rectangle,\n",
    "    Triangle\n",
    "}"
   ]
  },
  {
   "cell_type": "code",
   "execution_count": 6,
   "metadata": {},
   "outputs": [],
   "source": [
    "public class Shape{\n",
    "    public int Width {get;set;}\n",
    "    public int Height {get;set;}\n",
    "    public ShapeType Type{get;set;}\n",
    "    \n",
    "    public virtual void Draw(){\n",
    "        Console.WriteLine (\"Busy drawing a Shape\");\n",
    "    \n",
    "    }\n",
    "    \n",
    "}"
   ]
  },
  {
   "cell_type": "code",
   "execution_count": 7,
   "metadata": {},
   "outputs": [],
   "source": [
    "public class Circle: Shape{\n",
    "    \n",
    "    //base.Draw();   //remove it\n",
    "    \n",
    "    public override void Draw(){\n",
    "        Console.WriteLine (\"Busy drawing a Circle\"); //Our impplementation\n",
    "    \n",
    "    }\n",
    "    \n",
    "}"
   ]
  },
  {
   "cell_type": "code",
   "execution_count": 8,
   "metadata": {},
   "outputs": [],
   "source": [
    "public class Rectangle: Shape{\n",
    "   //base.Draw();   //remove it\n",
    "    public override void Draw(){\n",
    "        Console.WriteLine (\"Busy drawing a Rectangle\"); //Our impplementation\n",
    "    \n",
    "    }\n",
    "    \n",
    "}"
   ]
  },
  {
   "cell_type": "code",
   "execution_count": 9,
   "metadata": {},
   "outputs": [],
   "source": [
    "public class Canvas{\n",
    "    public void DrawShapes(List<Shape> shapes){\n",
    "        foreach(var shape in shapes){\n",
    "           shape.Draw();\n",
    "        }\n",
    "    }        \n",
    "}"
   ]
  },
  {
   "cell_type": "code",
   "execution_count": 10,
   "metadata": {},
   "outputs": [
    {
     "name": "stdout",
     "output_type": "stream",
     "text": [
      "Busy drawing a Shape\n",
      "Busy drawing a Shape\n"
     ]
    }
   ],
   "source": [
    "var shapes = new List<Shape>();\n",
    "shapes.Add(new Shape {Width = 100, Height = 100, Type=ShapeType.Circle});\n",
    "shapes.Add(new Shape {Width = 300, Height = 300, Type=ShapeType.Rectangle});\n",
    "\n",
    "var canvas = new Canvas();\n",
    "canvas.DrawShapes(shapes);"
   ]
  },
  {
   "cell_type": "markdown",
   "metadata": {},
   "source": [
    "So lets now specify which shapes we want to draw...\n"
   ]
  },
  {
   "cell_type": "code",
   "execution_count": 11,
   "metadata": {},
   "outputs": [
    {
     "name": "stdout",
     "output_type": "stream",
     "text": [
      "Busy drawing a Circle\n",
      "Busy drawing a Rectangle\n"
     ]
    }
   ],
   "source": [
    "var shapes = new List<Shape>();\n",
    "shapes.Add(new Circle {Width = 100, Height = 100, Type=ShapeType.Circle});\n",
    "shapes.Add(new Rectangle {Width = 300, Height = 300, Type=ShapeType.Rectangle});\n",
    "\n",
    "var canvas = new Canvas();\n",
    "canvas.DrawShapes(shapes);"
   ]
  },
  {
   "cell_type": "markdown",
   "metadata": {},
   "source": [
    "## Abstract Classes and Members\n",
    "\n",
    "____\n",
    "\n",
    "Abstract modifier can be applied to Classes and their members...\n",
    "\n",
    "1. What is it\n",
    "2. And what are the Rules when we use this modifier.\n",
    "\n",
    "Abstract modifier indicates that the class or member is MISSING its IMPLENTATION. This is different from virtual, where there is an implementation, but we overriding it in the derived class.\n",
    "\n",
    "\n",
    "Previously the Circle class ```override``` the draw method of the base class ```virtual ```method\n",
    "\n",
    "But of we think about it, drawing a shape, is difficult is we dont know what it is, so it will always just ne empty. And since it is always empty, we can just le ave it blank. And once we do that, a better approach is to use the Abtract modifier.\n",
    "\n",
    "So the code will changed to\n",
    "\n",
    "\n",
    "```\n",
    "public abstract class Shape{\n",
    "    public abstract void Draw();\n",
    "\n",
    "}\n",
    "\n",
    "```\n",
    "\n",
    "\n",
    "1. The class get ```abstract``` modifier\n",
    "2. ANd the method gets the ```abstract``` modifier.\n",
    "3. The Draw method does not have a body, so it just gets semicolon.\n",
    "\n",
    "\n",
    "So saying the shape class is missing its its implementation, and it will be implemented in the dervied class.\n",
    "\n",
    "So abstract methods and inherantly virtual and can provide polymosrphic behaviour.\n",
    "\n",
    "These are the rules when working with Abtract clases and members:\n",
    "\n",
    "1. Abstract method CANNOT include any code, so not curly braces, just parethesis and simicolon\n",
    "2. If you have an abstract class, the the Class MUST also be declared as abstract.\n",
    "3. The derived class MUST IMPLEMENT all abstract members of the base class. The derived class must override all the asbtract classes of the base class.\n",
    "4. Abstract (base) class CANNOT be instantiated.\n",
    "\n",
    "```\n",
    "Shape shape = new Shape()  //wont compile\n",
    "```\n",
    "\n",
    "\n",
    "So Why? We want common behaviour and other developers to follow a design. so it we only provided a ```virtaual``` draw method, then the developer could simply ahve ignored to implement the draw method, when he created a new shape class(triangle)\n",
    "\n",
    "\n",
    "Lets start coding....and see the problem\n",
    "\n",
    "We implemented Shape, and derived Circle and Rectangle. But forgot to implement draw method in Rect, see the error message we got.\n"
   ]
  },
  {
   "cell_type": "code",
   "execution_count": 12,
   "metadata": {},
   "outputs": [],
   "source": [
    "public class Shape{\n",
    "      \n",
    "    public virtual void Draw(){\n",
    "        Console.WriteLine (\"Busy drawing a Shape\");\n",
    "    \n",
    "    }\n",
    "    \n",
    "}"
   ]
  },
  {
   "cell_type": "code",
   "execution_count": 13,
   "metadata": {},
   "outputs": [],
   "source": [
    "public class Circle: Shape{\n",
    "    \n",
    "    //base.Draw();   //remove it\n",
    "    \n",
    "    public override void Draw(){\n",
    "        Console.WriteLine (\"Busy drawing a Circle\"); //Our impplementation\n",
    "    \n",
    "    }\n",
    "    \n",
    "}"
   ]
  },
  {
   "cell_type": "code",
   "execution_count": 14,
   "metadata": {},
   "outputs": [],
   "source": [
    "public class Rectangle: Shape{\n",
    "\n",
    "    \n",
    "}"
   ]
  },
  {
   "cell_type": "code",
   "execution_count": 15,
   "metadata": {},
   "outputs": [
    {
     "name": "stdout",
     "output_type": "stream",
     "text": [
      "Busy drawing a Circle\n",
      "Busy drawing a Shape\n"
     ]
    }
   ],
   "source": [
    "var circle = new Circle();\n",
    "circle.Draw();\n",
    "\n",
    "var rectangle = new Rectangle();\n",
    "rectangle.Draw();"
   ]
  },
  {
   "cell_type": "markdown",
   "metadata": {},
   "source": [
    "Error in Rectangle as we did not supply a draw method...not good so we make shape abstract..\n",
    "\n"
   ]
  },
  {
   "cell_type": "code",
   "execution_count": 16,
   "metadata": {},
   "outputs": [],
   "source": [
    "public abstract class Shape{\n",
    "      \n",
    "    public abstract void Draw();\n",
    "    \n",
    "    \n",
    "    \n",
    "}"
   ]
  },
  {
   "cell_type": "code",
   "execution_count": 17,
   "metadata": {},
   "outputs": [],
   "source": [
    "public class Circle: Shape{\n",
    "    \n",
    "    //base.Draw();   //remove it\n",
    "    \n",
    "    public override void Draw(){\n",
    "        Console.WriteLine (\"Busy drawing a Circle\"); //Our impplementation\n",
    "    \n",
    "    }\n",
    "     \n",
    "}"
   ]
  },
  {
   "cell_type": "code",
   "execution_count": 18,
   "metadata": {},
   "outputs": [],
   "source": [
    "public class Rectangle: Shape{\n",
    "    public override void Draw(){\n",
    "        Console.WriteLine (\"Busy drawing a Rectangle\"); //Our impplementation\n",
    "    \n",
    "    }\n",
    "    \n",
    "\n",
    "}"
   ]
  },
  {
   "cell_type": "code",
   "execution_count": 20,
   "metadata": {},
   "outputs": [
    {
     "name": "stdout",
     "output_type": "stream",
     "text": [
      "Busy drawing a Circle\n",
      "Busy drawing a Rectangle\n"
     ]
    }
   ],
   "source": [
    "//Will error.\n",
    "//var shape = new Shape() \n",
    "\n",
    "var circle = new Circle();\n",
    "circle.Draw();\n",
    "\n",
    "var rectangle = new Rectangle();\n",
    "rectangle.Draw();"
   ]
  },
  {
   "cell_type": "markdown",
   "metadata": {},
   "source": [
    "## Sealed Class and Members\n",
    "\n",
    "____\n",
    "\n",
    "Sealed classes are the opposite of abstract classes. It prevents a derived class from overiding a a base classs or it members.\n",
    "\n",
    "\n",
    "Can be applied to class and class member.\n",
    "\n",
    "Here are the rules\n",
    "\n",
    "1. Can only be applied to a derived class that override a class or method of base class\n",
    "2. Can only apply to method that was declared as virtual (or abtract ??) in base class/ \n",
    "\n",
    "```\n",
    "public sealed class Circle: Shape{\n",
    "    public override void Draw(){\n",
    "        Console.WriteLine (\"Busy drawing a Circle\"); //Our impplementation\n",
    "    }\n",
    "}\n",
    "\n",
    "```\n",
    "\n",
    "or \n",
    "\n",
    "\n",
    "```\n",
    "public  class Circle: Shape{\n",
    "    public sealed override void Draw(){\n",
    "        Console.WriteLine (\"Busy drawing a Circle\"); //Our impplementation\n",
    "    }\n",
    "}\n",
    "\n",
    "```\n",
    "\n",
    "1. So we cannot derive a class from circle (CANNOT inheritance)\n",
    "\n",
    "```\n",
    "public SmallCircle: Circle{   //not allowed\n",
    "\n",
    "}\n",
    "\n",
    "```\n",
    "\n",
    "or\n",
    "\n",
    "1. We cannot derive the draw methd from circle (when another class inherit from circle. But we can also make sealed class, where we have virtual from base)\n",
    "\n",
    "```\n",
    "public SmallCircle: Circle{\n",
    "\n",
    "    public sealed override void Draw(){     //Not allowed\n",
    "        Console.WriteLine (\"Busy drawing a Circle\"); //Our impplementation\n",
    "    }\n",
    "}\n",
    "\n",
    "```\n",
    "\n",
    "Why do we need sealed classes? Sealed classes are faster because of runtime optimization.. but sealed is hardly used. May mess up the inheritance hierarchy.\n",
    "\n"
   ]
  },
  {
   "cell_type": "code",
   "execution_count": null,
   "metadata": {},
   "outputs": [],
   "source": []
  },
  {
   "cell_type": "code",
   "execution_count": null,
   "metadata": {},
   "outputs": [],
   "source": []
  },
  {
   "cell_type": "code",
   "execution_count": null,
   "metadata": {},
   "outputs": [],
   "source": []
  },
  {
   "cell_type": "code",
   "execution_count": null,
   "metadata": {},
   "outputs": [],
   "source": []
  }
 ],
 "metadata": {
  "kernelspec": {
   "display_name": ".NET (C#)",
   "language": "C#",
   "name": ".net-csharp"
  },
  "language_info": {
   "file_extension": ".cs",
   "mimetype": "text/x-csharp",
   "name": "C#",
   "pygments_lexer": "csharp",
   "version": "8.0"
  }
 },
 "nbformat": 4,
 "nbformat_minor": 4
}
