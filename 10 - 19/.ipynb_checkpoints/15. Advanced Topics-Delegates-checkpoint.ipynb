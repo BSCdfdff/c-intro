{
 "cells": [
  {
   "cell_type": "markdown",
   "metadata": {},
   "source": [
    "# Advanced Topics : Delegates\n",
    "\n",
    "____\n",
    "\n",
    "1. Generics\n",
    "2. Delegates\n",
    "3. Lamda Expressions\n",
    "4. Events\n",
    "5. Extension Methods\n",
    "6. LINQ\n",
    "7. Nulllable Types\n",
    "8. Dynamic\n",
    "9. Exception Handling\n",
    "10. Asynchronous Programming\n",
    "\n"
   ]
  },
  {
   "cell_type": "code",
   "execution_count": 35,
   "metadata": {},
   "outputs": [],
   "source": [
    "using System;\n",
    "// using System.Collections.Generic;\n",
    "// using System.Linq; \n",
    "// using System.Text;\n",
    "// using System.Threading.Tasks;\n"
   ]
  },
  {
   "cell_type": "markdown",
   "metadata": {},
   "source": [
    "## Delegates\n",
    "\n",
    "____\n",
    "\n",
    "It is an object that knows how to call a method, and normall used to call a GROUP of method. Also said to be a reference or pointer to a function\n",
    "\n",
    "How we going to demostrate it\n",
    "\n",
    "1. Firstly how we going to implement it, our way (or calle CUSTOM delegate)\n",
    "2. Finally how .NET implementts it.\n",
    "\n",
    "\n",
    "But why dont we call methods directly? why do we need to have this intermediate step? This technique allows us to create apps that are EXTENSIBLE and FLEXIBLE, and is often used when you design frameworks.\n",
    "\n",
    "So we have the following code\n",
    "\n",
    "1. Photo class, that represents an image\n",
    "2. PhotoProcessor class, it has a Process method, which takes a path to file, loads the photo from this location, apply a set of filters (through a PhotoFilter class), and saves it \n",
    "3. PhotoFilter class, and has the ApplyFilter, ApplyContrast, Resize methods\n",
    "\n",
    "Here we are designing a framework for processing photos...\n",
    "\n",
    "But this code has a problem\n",
    "\n",
    "1. It is not extensible?? What does that mean...\n",
    "\n",
    "We have 3 filters, and another dev wants to add another filter that is not of the photofilter class. So he will need to add filter, and then compile the class and dependent classes again\n",
    "\n",
    "But this dev that not have your souce code....this is problem. You created a class that is not extensible\n",
    "\n",
    "With delegates we can make this framework extensible.\n",
    "\n",
    "We can also use INTERFACES (using polymorphism) to solve this problem, but lets stick to delegates here (we've done interfaces before)\n",
    "\n",
    "Lets run code..."
   ]
  },
  {
   "cell_type": "code",
   "execution_count": 36,
   "metadata": {},
   "outputs": [],
   "source": [
    "public class Photo{\n",
    "    \n",
    "    public static Photo Load(string Path){\n",
    "        return new Photo();\n",
    "    }\n",
    "    \n",
    "    public void Save(){\n",
    "        Console.WriteLine(\"Photo Saved\");\n",
    "    }\n",
    "}"
   ]
  },
  {
   "cell_type": "code",
   "execution_count": 37,
   "metadata": {},
   "outputs": [],
   "source": [
    "public class PhotoFilter{\n",
    "\n",
    "    public void ApplyBrightness(Photo photo){\n",
    "        Console.WriteLine(\"Apply Brightness\");\n",
    "    }\n",
    "    \n",
    "    public void ApplyContrast(Photo photo){\n",
    "        Console.WriteLine(\"Apply Contrast\");\n",
    "    }\n",
    "    \n",
    "    public void Resize(Photo photo){\n",
    "        Console.WriteLine(\"Apply Resize\");\n",
    "    }\n",
    "}"
   ]
  },
  {
   "cell_type": "code",
   "execution_count": 38,
   "metadata": {},
   "outputs": [],
   "source": [
    "public class PhotoProcessor{\n",
    "    \n",
    "    public void Process(string path){\n",
    "        \n",
    "        var photo = Photo.Load(path);\n",
    "        \n",
    "        var filters = new PhotoFilter();\n",
    "        \n",
    "        filters.ApplyBrightness(photo);\n",
    "        filters.ApplyContrast(photo);\n",
    "        filters.Resize(photo);\n",
    "        \n",
    "        photo.Save();\n",
    "        \n",
    "    }\n",
    "        \n",
    "}"
   ]
  },
  {
   "cell_type": "code",
   "execution_count": 39,
   "metadata": {},
   "outputs": [
    {
     "name": "stdout",
     "output_type": "stream",
     "text": [
      "Apply Brightness\n",
      "Apply Contrast\n",
      "Apply Resize\n",
      "Photo Saved\n"
     ]
    }
   ],
   "source": [
    "var photoProcessor = new PhotoProcessor();\n",
    "photoProcessor.Process(\"\\\\\");\n",
    "                       \n"
   ]
  },
  {
   "cell_type": "markdown",
   "metadata": {},
   "source": [
    "## Lets add  delegate to make it extensible\n",
    "\n",
    "(Remember we doing it our way first, later the .NET way)\n",
    "First we beed to define a delegate type. Word delegate and then signature. The signature is what the delegate will be calling. So instance of the delegate will be to method of group of methods that the delegate will be calling\n",
    "\n",
    "\n",
    "```\n",
    "public delegate void PhotoFilterHandler(Photo photo)\n",
    "```\n",
    "Syntax\n",
    "\n",
    "1. Access modifier\n",
    "2. Word delegate\n",
    "3. Then the signature of the delegate, In the form of the method we going to call. \n",
    "4. In the form of the method\n",
    "    ```void XX(YY)```\n",
    "5. That will be the name of the delegate we will be using.\n",
    "6. (the delegate is defined like function, so we call it like function) - see main.\n",
    "\n",
    "So we delegate a method that we want to be extensible, that is photofilter. So instead of hard coding the filters, we define (CONCRETE) where we calling it\n",
    "\n",
    "And we pass a delegate to the Process method, that will do the processing, and we dont instantiate the PhotoFilter there anymore, we pass the delegate. And we just pass the photo object.  \n",
    "\n",
    "```\n",
    " public void Process(string path,PhotoFilterHandler filterHandler){\n",
    "      filterHandler(photo);\n",
    " }\n",
    "```\n",
    "\n",
    "So we can see that a delegate (our implemenation), is a ```type of``` in a sense.\n",
    "\n",
    "Here is magic: The PhotoProcessor class, and Process method does not know what filter will be applied. The method/class making a call to the Process method, will supply (CONCRETE) the filter. That is responsibility of the client\n",
    "\n",
    "No recompiling of clases.\n",
    "\n",
    "And who is the client of this class, that will be main... here we need to supply the filter.\n",
    "\n",
    "\n",
    "Here we going to create an instance of that delegate. Where is that delegate defined? In PhotoProcessor class...\n",
    "\n",
    "We get get instance of PhotoFilters. And we call the delegate as follows:\n",
    "\n",
    "\n",
    "The syntax for calling:\n",
    "\n",
    "\n",
    "```\n",
    "var filters = new PhotoFilter();\n",
    "PhotoProcessor.PhotoFilterHandler filterHandler = filters.ApplyBrightness\n",
    "\n",
    "\n",
    "```\n",
    "\n",
    "1. We calling like class\n",
    "2. And we apply assigment ```+=``` operator to add more methods.\n",
    "\n",
    "And we pass the filterHandler to the process method\n",
    "\n",
    "And we get the following:\n",
    "\n",
    "```\n",
    "PhotoProcessor.PhotoFilterHandler filterHandler = filters.ApplyBrightness;\n",
    "\n",
    "filterHandler += filters.ApplyContrast;\n",
    "filterHandler += filters.Resize;\n",
    "\n",
    "```\n",
    "\n",
    "So now, if another developer, client of the class, want to add a filter, he can do so, without any issues.\n",
    "\n",
    "Lets add another filers, RemoveRedEye. But, it must confirm with the sigature of the method that the delegate is implementing.\n",
    "\n",
    "```\n",
    "void name (Photo photo)\n",
    "```\n",
    "\n",
    "That is a delegate is pointer to method that has this specific signature.\n",
    "\n",
    "\n",
    "So the following is not touched\n",
    "\n",
    "1. PhotoProcessor class\n",
    "2. PhotoFilter class\n",
    "\n",
    "\n",
    "\n"
   ]
  },
  {
   "cell_type": "code",
   "execution_count": 40,
   "metadata": {},
   "outputs": [],
   "source": [
    "public class Photo{\n",
    "    \n",
    "    public static Photo Load(string Path){\n",
    "        return new Photo(); \n",
    "    }\n",
    "    \n",
    "    public void Save(){\n",
    "        Console.WriteLine(\"Photo Saved\");\n",
    "    }\n",
    "}"
   ]
  },
  {
   "cell_type": "code",
   "execution_count": 41,
   "metadata": {},
   "outputs": [],
   "source": [
    "public class PhotoFilter{\n",
    "\n",
    "    public void ApplyBrightness(Photo photo){\n",
    "        Console.WriteLine(\"Apply Brightness\");\n",
    "    }\n",
    "    \n",
    "    public void ApplyContrast(Photo photo){\n",
    "        Console.WriteLine(\"Apply Contrast\");\n",
    "    }\n",
    "    \n",
    "    public void Resize(Photo photo){\n",
    "        Console.WriteLine(\"Apply Resize\");\n",
    "    }\n",
    "}"
   ]
  },
  {
   "cell_type": "code",
   "execution_count": 42,
   "metadata": {},
   "outputs": [],
   "source": [
    "public class PhotoProcessor{\n",
    "    \n",
    "    public delegate void PhotoFilterHandler(Photo photo);\n",
    "        \n",
    "    \n",
    "    public void Process(string path,PhotoFilterHandler filterHandler){\n",
    "        \n",
    "        var photo = Photo.Load(path);\n",
    "        \n",
    "        filterHandler(photo);\n",
    "        \n",
    "        photo.Save();\n",
    "        \n",
    "    }\n",
    "        \n",
    "}"
   ]
  },
  {
   "cell_type": "code",
   "execution_count": 43,
   "metadata": {},
   "outputs": [
    {
     "name": "stdout",
     "output_type": "stream",
     "text": [
      "Apply Brightness\n",
      "Apply Contrast\n",
      "Apply Resize\n",
      "Photo Saved\n"
     ]
    }
   ],
   "source": [
    "var processor = new PhotoProcessor();\n",
    "                       \n",
    "var filters = new PhotoFilter();\n",
    "PhotoProcessor.PhotoFilterHandler filterHandler = filters.ApplyBrightness;\n",
    "\n",
    "filterHandler += filters.ApplyContrast;\n",
    "filterHandler += filters.Resize;\n",
    "\n",
    "processor.Process(\"photo.jpg\",filterHandler);\n",
    " \n",
    "\n",
    "    \n",
    "\n"
   ]
  },
  {
   "cell_type": "code",
   "execution_count": 44,
   "metadata": {},
   "outputs": [],
   "source": [
    "public static void RemoveRedEye(Photo photo){\n",
    "        Console.WriteLine(\"Apply Remove Red Eye\");\n",
    "}"
   ]
  },
  {
   "cell_type": "code",
   "execution_count": 45,
   "metadata": {},
   "outputs": [
    {
     "name": "stdout",
     "output_type": "stream",
     "text": [
      "Apply Brightness\n",
      "Apply Contrast\n",
      "Apply Resize\n",
      "Apply Remove Red Eye\n",
      "Photo Saved\n"
     ]
    }
   ],
   "source": [
    "filterHandler += RemoveRedEye;\n",
    "processor.Process(\"photo.jpg\",filterHandler);"
   ]
  },
  {
   "cell_type": "markdown",
   "metadata": {},
   "source": [
    "## What happens under the hood\n",
    "\n",
    "Derives from System.MulticlassDelegate class, derived from System.Delegate, which has the following public properties:\n",
    "\n",
    "\n",
    "1. Method, represent a method that the target is pointing to\n",
    "2. Target, represents the location or class where that method is located\n",
    "\n",
    "\n",
    "In our cases: \n",
    "\n",
    "```\n",
    "method = ApplyBrightness (method) (what we abstracting)\n",
    "target = PhotoFilters (class)\n",
    "```\n"
   ]
  },
  {
   "cell_type": "markdown",
   "metadata": {},
   "source": [
    "## Now lets use the Built-in .NET Delegate \n",
    "\n",
    "_____\n",
    "\n",
    "So instead of defining a custom delegate, as we did above, lets use .net built-in delegate class to perform the above\n",
    "\n",
    "In .NET we have two generic delegates\n",
    "\n",
    "1. Action (two version generic and non generic). It has up to 16 overloads.\n",
    "2. Func\n",
    "\n",
    "\n",
    " \n",
    "```Action``` can point to method that can take up to 16 parameters, and that returns void\n",
    "\n",
    "```Func``` can point to method that can take up to 16+ parameters, and but it returns a value\n",
    "\n",
    "So this gives you a lot of flexibility, that means there is no need to create your own custom delegates.\n",
    "\n",
    "Lets remove the custom PhotoFilterHandler, and use the generic Action delegate\n",
    "\n",
    "\n",
    "So in PhotoProcessor class (Process method), we say you can pass any delegate that takes a Photo as an argument, and returns void, and we define this Action delegate as filterHandler.\n",
    "\n",
    "\n",
    "```\n",
    "public void Process(string path,Action<Photo> filterHandler){\n",
    "\n",
    "``` \n",
    "\n",
    "Lets update main, to use Action, instead of the custom delegate\n",
    "\n",
    "\n",
    "Replace\n",
    "\n",
    "```\n",
    "PhotoProcessor.PhotoFilterHandler filterHandler = filters.ApplyBrightness;\n",
    "\n",
    "```\n",
    "\n",
    "with \n",
    "\n",
    "```\n",
    "Action<Photo> filterHandler = filters.ApplyBrightness;\n",
    "\n",
    "```\n",
    "\n"
   ]
  },
  {
   "cell_type": "code",
   "execution_count": 46,
   "metadata": {},
   "outputs": [],
   "source": [
    "public class Photo{\n",
    "    \n",
    "    public static Photo Load(string Path){\n",
    "        return new Photo(); \n",
    "    }\n",
    "    \n",
    "    public void Save(){\n",
    "        Console.WriteLine(\"Photo Saved\");\n",
    "    }\n",
    "}"
   ]
  },
  {
   "cell_type": "code",
   "execution_count": 47,
   "metadata": {},
   "outputs": [],
   "source": [
    "public class PhotoFilter{\n",
    "\n",
    "    public void ApplyBrightness(Photo photo){\n",
    "        Console.WriteLine(\"Apply Brightness\");\n",
    "    }\n",
    "    \n",
    "    public void ApplyContrast(Photo photo){\n",
    "        Console.WriteLine(\"Apply Contrast\");\n",
    "    }\n",
    "    \n",
    "    public void Resize(Photo photo){\n",
    "        Console.WriteLine(\"Apply Resize\");\n",
    "    }\n",
    "}"
   ]
  },
  {
   "cell_type": "code",
   "execution_count": 48,
   "metadata": {},
   "outputs": [],
   "source": [
    "public class PhotoProcessor{\n",
    "    \n",
    "    public void Process(string path,Action<Photo> filterHandler){\n",
    "        \n",
    "        var photo = Photo.Load(path);\n",
    "        \n",
    "        filterHandler(photo);\n",
    "        \n",
    "        photo.Save();\n",
    "        \n",
    "    }\n",
    "        \n",
    "}"
   ]
  },
  {
   "cell_type": "code",
   "execution_count": 49,
   "metadata": {},
   "outputs": [
    {
     "name": "stdout",
     "output_type": "stream",
     "text": [
      "Apply Brightness\n",
      "Apply Contrast\n",
      "Apply Resize\n",
      "Photo Saved\n"
     ]
    }
   ],
   "source": [
    "var processor = new PhotoProcessor();\n",
    "                       \n",
    "var filters = new PhotoFilter();\n",
    "\n",
    "Action<Photo> filterHandler = filters.ApplyBrightness;\n",
    "\n",
    "filterHandler += filters.ApplyContrast;\n",
    "filterHandler += filters.Resize;\n",
    "\n",
    "processor.Process(\"photo.jpg\",filterHandler);\n",
    " \n",
    "\n",
    "    "
   ]
  },
  {
   "cell_type": "markdown",
   "metadata": {},
   "source": [
    "## Summary\n",
    "\n",
    "We setting up a pointer to a function, by using a delegate\n",
    "\n",
    "Essentially is object that KNOWS how to call a method or group of methods.\n",
    "\n",
    "And we use if extensibility and flexibility\n",
    "\n",
    "But we can use INTERFACES to achieve the above as will, but how do we decide?\n",
    "\n",
    "\n",
    "The MSDN guideline suggests that we use delegates when we have some eventing design pattern or caller does not need to access other properties, methods or interfaces of the object implementing the method. \n",
    " \n"
   ]
  },
  {
   "cell_type": "code",
   "execution_count": null,
   "metadata": {},
   "outputs": [],
   "source": []
  },
  {
   "cell_type": "code",
   "execution_count": null,
   "metadata": {},
   "outputs": [],
   "source": []
  }
 ],
 "metadata": {
  "kernelspec": {
   "display_name": ".NET (C#)",
   "language": "C#",
   "name": ".net-csharp"
  },
  "language_info": {
   "file_extension": ".cs",
   "mimetype": "text/x-csharp",
   "name": "C#",
   "pygments_lexer": "csharp",
   "version": "8.0"
  }
 },
 "nbformat": 4,
 "nbformat_minor": 4
}
