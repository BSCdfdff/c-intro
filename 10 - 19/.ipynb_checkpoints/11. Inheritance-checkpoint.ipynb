{
 "cells": [
  {
   "cell_type": "markdown",
   "metadata": {},
   "source": [
    "# Inheritance\n",
    "\n",
    "____\n",
    "\n",
    "1. Access Modifiers\n",
    "2. Constructors and Inheritance\n",
    "3. Upcasting and Downcasting\n",
    "4. Boxing and Unboxing\n"
   ]
  },
  {
   "cell_type": "code",
   "execution_count": 1,
   "metadata": {},
   "outputs": [
    {
     "data": {
      "text/html": [
       "\r\n",
       "<div>\r\n",
       "    <div id='dotnet-interactive-this-cell-8d763bf3ff214db39c49a881638b0e31' style='display: none'>\r\n",
       "        The below script needs to be able to find the current output cell; this is an easy method to get it.\r\n",
       "    </div>\r\n",
       "    <script type='text/javascript'>\r\n",
       "// ensure `requirejs` is available globally\r\n",
       "if (typeof requirejs !== typeof Function || typeof requirejs.config !== typeof Function) {\r\n",
       "    let requirejs_script = document.createElement('script');\r\n",
       "    requirejs_script.setAttribute('src', 'https://cdnjs.cloudflare.com/ajax/libs/require.js/2.3.6/require.min.js');\r\n",
       "    requirejs_script.setAttribute('type', 'text/javascript');\r\n",
       "    requirejs_script.onload = function () {\r\n",
       "        loadDotnetInteractiveApi();\r\n",
       "    };\r\n",
       "\r\n",
       "    document.getElementsByTagName('head')[0].appendChild(requirejs_script);\r\n",
       "}\r\n",
       "else {\r\n",
       "    loadDotnetInteractiveApi();\r\n",
       "}\r\n",
       "\r\n",
       "async function probeAddresses(probingAddresses) {\r\n",
       "    function timeout(ms, promise) {\r\n",
       "        return new Promise(function (resolve, reject) {\r\n",
       "            setTimeout(function () {\r\n",
       "                reject(new Error('timeout'))\r\n",
       "            }, ms)\r\n",
       "            promise.then(resolve, reject)\r\n",
       "        })\r\n",
       "    }\r\n",
       "\r\n",
       "    if (Array.isArray(probingAddresses)) {\r\n",
       "        for (let i = 0; i < probingAddresses.length; i++) {\r\n",
       "\r\n",
       "            let rootUrl = probingAddresses[i];\r\n",
       "\r\n",
       "            if (!rootUrl.endsWith('/')) {\r\n",
       "                rootUrl = `${rootUrl}/`;\r\n",
       "            }\r\n",
       "\r\n",
       "            try {\r\n",
       "                let response = await timeout(1000, fetch(`${rootUrl}discovery`, {\r\n",
       "                    method: 'POST',\r\n",
       "                    timeout: 1000,\r\n",
       "                    headers: {\r\n",
       "                        'Content-Type': 'text/plain'\r\n",
       "                    },\r\n",
       "                    body: probingAddresses[i]\r\n",
       "                }));\r\n",
       "\r\n",
       "                if (response.status == 200) {\r\n",
       "                    return rootUrl;\r\n",
       "                }\r\n",
       "            }\r\n",
       "            catch (e) { }\r\n",
       "        }\r\n",
       "    }\r\n",
       "}\r\n",
       "\r\n",
       "function loadDotnetInteractiveApi() {\r\n",
       "    probeAddresses([\"http://192.168.0.107:1029/\", \"http://127.0.0.1:1029/\"])\r\n",
       "        .then((root) => {\r\n",
       "            // use probing to find host url and api resources\r\n",
       "            // load interactive helpers and language services\r\n",
       "            let dotnet_require = requirejs.config({\r\n",
       "                context: '22239.8d763bf3ff214db39c49a881638b0e31',\r\n",
       "                paths: {\r\n",
       "                    'dotnet-interactive': `${root}resources`\r\n",
       "                }\r\n",
       "            });\r\n",
       "            if (!window.dotnet_require) {\r\n",
       "                window.dotnet_require = dotnet_require;\r\n",
       "            }\r\n",
       "        \r\n",
       "            dotnet_require([\r\n",
       "                    'dotnet-interactive/dotnet-interactive'\r\n",
       "                ],\r\n",
       "                function (dotnet) {\r\n",
       "                    dotnet.init(window);\r\n",
       "                },\r\n",
       "                function (error) {\r\n",
       "                    console.log(error);\r\n",
       "                }\r\n",
       "            );\r\n",
       "        })\r\n",
       "        .catch(error => {console.log(error);});\r\n",
       "    }\r\n",
       "    </script>\r\n",
       "</div>"
      ]
     },
     "metadata": {},
     "output_type": "display_data"
    }
   ],
   "source": [
    "using System;\n",
    "// using System.Collections.Generic;\n",
    "// using System.Linq; \n",
    "// using System.Text;\n",
    "// using System.Threading.Tasks;\n"
   ]
  },
  {
   "cell_type": "markdown",
   "metadata": {},
   "source": [
    "##  Access Modifiers\n",
    "\n",
    "____\n",
    "\n",
    "1. Why are they important\n",
    "2. Black box metaphor\n",
    "3. C# access modifiers\n",
    "\n",
    "If we look at a black box, there is only one light, and very limited visibility of what happens inside. We need to define our classes in this way.\n",
    "\n",
    "But Why? It revolves around safety and isolating changes, and preventing access from outside. We isolate changes, and if someone makes change to a vital component, and other parts rely on it, then we loose the intended functionality of what the system does.\n",
    "\n",
    "In C# we use access modifiers to control visibility  to members of class\n",
    "\n",
    " \n",
    "1. Public  (Done)\n",
    "2. Private (Done)\n",
    "3. Protected\n",
    "4. Internal\n",
    "5. Protected Internal\n",
    "\n",
    "Public members are accessible from anywhere. We create object from the class and get access to the public methods. Private members are ONLY accessible from class.\n",
    "\n",
    "Protected members are ONLY accessible from class, AND also from its derived classes. Thats is if we have a \"is-a\" relationship, that is inheritance, when the child class (derived), will have access to parent class members that is declared as protected. (not recommended, rather use private)\n",
    "\n",
    "Internal classes (not used with members) are ONLY accessible from the same assembly (also not recommended)\n",
    "\n",
    "Protected Internal members are only accessible from same assembly or from derived classes (characterisic of bot internal and protected at same time) (not recommended). Letrs say the parent change the signature of class, then the derived class wil be affected.\n",
    "\n",
    "\n",
    "CalculateRating is part of the IMPLEMENTATION DETAILS of the Customer class. Its serves no purpose to expose it to the outside world. This is what is achieved through encapsulation.\n",
    "\n",
    "\n",
    "Lest create a class that derives from the customer class...\n",
    "\n",
    "\n",
    "Doing internal: Cant do it here..check lesson"
   ]
  },
  {
   "cell_type": "code",
   "execution_count": 2,
   "metadata": {},
   "outputs": [],
   "source": [
    "public class Customer{\n",
    "    public string Name{get;set;}\n",
    "    public int Id{get;set;}\n",
    "    \n",
    "    public void Promote(){\n",
    "        var rating = CalculateRating();\n",
    "        if (rating > 90){\n",
    "            Console.WriteLine(\"Customer promoted to the next level\");\n",
    "        }\n",
    "        else{\n",
    "            Console.WriteLine(\"Customer NOT promoted.\");\n",
    "        }\n",
    "        \n",
    "        \n",
    "    }\n",
    "    \n",
    "    private int CalculateRating(){\n",
    "        return 100;\n",
    "        \n",
    "    }\n",
    "    \n",
    "    protected int CalculateRatingForGold(){\n",
    "         \n",
    "        return CalculateRating();\n",
    "        \n",
    "    }\n",
    "    \n",
    "}"
   ]
  },
  {
   "cell_type": "code",
   "execution_count": 3,
   "metadata": {},
   "outputs": [],
   "source": [
    "public class GoldCustomer:Customer{\n",
    "\n",
    "    public void OfferVoucher(){\n",
    "       var rating =  this.CalculateRatingForGold();\n",
    "       Console.WriteLine(\"Customer has GOLD rating:{0}\", rating);\n",
    "    \n",
    "    }\n",
    "\n",
    "}"
   ]
  },
  {
   "cell_type": "code",
   "execution_count": 4,
   "metadata": {
    "scrolled": true
   },
   "outputs": [
    {
     "name": "stdout",
     "output_type": "stream",
     "text": [
      "Customer has GOLD rating:100\n"
     ]
    }
   ],
   "source": [
    "var GCust = new GoldCustomer();\n",
    "GCust.OfferVoucher();\n"
   ]
  },
  {
   "cell_type": "markdown",
   "metadata": {},
   "source": [
    "## Constructors and Inheritance\n",
    "\n",
    "____\n",
    "\n",
    "The following we need to know about constructors, when dealing with inheritance.\n",
    "\n",
    "1. Base classes are always executed first.\n",
    "2. Base class constructors are not inherited. That is in the derived class you need to redefine your constructors.\n",
    "\n",
    "But instead of redefining the same constructor in the derived class, we can use the ```base``` keyword:\n",
    "\n",
    "```\n",
    "public class Car: Vehicle{\n",
    "  public Car(string RegistrationNumber):base(RegistrationNumber){\n",
    "       .... \n",
    "  } \n",
    "```\n",
    "\n"
   ]
  },
  {
   "cell_type": "code",
   "execution_count": 5,
   "metadata": {},
   "outputs": [],
   "source": [
    "public class Vehicle{\n",
    "    private readonly string _registrationNumber;\n",
    "  \n",
    "   public Vehicle(){\n",
    "    \n",
    "       Console.WriteLine(\"Vehicle is initialized\");\n",
    "    }\n",
    "  \n",
    "    \n",
    "    public Vehicle(string RegistrationNumber){\n",
    "      _registrationNumber =RegistrationNumber;\n",
    "    }\n",
    "}\n",
    "\n",
    "public class Car:Vehicle{\n",
    "   public Car(){\n",
    "      Console.WriteLine(\"Car is initialized\");\n",
    "   }\n",
    "\n",
    "}"
   ]
  },
  {
   "cell_type": "code",
   "execution_count": 6,
   "metadata": {},
   "outputs": [
    {
     "name": "stdout",
     "output_type": "stream",
     "text": [
      "Vehicle is initialized\n",
      "Car is initialized\n"
     ]
    }
   ],
   "source": [
    "var cary = new Car();"
   ]
  },
  {
   "cell_type": "code",
   "execution_count": 7,
   "metadata": {},
   "outputs": [],
   "source": [
    "public class Vehicle{\n",
    "    private readonly string _registrationNumber;\n",
    "  \n",
    "   public Vehicle(){\n",
    "    \n",
    "       Console.WriteLine(\"Vehicle is initialized\");\n",
    "    }\n",
    "  \n",
    "    \n",
    "    public Vehicle(string RegistrationNumber){\n",
    "      _registrationNumber =RegistrationNumber;\n",
    "    }\n",
    "}\n",
    "\n",
    "public class Car:Vehicle{\n",
    "   public Car(string RegistrationNumber):base(RegistrationNumber){\n",
    "      Console.WriteLine(\"Car is initialized\");\n",
    "   }\n",
    "\n",
    "}"
   ]
  },
  {
   "cell_type": "code",
   "execution_count": 8,
   "metadata": {},
   "outputs": [
    {
     "name": "stdout",
     "output_type": "stream",
     "text": [
      "Car is initialized\n"
     ]
    }
   ],
   "source": [
    "var cary = new Car(\"ITYUTU\");\n"
   ]
  },
  {
   "cell_type": "markdown",
   "metadata": {},
   "source": [
    "## Upcasting and Downcasting\n",
    "____\n",
    "\n",
    "So we have a base and derived class, and sometimes we need to convert an object with a base or derived reference.\n",
    "\n",
    "\n",
    "1. Conversion from a derived class to a base class (upcasting)\n",
    "2. Conversion from a base class to a derived class (downcasting) \n",
    "3. The ```as``` and ```is``` keywords.\n",
    "\n",
    "#### Upcasting\n",
    "____\n",
    "\n",
    "\n",
    "We habe Shape (Base) and Circle (Derived).\n",
    "\n",
    "Here we convert circle to its base class reference, by doing\n",
    "\n",
    "```\n",
    "Circle circle = new Circle()\n",
    "Shape shape = circle;     //Derived to Base\n",
    "```\n",
    "\n",
    "Thee above is implicit conversion, we dont have to explitly have to do casting\n",
    "\n",
    "Here the shape object is pointing to the circle object at run time.\n",
    "\n",
    "But why do we can to do this? Remember inheritance is a ```is a ``` relationship, so you can do it. so you can have access to members from the base class...???\n",
    "\n",
    "\n",
    "#### Downcasting\n",
    "____\n",
    "\n",
    "Following from previous discussion:\n",
    "\n",
    "```\n",
    "Circle circle2 = (Circle)shape;   //Base to Derived\n",
    "\n",
    "```\n",
    "Here we converting from the base class to the derived class. But we need to explicitly do so.\n",
    "\n",
    "\n",
    "Here the ciclee object is pointing to the shape object at run time.\n",
    "\n",
    "\n",
    "#### as keyword\n",
    "____\n",
    "\n",
    "\n",
    "But when doing these castings we may get an error at run time. so safer way is to use the ```as``` keyword.\n",
    "\n",
    "\n",
    "```\n",
    "Car car = (Car) obj //this may produce an error\n",
    "```\n",
    "\n",
    "However we can use the ```as``` keyword\n",
    "\n",
    "```\n",
    "Car car = obj as Car\n",
    "\n",
    "if(car !=null) //then we can check for/NOT null (that is error) value)\n",
    "```\n",
    "\n",
    "#### iskeyword\n",
    "____\n",
    "\n",
    "\n",
    "\n",
    "We also have the ```is```keyword. With ```is``` we can check the type of an object. Then we can safely cast it.\n",
    "\n",
    "\n",
    "```\n",
    "if (obj is Car){\n",
    "    Car car = (Car) obj;\n",
    "}\n",
    "``\n",
    "\n"
   ]
  },
  {
   "cell_type": "code",
   "execution_count": 9,
   "metadata": {},
   "outputs": [],
   "source": [
    "public class Shape{\n",
    "    public int Width {get;set;}\n",
    "    public int Height {get;set;}\n",
    "    public int X {get;set;}\n",
    "    public int Y {get;set;}\n",
    "    \n",
    "    public void Draw(){\n",
    "        Console.WriteLine (\"Busy drawing a Shape\");\n",
    "    \n",
    "    }\n",
    "    \n",
    "}"
   ]
  },
  {
   "cell_type": "code",
   "execution_count": 10,
   "metadata": {},
   "outputs": [],
   "source": [
    "public class Text:Shape{\n",
    "    public string FontName {get;set;}\n",
    "    public int FontSize {get;set;}\n",
    "    \n",
    "    \n",
    "}"
   ]
  },
  {
   "cell_type": "code",
   "execution_count": 11,
   "metadata": {},
   "outputs": [
    {
     "name": "stdout",
     "output_type": "stream",
     "text": [
      "Text Width (100)\n"
     ]
    }
   ],
   "source": [
    "//Upcasting --No conversion required\n",
    "var textObj = new Text();\n",
    "textObj.FontName=\"Monootippe Corsica\";\n",
    "textObj.FontSize=18;\n",
    "Shape shapeObj = textObj;\n",
    "\n",
    "\n",
    "textObj.Width=200;\n",
    "shapeObj.Width=100;\n",
    "\n",
    "Console.WriteLine(\"Text Width ({0})\", textObj.Width);\n",
    "\n",
    "\n",
    "\n",
    "//Console.WriteLine(\"Font name({0}) and Font size({1})\", shapeObj.FontName, shapeObj.FontSize);"
   ]
  },
  {
   "cell_type": "markdown",
   "metadata": {},
   "source": [
    "We get the value 100, since textObj and shapeObj, references the same object. So changing one, will change the other. They just have different views.\n",
    "\n",
    "Bur what is the point converting a derived class to base class??? This is what polymorphism is based on...see in next section..\n",
    "\n",
    "In .NET we have class stream reader, where we can read any stream of any kind. Lets create object of type Stream reader\n",
    "\n",
    "We have\n",
    "1. File Stream\n",
    "2. Memory Stream \n",
    "\n",
    "All derived from Stream Class\n",
    "\n",
    "So we pass \n",
    "\n",
    "```\n",
    "StreamReader reader = new StreamReader(new FileStream())\n",
    "StreamReader reader = new StreamReader(new MemoryStream())\n",
    "\n",
    "```\n",
    "\n",
    "Back to Upcasting....so the object we passing to the constructor, will automatically be upcasted to its parent class, i.e the Stream Class\n",
    "\n",
    "Still dont have clear understanding whats the point..let me google it\n",
    "\n",
    "So you making a specific object (derived class), a more general object(parent class), so object will now become like parent object...polymorpishm."
   ]
  },
  {
   "cell_type": "markdown",
   "metadata": {},
   "source": [
    "Lets downcast the object\n",
    "\n",
    "but what is the purpose of it?\n",
    "\n",
    "Demonstrated how he placed a button on form, and then input parameter on Button_Click function, as sender. But sender was down casted so you do not have all the members. To get it, we need to down cast the object to get all these members, that is hidden from us.\n",
    "\n",
    "\n",
    "\n",
    "```\n",
    "private void ButtonClick(object sender, RoutedEventsArg e){\n",
    "\n",
    "var button = (Button) sender;\n",
    "button.\n",
    " Now we have access to all the members\n",
    "\n",
    "}\n",
    "\n",
    "\n",
    "\n",
    "```\n"
   ]
  },
  {
   "cell_type": "code",
   "execution_count": 12,
   "metadata": {},
   "outputs": [],
   "source": [
    "public class Shape{\n",
    "    public int Width {get;set;}\n",
    "    public int Height {get;set;}\n",
    "    public int X {get;set;}\n",
    "    public int Y {get;set;}\n",
    "    \n",
    "    public void Draw(){\n",
    "        Console.WriteLine (\"Busy drawing a Shape\");\n",
    "    \n",
    "    }\n",
    "    \n",
    "}"
   ]
  },
  {
   "cell_type": "code",
   "execution_count": 13,
   "metadata": {},
   "outputs": [],
   "source": [
    "public class Text:Shape{\n",
    "    public string FontName {get;set;}\n",
    "    public int FontSize {get;set;}\n",
    "    \n",
    "    \n",
    "}"
   ]
  },
  {
   "cell_type": "code",
   "execution_count": 14,
   "metadata": {},
   "outputs": [
    {
     "name": "stdout",
     "output_type": "stream",
     "text": [
      "Text Width (100)\n",
      "Font name(Monootippe Corsica) and Font size(18)\n"
     ]
    }
   ],
   "source": [
    "\n",
    "var textObj = new Text();\n",
    "textObj.FontName=\"Monootippe Corsica\";\n",
    "textObj.FontSize=18;\n",
    "Shape shapeObj = textObj; //upcasting\n",
    "\n",
    "\n",
    "textObj.Width=200;\n",
    "shapeObj.Width=100;\n",
    "\n",
    "Console.WriteLine(\"Text Width ({0})\", textObj.Width);\n",
    "\n",
    "Text textObj2 = (Text)shapeObj;   //must do to explicitly\n",
    "\n",
    "Console.WriteLine(\"Font name({0}) and Font size({1})\", textObj2.FontName, textObj2.FontSize);"
   ]
  },
  {
   "cell_type": "markdown",
   "metadata": {},
   "source": [
    "## Boxing and Unboxing\n",
    "____\n",
    "\n",
    "\n",
    "1. Value Types and Reference Types\n",
    "2. Boxing and Unboxing\n",
    "\n",
    "\n",
    "We have value types that is stored on Stack all primitive types, with short lifespan\n",
    "\n",
    "Reference types is stored on Heap, non primitive types, such as classes, array, etc\n",
    "\n",
    "Bur why is this important? We know now with upcasting a derived reference can be converted to base CLASS reference, implicitly.\n",
    "\n",
    "```\n",
    "Circle circle= new Cicle();\n",
    "Shape shape = circle\n",
    "```\n",
    "\n",
    "We also learned that the Object Class is the base class for all classes in .NET framework.\n",
    "\n",
    "We this could have converted the above to\n",
    "\n",
    "```\n",
    "object shape = circle\n",
    "```\n",
    "\n",
    "Since object is the base class, that is we moving from specific to more general or highest ranking or top pareant class\n",
    "\n",
    "\n",
    "This is an interesting scenario: where we put a value type on the RHS of assignment, this is waht we call boxing.\n",
    "\n",
    "Boxing is the process of converting a value type instance to an object reference. Remember this is done implicitly\n",
    "\n",
    "```\n",
    "int number =10;\n",
    "object obj = number\n",
    "```\n",
    "\n",
    "or\n",
    "\n",
    "```\n",
    "object obj = 10;\n",
    "\n",
    "```\n",
    "\n",
    "So an object reference can be assigned a value type instance.\n",
    "\n",
    "Now this value is stored on the Heap, with object reference in Stack.\n",
    "\n",
    "Unboxing is the opposite, so from object reference to valyetype reference. Here we need to explicitky cast the object.\n",
    "\n",
    "```\n",
    "object obj = 10;\n",
    "int num = (int) obj\n",
    "\n",
    "```\n",
    "\n",
    "Remember with boxing and unboxing, thet both have a performance penalty, because of the object creation.\n",
    "\n",
    "Lets codee...we will be using the ArrayList class\n",
    "\n",
    "If we have a look at the Add method, its takes an argument of type object, and since object is the base/parent of all classes, we can pass ANY objects here.\n",
    "\n",
    "But there are two problems with the array list\n",
    "\n",
    "1. Type safety - each element can have a different type\n",
    "2. The add method takes object, so if we pass a value type, then boxing will happen\n",
    "\n",
    "So best is to create a generic list\n",
    "\n",
    "Here the Add method reveals the following: It takes an argument of type int\n",
    "\n",
    "1. We get type safety\n",
    "2. No boxing will happen with Add method\n"
   ]
  },
  {
   "cell_type": "code",
   "execution_count": 15,
   "metadata": {
    "scrolled": true
   },
   "outputs": [
    {
     "name": "stdout",
     "output_type": "stream",
     "text": [
      "1\n",
      "CJ\n",
      "2020/05/24 00:00:00\n"
     ]
    }
   ],
   "source": [
    "var list = new ArrayList();\n",
    "list.Add(1);    //primitive type, Boxing will happen\n",
    "list.Add(\"CJ\");  //\n",
    "list.Add(DateTime.Today); //struct, which is value type, so boxing will happen\n",
    "\n",
    "foreach (object num in list){\n",
    "\n",
    "    Console.WriteLine(num);\n",
    "    \n",
    "}\n",
    "\n"
   ]
  },
  {
   "cell_type": "code",
   "execution_count": 16,
   "metadata": {},
   "outputs": [
    {
     "name": "stdout",
     "output_type": "stream",
     "text": [
      "34\n",
      "354\n",
      "364\n"
     ]
    }
   ],
   "source": [
    "var anotherList = new List<int>();\n",
    "anotherList.Add(34);\n",
    "anotherList.Add(354);\n",
    "anotherList.Add(364);\n",
    "foreach (int num in anotherList){\n",
    "\n",
    "    Console.WriteLine(num);\n",
    "    \n",
    "}\n"
   ]
  },
  {
   "cell_type": "code",
   "execution_count": null,
   "metadata": {},
   "outputs": [],
   "source": []
  },
  {
   "cell_type": "code",
   "execution_count": null,
   "metadata": {},
   "outputs": [],
   "source": []
  }
 ],
 "metadata": {
  "kernelspec": {
   "display_name": ".NET (C#)",
   "language": "C#",
   "name": ".net-csharp"
  },
  "language_info": {
   "file_extension": ".cs",
   "mimetype": "text/x-csharp",
   "name": "C#",
   "pygments_lexer": "csharp",
   "version": "8.0"
  }
 },
 "nbformat": 4,
 "nbformat_minor": 4
}
