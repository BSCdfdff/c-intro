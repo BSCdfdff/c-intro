{
 "cells": [
  {
   "cell_type": "markdown",
   "metadata": {},
   "source": [
    "# Advanced Topics : Generics\n",
    "\n",
    "____\n",
    "\n",
    "1. Generics\n",
    "2. Delegates\n",
    "3. Lamda Expressions\n",
    "4. Events\n",
    "5. Extension Methods\n",
    "6. LINQ\n",
    "7. Nulllable Types\n",
    "8. Dynamic\n",
    "9. Exception Handling\n",
    "10. Asynchronous Programming\n",
    "\n"
   ]
  },
  {
   "cell_type": "code",
   "execution_count": 52,
   "metadata": {},
   "outputs": [],
   "source": [
    "using System;\n",
    "// using System.Collections.Generic;\n",
    "// using System.Linq; \n",
    "// using System.Text;\n",
    "// using System.Threading.Tasks;\n"
   ]
  },
  {
   "cell_type": "markdown",
   "metadata": {},
   "source": [
    "## Generics\n",
    "\n",
    "____\n",
    "\n",
    "\n",
    "Let first see what problems generics try to solve....\n",
    "\n",
    "Lest explore..int Net v1 there was no generics...so we had the following problem:\n",
    "\n",
    "We want to create a list to store a list of numbers.\n",
    "\n",
    "So we can create a simple basic list...\n",
    "\n",
    "So have the the followinf method in our class \n",
    "\n",
    "1. Add method to add a number to list\n",
    "2. \"indexer\" give the number at a given index\n",
    "\n",
    "We cn also have other methods like remove and find...but we leaving that out to concentrate on the main issue at hand.\n",
    "\n",
    "So lets say we want to store or add strings in this list..this class will not work. It can only accept integers. We will need to create another class for this. (Create StringList)\n",
    "\n",
    "So as we can see for every data type you need to create  new class with that data type...and we are duplicating code.\n",
    "\n",
    "How can we solvee this..\n",
    "\n",
    "1. We can create a list of objects\n",
    "\n",
    "(Since object is the parent class of any class)\n",
    "\n",
    "Adn when it is declard as a object we can pass many type to it, but there is performance hit problem. So when we store a value type (as mentioned in the earlier lessons) it has to boxed, to be stored as an object. And when we need to access that value it needs to be unboxed. And this has a performance penalty"
   ]
  },
  {
   "cell_type": "code",
   "execution_count": 53,
   "metadata": {},
   "outputs": [],
   "source": [
    "public class IntList{\n",
    "    public void Add(int number){\n",
    "        //throw new NotImplementedException();\n",
    "        Console.WriteLine(\"The following value is added: {0}\", number);\n",
    "    }\n",
    "    \n",
    "    public int this[int index]{\n",
    "        get{throw new NotImplementedException();}\n",
    "    }\n",
    "}"
   ]
  },
  {
   "cell_type": "code",
   "execution_count": 54,
   "metadata": {},
   "outputs": [],
   "source": [
    "public class StringList{\n",
    "    public void Add(string str){\n",
    "        //throw new NotImplementedException();\n",
    "        Console.WriteLine(\"The following value is added: {0}\", str);\n",
    "    }\n",
    "    \n",
    "    public string this[int index]{\n",
    "        get{throw new NotImplementedException();}\n",
    "    }\n",
    "}\n"
   ]
  },
  {
   "cell_type": "code",
   "execution_count": 55,
   "metadata": {},
   "outputs": [],
   "source": [
    "public class ObjectList{\n",
    "    public void Add(object value){\n",
    "        //throw new NotImplementedException();\n",
    "        Console.WriteLine(\"The following value is added: {0}\", value);\n",
    "    }\n",
    "    \n",
    "    public object this[int index]{\n",
    "        get{throw new NotImplementedException();}\n",
    "    }\n",
    "}"
   ]
  },
  {
   "cell_type": "code",
   "execution_count": 56,
   "metadata": {},
   "outputs": [
    {
     "name": "stdout",
     "output_type": "stream",
     "text": [
      "The following value is added: 1\n"
     ]
    }
   ],
   "source": [
    "var intList = new IntList();\n",
    "intList.Add(1);"
   ]
  },
  {
   "cell_type": "code",
   "execution_count": 57,
   "metadata": {},
   "outputs": [
    {
     "name": "stdout",
     "output_type": "stream",
     "text": [
      "The following value is added: Chez\n"
     ]
    }
   ],
   "source": [
    "var stringList = new StringList();\n",
    "stringList.Add(\"Chez\");"
   ]
  },
  {
   "cell_type": "code",
   "execution_count": 58,
   "metadata": {},
   "outputs": [
    {
     "name": "stdout",
     "output_type": "stream",
     "text": [
      "The following value is added: 1\n",
      "The following value is added: Chez\n"
     ]
    }
   ],
   "source": [
    "var objectList = new ObjectList();\n",
    "objectList.Add(1);\n",
    "objectList.Add(\"Chez\");"
   ]
  },
  {
   "cell_type": "markdown",
   "metadata": {},
   "source": [
    "## Genenrics was implemented...\n",
    "\n",
    "To solve this problem,\n",
    "\n",
    "With generics we can use any data type and it does not have a performance penalty.\n",
    "\n",
    "Lets create a generic list.\n",
    "\n",
    "It has the following syntax\n",
    "\n",
    "1. Name of class or variable\n",
    "2. Followed by parameter inside \"<>\" brackets (less than or greater than brackets)\n",
    "3. We call it T (convention), for type or template\n",
    "\n",
    "And we can create the followong methods\n",
    "\n",
    "1. Add\n",
    "\n",
    "But instead of defining, e.g. and int or string or object, we put ```T``` there  as a parameter to ```Add```. But the consumer od the class will specify it. We dont know at this stage what it should be.\n",
    "\n",
    "2. Index\n",
    "\n",
    "And to get the object at a given index we return ```T```\n",
    "\n",
    "\n",
    "And when we need to use it, then we specify the concrete data type we want to use.\n",
    "\n",
    "So at runtime, our generic type will then be int or string, so there are not any casting. And thus no performance hit \n",
    "\n",
    "\n",
    "But in practical terms we will almost never create generic terms, such as generic classes or methods, we will be USING it. (the way we wrote it in the main method)\n",
    "\n",
    "Since a generic list is already part of .NET so we will never be creating one, and its all part of System.Collection.Generic\n"
   ]
  },
  {
   "cell_type": "code",
   "execution_count": 59,
   "metadata": {},
   "outputs": [],
   "source": [
    "public class GenericList<T>{\n",
    "\n",
    "    public void Add(T value){\n",
    "        Console.WriteLine(\"The following value is added: {0}\", value);\n",
    "    }\n",
    "\n",
    "\n",
    "    public T this[int index]{\n",
    "        get{throw new NotImplementedException();}\n",
    "    }\n",
    "}"
   ]
  },
  {
   "cell_type": "code",
   "execution_count": 60,
   "metadata": {},
   "outputs": [
    {
     "name": "stdout",
     "output_type": "stream",
     "text": [
      "The following value is added: 1\n",
      "The following value is added: Chez\n",
      "The following value is added: 2020/05/26 00:00:00\n"
     ]
    }
   ],
   "source": [
    "var gnList = new GenericList<object>();\n",
    "gnList.Add(1);\n",
    "gnList.Add(\"Chez\");\n",
    "gnList.Add(DateTime.Today);"
   ]
  },
  {
   "cell_type": "code",
   "execution_count": 61,
   "metadata": {},
   "outputs": [
    {
     "name": "stdout",
     "output_type": "stream",
     "text": [
      "The following value is added: 1\n",
      "The following value is added: Chez\n",
      "The following value is added: Today is a fine day!\n"
     ]
    }
   ],
   "source": [
    "var gnList = new GenericList<string>();\n",
    "gnList.Add(\"1\");\n",
    "gnList.Add(\"Chez\");\n",
    "gnList.Add(\"Today is a fine day!\");"
   ]
  },
  {
   "cell_type": "code",
   "execution_count": 62,
   "metadata": {},
   "outputs": [
    {
     "name": "stdout",
     "output_type": "stream",
     "text": [
      "The following value is added: 123\n",
      "The following value is added: 8374\n",
      "The following value is added: 87\n"
     ]
    }
   ],
   "source": [
    "var gnList = new GenericList<int>();\n",
    "gnList.Add(123);\n",
    "gnList.Add(8374);\n",
    "gnList.Add(87);\n"
   ]
  },
  {
   "cell_type": "markdown",
   "metadata": {},
   "source": [
    "## Butr lets say...\n",
    "\n",
    "We need to create a generic list...lets continue on this trend.\n",
    "\n",
    "From the Generic List we created ```T``` is a parameter, but we can have multiple parameters.\n",
    "\n",
    "A use case would be for dicionaries. A dictionary is a datastructure that uses a hash table to store and retrieve objects, which is a very fast a efficient way to access objects.\n",
    "\n",
    "But with a dictionary we need to specify a key and value, and they can be of any type\n",
    "\n",
    "Lest create a generic dictonary class (athough .NET already has one)\n",
    "\n",
    "\n",
    "TKey - Template parameter for Key, that is the datatype of the key\n",
    "TValue - Template parameter for Value, that is the datatype of the value\n",
    "\n",
    "And when we cann it, we make the key of type int, and values of type string.\n",
    "\n",
    "When dealing with generics, we also need to take constraints into account. Sometimes you want to limit to what is been send in ```T``` type parameter. How can we do so?\n",
    "\n",
    "Which syntax do we use\n",
    "\n"
   ]
  },
  {
   "cell_type": "code",
   "execution_count": 63,
   "metadata": {},
   "outputs": [],
   "source": [
    "public class DictonaryList<TKey, TValue>{\n",
    "\n",
    "    public void Add(TKey key, TValue value){\n",
    "        Console.WriteLine(\"The following value is added: {0} {1}\", key, value);\n",
    "    }\n",
    "\n",
    "\n",
    "}"
   ]
  },
  {
   "cell_type": "code",
   "execution_count": 64,
   "metadata": {},
   "outputs": [
    {
     "name": "stdout",
     "output_type": "stream",
     "text": [
      "The following value is added: 1 Chez\n",
      "The following value is added: 2 Nutz\n"
     ]
    }
   ],
   "source": [
    "var dicList = new DictonaryList<int, string>();\n",
    "dicList.Add(1, \"Chez\");\n",
    "dicList.Add(2, \"Nutz\");\n"
   ]
  },
  {
   "cell_type": "markdown",
   "metadata": {},
   "source": [
    "## Implementing constaints....\n",
    "\n",
    "Lets say we want a method to which we can pass two number, and it should then pass the biggest one...\n",
    "\n",
    "Lets see the old way...How do we create a generic version of it?\n",
    "\n",
    "And then we write a generic version of it.\n",
    "\n",
    "```\n",
    "public T GMax<T>(T a, T b){\n",
    "     return a>b?a:b;\n",
    "}\n",
    "\n",
    "```\n",
    "\n",
    "But the above will not work, as at this time, the compiler, does not know the type of ```T```, so it cannot do the comparison: ```a>b```. At this point it thinks a and b are both objects...\n",
    "\n",
    "(Seem to work for Me)"
   ]
  },
  {
   "cell_type": "code",
   "execution_count": 65,
   "metadata": {},
   "outputs": [
    {
     "ename": "Unhandled exception",
     "evalue": "(9,16): error CS0019: Operator '>' cannot be applied to operands of type 'T' and 'T'",
     "output_type": "error",
     "traceback": [
      "(9,16): error CS0019: Operator '>' cannot be applied to operands of type 'T' and 'T'"
     ]
    }
   ],
   "source": [
    "public class Utilities{\n",
    "\n",
    "    public int Max(int a, int b){\n",
    "        return a>b?a:b;\n",
    "    }\n",
    "\n",
    "\n",
    "    public T GMax<T>(T a, T b){\n",
    "        return a>b?a:b;\n",
    "    }\n",
    "}"
   ]
  },
  {
   "cell_type": "code",
   "execution_count": 66,
   "metadata": {},
   "outputs": [
    {
     "name": "stdout",
     "output_type": "stream",
     "text": [
      "The maximim value is 20\n"
     ]
    }
   ],
   "source": [
    "var util = new Utilities();\n",
    "\n",
    "var maxVal = util.GMax<int>(12,20);\n",
    "\n",
    "Console.WriteLine(\"The maximim value is {0}\",maxVal);\n"
   ]
  },
  {
   "cell_type": "markdown",
   "metadata": {},
   "source": [
    "## How to solve...\n",
    "\n",
    "We need to make sure that both ```a``` and ```b``` implement the IComparable interface, which provides a method called ```compare to```\n",
    "\n",
    "And with that construct we can do the comparison between ```a``` and ```b```\n",
    "\n",
    "And that is a usecase for us to provide a constraint\n",
    "\n",
    "Syntax\n",
    "\n",
    "1. Go to the end of method, after the brackets, and add ```where T:IComparable```\n",
    "2. This reads: where T is IComparable\n",
    "3. And we get new method\n",
    "\n",
    "```\n",
    "a.CompareTo\n",
    "```\n",
    "And we change the syntax below...\n",
    "\n"
   ]
  },
  {
   "cell_type": "code",
   "execution_count": 67,
   "metadata": {},
   "outputs": [],
   "source": [
    "public class Utilities{\n",
    "\n",
    "    public int Max(int a, int b){\n",
    "        return a>b?a:b;\n",
    "    }\n",
    "\n",
    "\n",
    "    public T GMax<T>(T a, T b) where T: IComparable{\n",
    "        return a.CompareTo(b) > 0? a : b;\n",
    "    }\n",
    "}"
   ]
  },
  {
   "cell_type": "code",
   "execution_count": 68,
   "metadata": {},
   "outputs": [
    {
     "name": "stdout",
     "output_type": "stream",
     "text": [
      "The maximim value is 20\n"
     ]
    }
   ],
   "source": [
    "var util = new Utilities();\n",
    "\n",
    "var maxVal = util.GMax<int>(12,20);\n",
    "\n",
    "Console.WriteLine(\"The maximim value is {0}\",maxVal);"
   ]
  },
  {
   "cell_type": "markdown",
   "metadata": {},
   "source": [
    "## Inside a non generic class...\n",
    "\n",
    "But we created a generic method inside a non-generic class, so this is fine. The class dont have to be generic\n",
    "\n",
    "But we can make the class generic and move the type and IComparable to class level.\n"
   ]
  },
  {
   "cell_type": "code",
   "execution_count": 69,
   "metadata": {},
   "outputs": [],
   "source": [
    "public class Utilities<T>where T: IComparable{\n",
    "\n",
    "    public int Max(int a, int b){\n",
    "        return a>b?a:b;\n",
    "    }\n",
    "\n",
    "\n",
    "    public T GMax(T a, T b){\n",
    "        return a.CompareTo(b) > 0? a : b;\n",
    "    }\n",
    "}"
   ]
  },
  {
   "cell_type": "code",
   "execution_count": 70,
   "metadata": {},
   "outputs": [
    {
     "name": "stdout",
     "output_type": "stream",
     "text": [
      "The maximim value is 20\n"
     ]
    }
   ],
   "source": [
    "var util = new Utilities();\n",
    "\n",
    "var maxVal = util.GMax<int>(12,20);\n",
    "\n",
    "Console.WriteLine(\"The maximim value is {0}\",maxVal);"
   ]
  },
  {
   "cell_type": "markdown",
   "metadata": {},
   "source": [
    "## Now we have good understanding of constraints, let check out a few more\n",
    "\n",
    "```\n",
    "where T: IComparable \n",
    "where T: Product (if T is product or any of Products children)\n",
    "where T: struct (that is where T is value type, and we indicate this by using struct)\n",
    "where T: class (that is where T is reference type, and we indicate this by using a specific class)\n",
    "where T: new() (that is where T is object that has a default constructor)\n",
    "```\n",
    "\n",
    "\n",
    "So do examples of each\n",
    "\n",
    "Lets tacle in order, constraint to class\n",
    "\n",
    "1. DiscountCalculator class\n",
    "2. CalculateDiscount method\n",
    "\n",
    "\n",
    "So what does ```where TProduct:Product``` mean. This means that now ```TProduct product```, then product will have access to Product class members (properties and methods) like ```Title``` and ```Price```. that is we have (inside CalculateDidsocunt)\n",
    "\n",
    "```\n",
    "product.Price\n",
    "product.Title\n",
    "```\n",
    "\n",
    "And we dont care about the discount, so we just return the product price.\n",
    "\n"
   ]
  },
  {
   "cell_type": "code",
   "execution_count": 6,
   "metadata": {},
   "outputs": [],
   "source": [
    "public class Product{\n",
    "    public string Title{get;set;}\n",
    "    public float Price{get;set;}\n",
    "}"
   ]
  },
  {
   "cell_type": "code",
   "execution_count": 7,
   "metadata": {},
   "outputs": [],
   "source": [
    "public class Book:Product{\n",
    "    public string Isbn{get;set;}\n",
    "}"
   ]
  },
  {
   "cell_type": "code",
   "execution_count": 8,
   "metadata": {},
   "outputs": [
    {
     "ename": "Unhandled exception",
     "evalue": "(4,24): error CS1061: 'TProduct' does not contain a definition for 'Price' and no accessible extension method 'Price' accepting a first argument of type 'TProduct' could be found (are you missing a using directive or an assembly reference?)",
     "output_type": "error",
     "traceback": [
      "(4,24): error CS1061: 'TProduct' does not contain a definition for 'Price' and no accessible extension method 'Price' accepting a first argument of type 'TProduct' could be found (are you missing a using directive or an assembly reference?)"
     ]
    }
   ],
   "source": [
    "public class DiscountCalculator<TProduct>where TProduct: Product{\n",
    "    \n",
    "    public float CalculateDiscount<TProduct>(TProduct product){\n",
    "        return product.Price;\n",
    "        \n",
    "    }\n",
    "}"
   ]
  },
  {
   "cell_type": "markdown",
   "metadata": {},
   "source": [
    "## Contraint to a value type...\n",
    "\n",
    "```\n",
    "where T: struct (that is where T is value type, and we indicate this by using struct)\n",
    "```\n",
    "\n",
    "Lets see this one in acton\n",
    "\n",
    "What can we use this Nullable class for???\n",
    "\n",
    "We know that in c# value types CANNOT be null. An int must have value 1, 2, 3, and it cannot be null. so we can use this class (but not only for ints....) to allow ints to accept nulls\n",
    "\n",
    "So we create a Constructor, where we take a value, and we store the value as an object, since we want the value to be Nullable\n",
    "\n",
    "Must also have a property called ```HasValue```, that is if the object has a value, it returns true, otherwise if is null, it returns false.\n",
    "\n",
    "Then we have method that will return a value if it has one, and if its null its will return a default value (but remember this value is object, so we need to cast it back to our type) for that datatype, e.g for int defualt value will be ```0```\n",
    "\n",
    "But how do we find the default value for that (data) type. We use the default operator.\n",
    " \n",
    "(Also need to create an empty constructor if the value is not set)\n",
    "\n",
    "When we test in main, we can give it value or just pass nothing...works like bomb"
   ]
  },
  {
   "cell_type": "code",
   "execution_count": 74,
   "metadata": {},
   "outputs": [
    {
     "ename": "Unhandled exception",
     "evalue": "(14,32): error CS1002: ; expected",
     "output_type": "error",
     "traceback": [
      "(14,32): error CS1002: ; expected"
     ]
    }
   ],
   "source": [
    "public class Nullable<T> where T:struct{\n",
    "    private readonly object _value;\n",
    "    \n",
    "    public Nullable(){\n",
    "        \n",
    "    }\n",
    "    \n",
    "    public Nullable(T value){\n",
    "        _value = value;\n",
    "        \n",
    "    }\n",
    "    \n",
    "    public bool HasValue{\n",
    "        get{return _value!=null}\n",
    "    }\n",
    "    \n",
    "    public T GetValueOrDefault(){\n",
    "    \n",
    "        if (HasValue)\n",
    "            return (T)_value;\n",
    "        else\n",
    "            return default(T); \n",
    "    }\n",
    "    \n",
    "    \n",
    "\n",
    "}"
   ]
  },
  {
   "cell_type": "code",
   "execution_count": 75,
   "metadata": {},
   "outputs": [
    {
     "name": "stdout",
     "output_type": "stream",
     "text": [
      "Has value? False\n",
      "Value for int 0\n"
     ]
    }
   ],
   "source": [
    "var number = new Nullable<int>();\n",
    "Console.WriteLine(\"Has value? {0}\", number.HasValue);\n",
    "Console.WriteLine(\"Value for int {0}\", number.GetValueOrDefault());"
   ]
  },
  {
   "cell_type": "code",
   "execution_count": 76,
   "metadata": {},
   "outputs": [
    {
     "name": "stdout",
     "output_type": "stream",
     "text": [
      "Has value? True\n",
      "Value for int 45\n"
     ]
    }
   ],
   "source": [
    "var number = new Nullable<int>(45);\n",
    "Console.WriteLine(\"Has value? {0}\", number.HasValue);\n",
    "Console.WriteLine(\"Value for int {0}\", number.GetValueOrDefault());"
   ]
  },
  {
   "cell_type": "markdown",
   "metadata": {},
   "source": [
    "##  After all the hardwork...Nullable is struct in .Net\n",
    "\n",
    "So is already in .NET, but doing the code was nice\n",
    "\n",
    "Lets tackle another program...\n",
    "\n",
    "```\n",
    "where T: new() (that is where T is object that has a default constructor)\n",
    "```\n",
    "\n",
    "\n",
    "Lets say we want to instantiate an instance of T, and we want to do something like this\n",
    "\n",
    "```\n",
    "var obj = new T()\n",
    "```\n",
    "\n",
    "This will not work as the compiler does not know what type T is refering to. Only things it knows is that T should implement IComparable\n",
    "\n",
    "If we want to instantiate T, we need default constructor. How do we do this? We can apply a second constraint at class level (we can separate constraints with a comma), we add ```new()```. Now it will work below.\n",
    "\n",
    "\n",
    "\n",
    "\n",
    "\n",
    "\n"
   ]
  },
  {
   "cell_type": "code",
   "execution_count": null,
   "metadata": {},
   "outputs": [],
   "source": []
  },
  {
   "cell_type": "code",
   "execution_count": 9,
   "metadata": {},
   "outputs": [],
   "source": [
    "public class Utilities<T>where T: IComparable, new(){\n",
    "\n",
    "    public void DoSomething(T value){\n",
    "       var obj = new T();\n",
    "    }\n",
    "\n",
    "\n",
    "    public int Max(int a, int b){\n",
    "        return a>b?a:b;\n",
    "    }\n",
    "\n",
    "\n",
    "    public T GMax(T a, T b){\n",
    "        return a.CompareTo(b) > 0? a : b;\n",
    "    }\n",
    "}"
   ]
  },
  {
   "cell_type": "code",
   "execution_count": null,
   "metadata": {},
   "outputs": [],
   "source": []
  }
 ],
 "metadata": {
  "kernelspec": {
   "display_name": ".NET (C#)",
   "language": "C#",
   "name": ".net-csharp"
  },
  "language_info": {
   "file_extension": ".cs",
   "mimetype": "text/x-csharp",
   "name": "C#",
   "pygments_lexer": "csharp",
   "version": "8.0"
  }
 },
 "nbformat": 4,
 "nbformat_minor": 4
}
