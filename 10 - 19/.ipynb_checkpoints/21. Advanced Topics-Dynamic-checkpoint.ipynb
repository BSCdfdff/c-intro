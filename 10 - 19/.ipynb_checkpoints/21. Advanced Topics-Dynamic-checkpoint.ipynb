{
 "cells": [
  {
   "cell_type": "markdown",
   "metadata": {},
   "source": [
    "# Advanced Topics : Dynamics\n",
    "\n",
    "____\n",
    "\n",
    "1. Generics\n",
    "2. Delegates\n",
    "3. Lambda Expressions\n",
    "4. Events\n",
    "5. Extension Methods\n",
    "6. LINQ\n",
    "7. Nulllable Types\n",
    "8. Dynamic\n",
    "9. Exception Handling\n",
    "10. Asynchronous Programming\n",
    "\n"
   ]
  },
  {
   "cell_type": "code",
   "execution_count": 1,
   "metadata": {},
   "outputs": [
    {
     "data": {
      "text/html": [
       "\r\n",
       "<div>\r\n",
       "    <div id='dotnet-interactive-this-cell-6153a631c73b45e9ad32bba028a9319a' style='display: none'>\r\n",
       "        The below script needs to be able to find the current output cell; this is an easy method to get it.\r\n",
       "    </div>\r\n",
       "    <script type='text/javascript'>\r\n",
       "// ensure `requirejs` is available globally\r\n",
       "if (typeof requirejs !== typeof Function || typeof requirejs.config !== typeof Function) {\r\n",
       "    let requirejs_script = document.createElement('script');\r\n",
       "    requirejs_script.setAttribute('src', 'https://cdnjs.cloudflare.com/ajax/libs/require.js/2.3.6/require.min.js');\r\n",
       "    requirejs_script.setAttribute('type', 'text/javascript');\r\n",
       "    requirejs_script.onload = function () {\r\n",
       "        loadDotnetInteractiveApi();\r\n",
       "    };\r\n",
       "\r\n",
       "    document.getElementsByTagName('head')[0].appendChild(requirejs_script);\r\n",
       "}\r\n",
       "else {\r\n",
       "    loadDotnetInteractiveApi();\r\n",
       "}\r\n",
       "\r\n",
       "async function probeAddresses(probingAddresses) {\r\n",
       "    function timeout(ms, promise) {\r\n",
       "        return new Promise(function (resolve, reject) {\r\n",
       "            setTimeout(function () {\r\n",
       "                reject(new Error('timeout'))\r\n",
       "            }, ms)\r\n",
       "            promise.then(resolve, reject)\r\n",
       "        })\r\n",
       "    }\r\n",
       "\r\n",
       "    if (Array.isArray(probingAddresses)) {\r\n",
       "        for (let i = 0; i < probingAddresses.length; i++) {\r\n",
       "\r\n",
       "            let rootUrl = probingAddresses[i];\r\n",
       "\r\n",
       "            if (!rootUrl.endsWith('/')) {\r\n",
       "                rootUrl = `${rootUrl}/`;\r\n",
       "            }\r\n",
       "\r\n",
       "            try {\r\n",
       "                let response = await timeout(1000, fetch(`${rootUrl}discovery`, {\r\n",
       "                    method: 'POST',\r\n",
       "                    timeout: 1000,\r\n",
       "                    headers: {\r\n",
       "                        'Content-Type': 'text/plain'\r\n",
       "                    },\r\n",
       "                    body: probingAddresses[i]\r\n",
       "                }));\r\n",
       "\r\n",
       "                if (response.status == 200) {\r\n",
       "                    return rootUrl;\r\n",
       "                }\r\n",
       "            }\r\n",
       "            catch (e) { }\r\n",
       "        }\r\n",
       "    }\r\n",
       "}\r\n",
       "\r\n",
       "function loadDotnetInteractiveApi() {\r\n",
       "    probeAddresses([\"http://192.168.0.107:1024/\", \"http://127.0.0.1:1024/\"])\r\n",
       "        .then((root) => {\r\n",
       "            // use probing to find host url and api resources\r\n",
       "            // load interactive helpers and language services\r\n",
       "            let dotnet_require = requirejs.config({\r\n",
       "                context: '9836.6153a631c73b45e9ad32bba028a9319a',\r\n",
       "                paths: {\r\n",
       "                    'dotnet-interactive': `${root}resources`\r\n",
       "                }\r\n",
       "            });\r\n",
       "            if (!window.dotnet_require) {\r\n",
       "                window.dotnet_require = dotnet_require;\r\n",
       "            }\r\n",
       "        \r\n",
       "            dotnet_require([\r\n",
       "                    'dotnet-interactive/dotnet-interactive'\r\n",
       "                ],\r\n",
       "                function (dotnet) {\r\n",
       "                    dotnet.init(window);\r\n",
       "                },\r\n",
       "                function (error) {\r\n",
       "                    console.log(error);\r\n",
       "                }\r\n",
       "            );\r\n",
       "        })\r\n",
       "        .catch(error => {console.log(error);});\r\n",
       "    }\r\n",
       "    </script>\r\n",
       "</div>"
      ]
     },
     "metadata": {},
     "output_type": "display_data"
    }
   ],
   "source": [
    "using System;\n",
    "// using System.Collections.Generic;\n",
    "// using System.Linq; \n",
    "// using System.Text;\n",
    "// using System.Threading.Tasks;\n"
   ]
  },
  {
   "cell_type": "markdown",
   "metadata": {},
   "source": [
    "## Dynamics\n",
    "\n",
    "____\n",
    "\n",
    "We have the following programming Languages:\n",
    "\n",
    "1. Statically typed(C#, Java)\n",
    "\n",
    "What does it mean? Resolution of types, members, properties, methods, ect happens during compile time. So it you try to access a method, that is not defined in class, then at compile time, you will be prevented from proceeding any further,and get immediate feedback.\n",
    "\n",
    "\n",
    "2. Dynnamically typed (Python, Javascript)\n",
    "\n",
    "Resolution of types, members, properties, methods, ect happens during run-time. Faster to code, and easier, and have program running faster. Or it seems more easier...Only problem here we will need to write more unit tests to make sure the app run properly at run time.\n",
    "\n",
    "C# is statically typed, but since .NET v4, it has dynamic capability to improve interoerability with COM (office apps) and dynamic langiages(IronPython).\n",
    "\n",
    "\n",
    "Wuthout Dynamics, you have to resort to Reflection. What is Reflection? Is a way to inspect the metadata about a type (data), and to access properties and methods.\n",
    "\n",
    "Lets see how to do reflection. You have an object, and we can call GetHashCode() method. Clean\n",
    "\n",
    "\n",
    "```\n",
    "object obj = \"Nutty\";\n",
    "obj.GetHashCode();\n",
    "```\n",
    "In order to implement using reflection, which returns a methodInfo Object. Then invoke methodInfo, and pass some weird arguments\n",
    "\n",
    "```\n",
    "object obj = \"Nutty\";\n",
    "var methodInfo = obj.GetType().GetMethod(\"GetHashCode\");\n",
    "methodInfo.Invoke(null,null);\n",
    "```\n",
    "\n",
    "\n",
    "The above code is not very beautiful.This is messy\n",
    "\n",
    "The benefit of dymanic is that  e.g. you have some excel objectm and you know that object has method called optimize (its not there during compile time0), but you know its there.\n",
    "\n",
    "\n",
    "```\n",
    "object excelobj = \"optix\"\n",
    "excelobj.Optimize();\n",
    "\n",
    "(2,10): error CS1061: 'object' does not contain a definition for 'Optimize' and no accessible extension method 'Optimize' accepting a first argument of type 'object' could be foun d (are you missing a using directive or an assembly reference?)\n",
    "\n",
    "```\n",
    "\n",
    "We will get an error for the above code, but with dynamic, we add the dynamic type, and it goes away...magic\n",
    "\n",
    "```\n",
    "dynamic excelobj = \"optix\";\n",
    "excelobj.Optimize();\n",
    "```\n",
    "\n",
    "This is how we use dynamic types. How is it happening under the hood? There is a new runtime component, called DLR (Dynamic Language Runtime), that sits on top of the CLR, gives dynamic language capabilities to C#.\n",
    "\n",
    " \n",
    "\n",
    "\n"
   ]
  },
  {
   "cell_type": "code",
   "execution_count": 2,
   "metadata": {},
   "outputs": [
    {
     "name": "stdout",
     "output_type": "stream",
     "text": [
      "HashCode 1934792555\n"
     ]
    }
   ],
   "source": [
    "object obj = \"Nutty\";\n",
    "var code = obj.GetHashCode();\n",
    "Console.WriteLine(\"HashCode {0}\",code );"
   ]
  },
  {
   "cell_type": "markdown",
   "metadata": {},
   "source": [
    "### Lets Continue\n",
    "\n",
    "_____\n",
    "\n",
    "Lets mess with it....We can do the following: Here the runtime type \n",
    "\n",
    "```\n",
    "dynamic name =\"Professor\" //type is dynamic(string)\n",
    "name = 109; //type changes to dynamic(int)\n",
    "\n",
    "```\n",
    "That is possible with dynamic, but not if you have defined it as string, int...i.e value types.\n",
    "\n",
    "So we can write the code faster and easier.\n",
    "\n",
    "But if we do this: It will error (as the type at runtime is string, so we cannot do this. Meaing we will need to write more unit tests\n",
    "\n",
    "```\n",
    "name++\n",
    "```\n",
    "What if we have the following, at runtime, the types will be as follows:\n",
    "\n",
    "```\n",
    "dynamic a = 10;  //dynamic(int)\n",
    "dynamic b = 5;   //dynamic(int)\n",
    "var c = a + b;   //dynamic(int)\n",
    "```\n",
    "\n",
    "When dealng with dynamics, you get implicit (casting) conversions from and to target type.\n",
    "\n"
   ]
  },
  {
   "cell_type": "code",
   "execution_count": 3,
   "metadata": {},
   "outputs": [
    {
     "name": "stdout",
     "output_type": "stream",
     "text": [
      "109\n"
     ]
    }
   ],
   "source": [
    "dynamic name =\"Professor\";\n",
    "name = 109;\n",
    "Console.WriteLine(name);"
   ]
  },
  {
   "cell_type": "code",
   "execution_count": 4,
   "metadata": {},
   "outputs": [
    {
     "ename": "Unhandled exception",
     "evalue": "(2,8): error CS0029: Cannot implicitly convert type 'int' to 'string'",
     "output_type": "error",
     "traceback": [
      "(2,8): error CS0029: Cannot implicitly convert type 'int' to 'string'"
     ]
    }
   ],
   "source": [
    "string name =\"Professor\";\n",
    "name = 109;"
   ]
  },
  {
   "cell_type": "code",
   "execution_count": null,
   "metadata": {},
   "outputs": [],
   "source": []
  },
  {
   "cell_type": "code",
   "execution_count": null,
   "metadata": {},
   "outputs": [],
   "source": []
  }
 ],
 "metadata": {
  "kernelspec": {
   "display_name": ".NET (C#)",
   "language": "C#",
   "name": ".net-csharp"
  },
  "language_info": {
   "file_extension": ".cs",
   "mimetype": "text/x-csharp",
   "name": "C#",
   "pygments_lexer": "csharp",
   "version": "8.0"
  }
 },
 "nbformat": 4,
 "nbformat_minor": 4
}
