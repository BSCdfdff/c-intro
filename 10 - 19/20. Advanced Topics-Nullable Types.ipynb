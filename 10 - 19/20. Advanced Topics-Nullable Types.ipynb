{
 "cells": [
  {
   "cell_type": "markdown",
   "metadata": {},
   "source": [
    "# Advanced Topics : Nulllable Types\n",
    "\n",
    "____\n",
    "\n",
    "1. Generics\n",
    "2. Delegates\n",
    "3. Lambda Expressions\n",
    "4. Events\n",
    "5. Extension Methods\n",
    "6. LINQ\n",
    "7. Nulllable Types\n",
    "8. Dynamic\n",
    "9. Exception Handling\n",
    "10. Asynchronous Programming\n",
    "\n"
   ]
  },
  {
   "cell_type": "code",
   "execution_count": 1,
   "metadata": {},
   "outputs": [
    {
     "data": {
      "text/html": [
       "\r\n",
       "<div>\r\n",
       "    <div id='dotnet-interactive-this-cell-a385f4245a69407a81457e033bc244f5' style='display: none'>\r\n",
       "        The below script needs to be able to find the current output cell; this is an easy method to get it.\r\n",
       "    </div>\r\n",
       "    <script type='text/javascript'>\r\n",
       "// ensure `requirejs` is available globally\r\n",
       "if (typeof requirejs !== typeof Function || typeof requirejs.config !== typeof Function) {\r\n",
       "    let requirejs_script = document.createElement('script');\r\n",
       "    requirejs_script.setAttribute('src', 'https://cdnjs.cloudflare.com/ajax/libs/require.js/2.3.6/require.min.js');\r\n",
       "    requirejs_script.setAttribute('type', 'text/javascript');\r\n",
       "    requirejs_script.onload = function () {\r\n",
       "        loadDotnetInteractiveApi();\r\n",
       "    };\r\n",
       "\r\n",
       "    document.getElementsByTagName('head')[0].appendChild(requirejs_script);\r\n",
       "}\r\n",
       "else {\r\n",
       "    loadDotnetInteractiveApi();\r\n",
       "}\r\n",
       "\r\n",
       "async function probeAddresses(probingAddresses) {\r\n",
       "    function timeout(ms, promise) {\r\n",
       "        return new Promise(function (resolve, reject) {\r\n",
       "            setTimeout(function () {\r\n",
       "                reject(new Error('timeout'))\r\n",
       "            }, ms)\r\n",
       "            promise.then(resolve, reject)\r\n",
       "        })\r\n",
       "    }\r\n",
       "\r\n",
       "    if (Array.isArray(probingAddresses)) {\r\n",
       "        for (let i = 0; i < probingAddresses.length; i++) {\r\n",
       "\r\n",
       "            let rootUrl = probingAddresses[i];\r\n",
       "\r\n",
       "            if (!rootUrl.endsWith('/')) {\r\n",
       "                rootUrl = `${rootUrl}/`;\r\n",
       "            }\r\n",
       "\r\n",
       "            try {\r\n",
       "                let response = await timeout(1000, fetch(`${rootUrl}discovery`, {\r\n",
       "                    method: 'POST',\r\n",
       "                    timeout: 1000,\r\n",
       "                    headers: {\r\n",
       "                        'Content-Type': 'text/plain'\r\n",
       "                    },\r\n",
       "                    body: probingAddresses[i]\r\n",
       "                }));\r\n",
       "\r\n",
       "                if (response.status == 200) {\r\n",
       "                    return rootUrl;\r\n",
       "                }\r\n",
       "            }\r\n",
       "            catch (e) { }\r\n",
       "        }\r\n",
       "    }\r\n",
       "}\r\n",
       "\r\n",
       "function loadDotnetInteractiveApi() {\r\n",
       "    probeAddresses([\"http://192.168.0.107:1029/\", \"http://127.0.0.1:1029/\"])\r\n",
       "        .then((root) => {\r\n",
       "            // use probing to find host url and api resources\r\n",
       "            // load interactive helpers and language services\r\n",
       "            let dotnet_require = requirejs.config({\r\n",
       "                context: '19185.a385f4245a69407a81457e033bc244f5',\r\n",
       "                paths: {\r\n",
       "                    'dotnet-interactive': `${root}resources`\r\n",
       "                }\r\n",
       "            });\r\n",
       "            if (!window.dotnet_require) {\r\n",
       "                window.dotnet_require = dotnet_require;\r\n",
       "            }\r\n",
       "        \r\n",
       "            dotnet_require([\r\n",
       "                    'dotnet-interactive/dotnet-interactive'\r\n",
       "                ],\r\n",
       "                function (dotnet) {\r\n",
       "                    dotnet.init(window);\r\n",
       "                },\r\n",
       "                function (error) {\r\n",
       "                    console.log(error);\r\n",
       "                }\r\n",
       "            );\r\n",
       "        })\r\n",
       "        .catch(error => {console.log(error);});\r\n",
       "    }\r\n",
       "    </script>\r\n",
       "</div>"
      ]
     },
     "metadata": {},
     "output_type": "display_data"
    }
   ],
   "source": [
    "using System;\n",
    "// using System.Collections.Generic;\n",
    "// using System.Linq; \n",
    "// using System.Text;\n",
    "// using System.Threading.Tasks;\n"
   ]
  },
  {
   "cell_type": "markdown",
   "metadata": {},
   "source": [
    "## Nulllable Types\n",
    "\n",
    "____\n",
    "\n",
    "\n",
    "\n",
    "What are they and why do we need it? What are the data types that we use the most? It will be value types. But value types cannot be null, and will throw an error, if we pass null to it.  How do we solve this quite obious problem, since there will be times when we dont want to have value for these types. E.g. bool must be true or false, but we dont want a value yet, e.g. at the start of filling in form.\n",
    "\n",
    "Lets say we dealing with database and have customer field, called birthday,and sometime people do not want to suppy their birthday.\n",
    "\n",
    "Here we need to use a nullable type.\n",
    "\n",
    "```\n",
    "DateTime date = null; \n",
    "(1,17): error CS0037: Cannot convert null to 'DateTime' because it is a non-nullable value type\n",
    "```\n",
    "The above will not work, since we cannot set a value type to null\n",
    "\n",
    "We use the Nullable type. It is a generic structure, of which we need to pass the datatype.\n",
    "\n",
    "Syntax\n",
    "1. Nullable type\n",
    "\n",
    "```\n",
    "Nullable<DateTime> date = null\n",
    "```\n",
    "\n",
    "And it will be able to store null values.\n",
    "\n",
    "We can shorten the format to\n",
    "\n",
    "Synax\n",
    "\n",
    "1. ?, question mark\n",
    "\n",
    "```\n",
    "DateTime? date = null;\n",
    "```\n",
    "\n",
    "Without using any of the extension methods below, we just get ```Date``` output. To get something more meaningful, we use the following methods below.\n",
    "\n",
    "Once we declare it as Nullable, we get the following extension method.\n",
    "\n",
    "1. GetValueOrDefault\n",
    "2. HasValue\n",
    "3. Value\n",
    "\n",
    "\n",
    "So by using ```GetValueOrDefault```, we can pass nullable type to a non nullable type.\n",
    "\n",
    "```\n",
    "DateTime? date = null;\n",
    "Date Time date2 = date //This will cause an error\n",
    "```\n",
    "\n",
    "So we apply ```GetValueOrDefault```\n",
    "\n",
    "```\n",
    "DateTime? date = null;\n",
    "Date Time date2 = date.GetValueOrDefault();\n",
    "```\n",
    "But what does this mean? If date has a value, it will be displayed, if not, then a default value will be displayed.\n",
    "\n",
    "The date.Value will cause an error ```System.InvalidOperationException: Nullable object must have a value.```\n",
    "\n",
    "In addition to applying the Nullable type, we in addition need to CHECK for null.\n",
    "\n",
    "We know we cannot pass a nullable type to non-nullable type, wihout using the GetValueOrDefault method.\n",
    "\n",
    "```\n",
    "DateTime? date = null;\n",
    "Date Time date2 = date //This will cause an error (see above how we solved)\n",
    "```\n",
    "\n",
    "Can we do the opposite, yes we can:pass a non-nullable  to nullable type\n",
    "\n",
    "\n",
    "DateTime? date = null;\n",
    "DateTime date2 = date.GetValueOrDefault();\n",
    "DateTime? date3 = data2 //no problems\n",
    " \n",
    "\n"
   ]
  },
  {
   "cell_type": "code",
   "execution_count": 2,
   "metadata": {},
   "outputs": [
    {
     "name": "stdout",
     "output_type": "stream",
     "text": [
      "Date \n"
     ]
    }
   ],
   "source": [
    "Nullable<DateTime> date = null;\n",
    "Console.WriteLine(\"Date {0}\",date);"
   ]
  },
  {
   "cell_type": "code",
   "execution_count": 3,
   "metadata": {},
   "outputs": [
    {
     "name": "stdout",
     "output_type": "stream",
     "text": [
      "Date \n"
     ]
    }
   ],
   "source": [
    "DateTime? date = null;\n",
    "Console.WriteLine(\"Date {0}\",date);"
   ]
  },
  {
   "cell_type": "code",
   "execution_count": 4,
   "metadata": {},
   "outputs": [
    {
     "name": "stdout",
     "output_type": "stream",
     "text": [
      "GetValueOrDefault 0001/01/01 00:00:00\n",
      "HasValue False\n"
     ]
    }
   ],
   "source": [
    "DateTime? date = null;\n",
    "Console.WriteLine(\"GetValueOrDefault {0}\",date.GetValueOrDefault());\n",
    "Console.WriteLine(\"HasValue {0}\",date.HasValue);\n",
    "//Console.WriteLine(\"Value {0}\",date.Value); //this will error, as WE DO NOT HAVE A VALUE\n",
    "//(System.InvalidOperationException: Nullable object must have a value.)"
   ]
  },
  {
   "cell_type": "code",
   "execution_count": 5,
   "metadata": {},
   "outputs": [
    {
     "name": "stdout",
     "output_type": "stream",
     "text": [
      "Date 0001/01/01 00:00:00\n"
     ]
    }
   ],
   "source": [
    "DateTime? date = null;\n",
    "DateTime date2 = date.GetValueOrDefault();\n",
    "Console.WriteLine(\"Date {0}\",date2);"
   ]
  },
  {
   "cell_type": "code",
   "execution_count": 6,
   "metadata": {},
   "outputs": [
    {
     "name": "stdout",
     "output_type": "stream",
     "text": [
      "Date 0001/01/01 00:00:00\n"
     ]
    }
   ],
   "source": [
    "DateTime? date = null;\n",
    "DateTime date2 = date.GetValueOrDefault();\n",
    "Console.WriteLine(\"Date {0}\",date2);"
   ]
  },
  {
   "cell_type": "code",
   "execution_count": 7,
   "metadata": {},
   "outputs": [
    {
     "name": "stdout",
     "output_type": "stream",
     "text": [
      "Date 2020/05/29 00:00:00\n"
     ]
    }
   ],
   "source": [
    "DateTime? date = null;\n",
    "DateTime date2 = new DateTime(2020,05,29);\n",
    "Console.WriteLine(\"Date {0}\",date2);"
   ]
  },
  {
   "cell_type": "markdown",
   "metadata": {},
   "source": [
    "## Null Coalescing Operator\n",
    "\n",
    "____\n",
    "\n",
    "In short is similar to tenary operator\n",
    "\n",
    "1. Much Shorted\n",
    "2. Only test for the existence of null\n",
    "\n",
    "We start off with\n",
    "\n",
    "```\n",
    "DateTime? date = null;\n",
    "DateTime date2;\n",
    "\n",
    "```\n",
    "\n",
    "We want to \n",
    "\n",
    "1. Check if date, is null, then pass todays date\n",
    "2. Or if not null, Set date2 to date\n",
    "\n",
    "```\n",
    "if (date !=null)\n",
    "    date2 = date.GetValueOrDefault();\n",
    "else\n",
    "    date2 = DateTime.Today; //date is null\n",
    "\n",
    "```\n",
    "\n",
    "The above can be written in much shorter way...\n",
    "\n",
    "```\n",
    "DateTime date2 = date??DateTime.Today; \n",
    "```\n",
    "\n",
    "How do we read it? If date has a value, then set date2 = date, else if null, then set to DateTime.Today;\n",
    "\n",
    "\n",
    "Does the same as\n",
    "\n",
    "```\n",
    "DateTime date2 = (date !=null) ? date.GetValueOrDefault() : DateTime.Today; \n",
    "```\n",
    "\n",
    "But null coalesve  is much better"
   ]
  },
  {
   "cell_type": "code",
   "execution_count": 8,
   "metadata": {},
   "outputs": [],
   "source": [
    "DateTime? date = null;\n",
    "DateTime date2;"
   ]
  },
  {
   "cell_type": "code",
   "execution_count": 9,
   "metadata": {},
   "outputs": [
    {
     "name": "stdout",
     "output_type": "stream",
     "text": [
      "2020/05/28 00:00:00\n"
     ]
    }
   ],
   "source": [
    "if (date !=null)\n",
    "    date2 = date.GetValueOrDefault();\n",
    "else\n",
    "    date2 = DateTime.Today; //date is null\n",
    "Console.WriteLine(date2);"
   ]
  },
  {
   "cell_type": "code",
   "execution_count": 10,
   "metadata": {},
   "outputs": [
    {
     "name": "stdout",
     "output_type": "stream",
     "text": [
      "2020/05/28 00:00:00\n"
     ]
    }
   ],
   "source": [
    "DateTime? date = null;\n",
    "DateTime date2 = date??DateTime.Today; \n",
    "Console.WriteLine(date2);"
   ]
  },
  {
   "cell_type": "code",
   "execution_count": 11,
   "metadata": {},
   "outputs": [
    {
     "name": "stdout",
     "output_type": "stream",
     "text": [
      "2020/05/28 00:00:00\n"
     ]
    }
   ],
   "source": [
    "//Tenary way - old way\n",
    "DateTime? date = null;\n",
    "DateTime date2 = (date !=null) ? date.GetValueOrDefault() : DateTime.Today; \n",
    "Console.WriteLine(date2);"
   ]
  },
  {
   "cell_type": "code",
   "execution_count": null,
   "metadata": {},
   "outputs": [],
   "source": []
  },
  {
   "cell_type": "code",
   "execution_count": null,
   "metadata": {},
   "outputs": [],
   "source": []
  }
 ],
 "metadata": {
  "kernelspec": {
   "display_name": ".NET (C#)",
   "language": "C#",
   "name": ".net-csharp"
  },
  "language_info": {
   "file_extension": ".cs",
   "mimetype": "text/x-csharp",
   "name": "C#",
   "pygments_lexer": "csharp",
   "version": "8.0"
  }
 },
 "nbformat": 4,
 "nbformat_minor": 4
}
